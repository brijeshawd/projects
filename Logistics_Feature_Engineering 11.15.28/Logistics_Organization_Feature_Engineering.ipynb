{
  "nbformat": 4,
  "nbformat_minor": 0,
  "metadata": {
    "colab": {
      "provenance": []
    },
    "kernelspec": {
      "name": "python3",
      "display_name": "Python 3"
    },
    "language_info": {
      "name": "python"
    }
  },
  "cells": [
    {
      "cell_type": "markdown",
      "source": [
        "**Introduction**\n",
        "\n",
        "The Dataset belongs to Indian logistics and supply chain company which provide delivery services to a number of e-commerce companies. Since the data is at the segment level, each row represents a single segment with its own source, destination, distance, and time. Additionally, it has an open source route engine time and distance calculator that determines the quickest route taking into account traffic and other uncontrollable variables. There are two types of routes, which indicate how shipments will be transported. Since there are no additional stops along the road for pickups or drops, truck loads are employed for longer distances. Shorter distances are covered by carting."
      ],
      "metadata": {
        "id": "UdVPSuTnqWfq"
      }
    },
    {
      "cell_type": "markdown",
      "source": [
        "**Problem Statement**\n",
        "\n",
        "Performing Univariate and Bi-Variate analysis to understand what factors like route type, source, destination are playing major role in increasing/ decreasing actual and segment time. Also extract features like city, states, day, month and check if those are affecting actual time. Find Outliers and missing values and way to handle them."
      ],
      "metadata": {
        "id": "KbVcQKxvrNKu"
      }
    },
    {
      "cell_type": "markdown",
      "source": [
        "**Importing Required Libraries**"
      ],
      "metadata": {
        "id": "Vs2pHiMzqPVg"
      }
    },
    {
      "cell_type": "code",
      "execution_count": 103,
      "metadata": {
        "id": "agSfcgjNqIsn"
      },
      "outputs": [],
      "source": [
        "import numpy as np\n",
        "import pandas as pd\n",
        "import seaborn as sns\n",
        "import matplotlib.pyplot as plt\n",
        "from scipy.stats import ttest_ind\n",
        "from scipy.stats import kstest\n",
        "from scipy.stats import chi2_contingency\n",
        "from scipy.stats import pearsonr\n",
        "from sklearn.preprocessing import StandardScaler\n",
        "from sklearn.preprocessing import OneHotEncoder\n",
        "from termcolor import colored"
      ]
    },
    {
      "cell_type": "code",
      "source": [
        "df=pd.read_csv(\"data.csv\")\n",
        "df.head()\n",
        "# output is hidden due to organization policy and to manitain confidentiality"
      ],
      "metadata": {
        "id": "kE8zcVAarQ_z"
      },
      "execution_count": null,
      "outputs": []
    },
    {
      "cell_type": "markdown",
      "source": [
        "**Basics Metrics**"
      ],
      "metadata": {
        "id": "BWbJMFvV8MiG"
      }
    },
    {
      "cell_type": "code",
      "source": [
        "#shape of the dataset\n",
        "print(\"Total no. of rows->\",df.shape[0])"
      ],
      "metadata": {
        "colab": {
          "base_uri": "https://localhost:8080/",
          "height": 0
        },
        "id": "59yGfZEhrhI2",
        "outputId": "df7fcdb5-5224-40b1-dbde-cdaa92f25f6c"
      },
      "execution_count": 105,
      "outputs": [
        {
          "output_type": "stream",
          "name": "stdout",
          "text": [
            "Total no. of rows-> 144867\n"
          ]
        }
      ]
    },
    {
      "cell_type": "code",
      "source": [
        "df.columns"
      ],
      "metadata": {
        "colab": {
          "base_uri": "https://localhost:8080/",
          "height": 0
        },
        "id": "3T-HR4OC8QNh",
        "outputId": "bdc8ace1-b66b-43cf-b98d-5147982ed620"
      },
      "execution_count": 106,
      "outputs": [
        {
          "output_type": "execute_result",
          "data": {
            "text/plain": [
              "Index(['data', 'trip_creation_time', 'route_schedule_uuid', 'route_type',\n",
              "       'trip_uuid', 'source_center', 'source_name', 'destination_center',\n",
              "       'destination_name', 'od_start_time', 'od_end_time',\n",
              "       'start_scan_to_end_scan', 'is_cutoff', 'cutoff_factor',\n",
              "       'cutoff_timestamp', 'actual_distance_to_destination', 'actual_time',\n",
              "       'osrm_time', 'osrm_distance', 'factor', 'segment_actual_time',\n",
              "       'segment_osrm_time', 'segment_osrm_distance', 'segment_factor'],\n",
              "      dtype='object')"
            ]
          },
          "metadata": {},
          "execution_count": 106
        }
      ]
    },
    {
      "cell_type": "code",
      "source": [
        "df.info()"
      ],
      "metadata": {
        "colab": {
          "base_uri": "https://localhost:8080/",
          "height": 0
        },
        "id": "RK-StnXh7GGD",
        "outputId": "3b01fd9f-d45e-4c94-f415-af3c43c63942"
      },
      "execution_count": 107,
      "outputs": [
        {
          "output_type": "stream",
          "name": "stdout",
          "text": [
            "<class 'pandas.core.frame.DataFrame'>\n",
            "RangeIndex: 144867 entries, 0 to 144866\n",
            "Data columns (total 24 columns):\n",
            " #   Column                          Non-Null Count   Dtype  \n",
            "---  ------                          --------------   -----  \n",
            " 0   data                            144867 non-null  object \n",
            " 1   trip_creation_time              144867 non-null  object \n",
            " 2   route_schedule_uuid             144867 non-null  object \n",
            " 3   route_type                      144867 non-null  object \n",
            " 4   trip_uuid                       144867 non-null  object \n",
            " 5   source_center                   144867 non-null  object \n",
            " 6   source_name                     144574 non-null  object \n",
            " 7   destination_center              144867 non-null  object \n",
            " 8   destination_name                144606 non-null  object \n",
            " 9   od_start_time                   144867 non-null  object \n",
            " 10  od_end_time                     144867 non-null  object \n",
            " 11  start_scan_to_end_scan          144867 non-null  float64\n",
            " 12  is_cutoff                       144867 non-null  bool   \n",
            " 13  cutoff_factor                   144867 non-null  int64  \n",
            " 14  cutoff_timestamp                144867 non-null  object \n",
            " 15  actual_distance_to_destination  144867 non-null  float64\n",
            " 16  actual_time                     144867 non-null  float64\n",
            " 17  osrm_time                       144867 non-null  float64\n",
            " 18  osrm_distance                   144867 non-null  float64\n",
            " 19  factor                          144867 non-null  float64\n",
            " 20  segment_actual_time             144867 non-null  float64\n",
            " 21  segment_osrm_time               144867 non-null  float64\n",
            " 22  segment_osrm_distance           144867 non-null  float64\n",
            " 23  segment_factor                  144867 non-null  float64\n",
            "dtypes: bool(1), float64(10), int64(1), object(12)\n",
            "memory usage: 25.6+ MB\n"
          ]
        }
      ]
    },
    {
      "cell_type": "markdown",
      "source": [
        "Few columns like source center, source name, destination center, destination name, route type are of object type where as columns like actual time, actual distance, segment times, segment distance are of numerical type."
      ],
      "metadata": {
        "id": "OzqyHfemRNB0"
      }
    },
    {
      "cell_type": "code",
      "source": [
        "#checking null values\n",
        "round((df.isnull().sum()/len(df))*100,2)"
      ],
      "metadata": {
        "colab": {
          "base_uri": "https://localhost:8080/",
          "height": 0
        },
        "id": "w3hanwRo7Z1F",
        "outputId": "96787a7f-0357-4b11-b762-18397089de09"
      },
      "execution_count": 108,
      "outputs": [
        {
          "output_type": "execute_result",
          "data": {
            "text/plain": [
              "data                              0.00\n",
              "trip_creation_time                0.00\n",
              "route_schedule_uuid               0.00\n",
              "route_type                        0.00\n",
              "trip_uuid                         0.00\n",
              "source_center                     0.00\n",
              "source_name                       0.20\n",
              "destination_center                0.00\n",
              "destination_name                  0.18\n",
              "od_start_time                     0.00\n",
              "od_end_time                       0.00\n",
              "start_scan_to_end_scan            0.00\n",
              "is_cutoff                         0.00\n",
              "cutoff_factor                     0.00\n",
              "cutoff_timestamp                  0.00\n",
              "actual_distance_to_destination    0.00\n",
              "actual_time                       0.00\n",
              "osrm_time                         0.00\n",
              "osrm_distance                     0.00\n",
              "factor                            0.00\n",
              "segment_actual_time               0.00\n",
              "segment_osrm_time                 0.00\n",
              "segment_osrm_distance             0.00\n",
              "segment_factor                    0.00\n",
              "dtype: float64"
            ]
          },
          "metadata": {},
          "execution_count": 108
        }
      ]
    },
    {
      "cell_type": "markdown",
      "source": [
        "source_center and destination name has some missing values but percentage is very less so these can be dropped."
      ],
      "metadata": {
        "id": "ES-Ck0ia7nUF"
      }
    },
    {
      "cell_type": "code",
      "source": [
        "#checking for duplicated rows\n",
        "np.any(df.duplicated())"
      ],
      "metadata": {
        "colab": {
          "base_uri": "https://localhost:8080/",
          "height": 0
        },
        "id": "l-HzpYop8djz",
        "outputId": "99913192-822c-447b-f97d-f0dd9446c391"
      },
      "execution_count": 109,
      "outputs": [
        {
          "output_type": "execute_result",
          "data": {
            "text/plain": [
              "False"
            ]
          },
          "metadata": {},
          "execution_count": 109
        }
      ]
    },
    {
      "cell_type": "markdown",
      "source": [
        "There are no duplicated rows in dataset"
      ],
      "metadata": {
        "id": "M_S1I2CX8m1r"
      }
    },
    {
      "cell_type": "code",
      "source": [
        "df.describe(include=\"object\")"
      ],
      "metadata": {
        "colab": {
          "base_uri": "https://localhost:8080/",
          "height": 274
        },
        "id": "Qwb3zorGR6e4",
        "outputId": "93554ece-43ff-42bc-950a-0ddb5bbf13b4"
      },
      "execution_count": 110,
      "outputs": [
        {
          "output_type": "execute_result",
          "data": {
            "text/plain": [
              "            data          trip_creation_time  \\\n",
              "count     144867                      144867   \n",
              "unique         2                       14817   \n",
              "top     training  2018-09-28 05:23:15.359220   \n",
              "freq      104858                         101   \n",
              "\n",
              "                                      route_schedule_uuid route_type  \\\n",
              "count                                              144867     144867   \n",
              "unique                                               1504          2   \n",
              "top     thanos::sroute:4029a8a2-6c74-4b7e-a6d8-f9e069f...        FTL   \n",
              "freq                                                 1812      99660   \n",
              "\n",
              "                      trip_uuid source_center                    source_name  \\\n",
              "count                    144867        144867                         144574   \n",
              "unique                    14817          1508                           1498   \n",
              "top     trip-153811219535896559  IND000000ACB  Gurgaon_Bilaspur_HB (Haryana)   \n",
              "freq                        101         23347                          23347   \n",
              "\n",
              "       destination_center               destination_name  \\\n",
              "count              144867                         144606   \n",
              "unique               1481                           1468   \n",
              "top          IND000000ACB  Gurgaon_Bilaspur_HB (Haryana)   \n",
              "freq                15192                          15192   \n",
              "\n",
              "                     od_start_time                 od_end_time  \\\n",
              "count                       144867                      144867   \n",
              "unique                       26369                       26369   \n",
              "top     2018-09-21 18:37:09.322207  2018-09-24 09:59:15.691618   \n",
              "freq                            81                          81   \n",
              "\n",
              "           cutoff_timestamp  \n",
              "count                144867  \n",
              "unique                93180  \n",
              "top     2018-09-24 05:19:20  \n",
              "freq                     40  "
            ],
            "text/html": [
              "\n",
              "  <div id=\"df-0ae084b6-9a66-44ff-8d02-bcf2e5989def\">\n",
              "    <div class=\"colab-df-container\">\n",
              "      <div>\n",
              "<style scoped>\n",
              "    .dataframe tbody tr th:only-of-type {\n",
              "        vertical-align: middle;\n",
              "    }\n",
              "\n",
              "    .dataframe tbody tr th {\n",
              "        vertical-align: top;\n",
              "    }\n",
              "\n",
              "    .dataframe thead th {\n",
              "        text-align: right;\n",
              "    }\n",
              "</style>\n",
              "<table border=\"1\" class=\"dataframe\">\n",
              "  <thead>\n",
              "    <tr style=\"text-align: right;\">\n",
              "      <th></th>\n",
              "      <th>data</th>\n",
              "      <th>trip_creation_time</th>\n",
              "      <th>route_schedule_uuid</th>\n",
              "      <th>route_type</th>\n",
              "      <th>trip_uuid</th>\n",
              "      <th>source_center</th>\n",
              "      <th>source_name</th>\n",
              "      <th>destination_center</th>\n",
              "      <th>destination_name</th>\n",
              "      <th>od_start_time</th>\n",
              "      <th>od_end_time</th>\n",
              "      <th>cutoff_timestamp</th>\n",
              "    </tr>\n",
              "  </thead>\n",
              "  <tbody>\n",
              "    <tr>\n",
              "      <th>count</th>\n",
              "      <td>144867</td>\n",
              "      <td>144867</td>\n",
              "      <td>144867</td>\n",
              "      <td>144867</td>\n",
              "      <td>144867</td>\n",
              "      <td>144867</td>\n",
              "      <td>144574</td>\n",
              "      <td>144867</td>\n",
              "      <td>144606</td>\n",
              "      <td>144867</td>\n",
              "      <td>144867</td>\n",
              "      <td>144867</td>\n",
              "    </tr>\n",
              "    <tr>\n",
              "      <th>unique</th>\n",
              "      <td>2</td>\n",
              "      <td>14817</td>\n",
              "      <td>1504</td>\n",
              "      <td>2</td>\n",
              "      <td>14817</td>\n",
              "      <td>1508</td>\n",
              "      <td>1498</td>\n",
              "      <td>1481</td>\n",
              "      <td>1468</td>\n",
              "      <td>26369</td>\n",
              "      <td>26369</td>\n",
              "      <td>93180</td>\n",
              "    </tr>\n",
              "    <tr>\n",
              "      <th>top</th>\n",
              "      <td>training</td>\n",
              "      <td>2018-09-28 05:23:15.359220</td>\n",
              "      <td>thanos::sroute:4029a8a2-6c74-4b7e-a6d8-f9e069f...</td>\n",
              "      <td>FTL</td>\n",
              "      <td>trip-153811219535896559</td>\n",
              "      <td>IND000000ACB</td>\n",
              "      <td>Gurgaon_Bilaspur_HB (Haryana)</td>\n",
              "      <td>IND000000ACB</td>\n",
              "      <td>Gurgaon_Bilaspur_HB (Haryana)</td>\n",
              "      <td>2018-09-21 18:37:09.322207</td>\n",
              "      <td>2018-09-24 09:59:15.691618</td>\n",
              "      <td>2018-09-24 05:19:20</td>\n",
              "    </tr>\n",
              "    <tr>\n",
              "      <th>freq</th>\n",
              "      <td>104858</td>\n",
              "      <td>101</td>\n",
              "      <td>1812</td>\n",
              "      <td>99660</td>\n",
              "      <td>101</td>\n",
              "      <td>23347</td>\n",
              "      <td>23347</td>\n",
              "      <td>15192</td>\n",
              "      <td>15192</td>\n",
              "      <td>81</td>\n",
              "      <td>81</td>\n",
              "      <td>40</td>\n",
              "    </tr>\n",
              "  </tbody>\n",
              "</table>\n",
              "</div>\n",
              "      <button class=\"colab-df-convert\" onclick=\"convertToInteractive('df-0ae084b6-9a66-44ff-8d02-bcf2e5989def')\"\n",
              "              title=\"Convert this dataframe to an interactive table.\"\n",
              "              style=\"display:none;\">\n",
              "        \n",
              "  <svg xmlns=\"http://www.w3.org/2000/svg\" height=\"24px\"viewBox=\"0 0 24 24\"\n",
              "       width=\"24px\">\n",
              "    <path d=\"M0 0h24v24H0V0z\" fill=\"none\"/>\n",
              "    <path d=\"M18.56 5.44l.94 2.06.94-2.06 2.06-.94-2.06-.94-.94-2.06-.94 2.06-2.06.94zm-11 1L8.5 8.5l.94-2.06 2.06-.94-2.06-.94L8.5 2.5l-.94 2.06-2.06.94zm10 10l.94 2.06.94-2.06 2.06-.94-2.06-.94-.94-2.06-.94 2.06-2.06.94z\"/><path d=\"M17.41 7.96l-1.37-1.37c-.4-.4-.92-.59-1.43-.59-.52 0-1.04.2-1.43.59L10.3 9.45l-7.72 7.72c-.78.78-.78 2.05 0 2.83L4 21.41c.39.39.9.59 1.41.59.51 0 1.02-.2 1.41-.59l7.78-7.78 2.81-2.81c.8-.78.8-2.07 0-2.86zM5.41 20L4 18.59l7.72-7.72 1.47 1.35L5.41 20z\"/>\n",
              "  </svg>\n",
              "      </button>\n",
              "      \n",
              "  <style>\n",
              "    .colab-df-container {\n",
              "      display:flex;\n",
              "      flex-wrap:wrap;\n",
              "      gap: 12px;\n",
              "    }\n",
              "\n",
              "    .colab-df-convert {\n",
              "      background-color: #E8F0FE;\n",
              "      border: none;\n",
              "      border-radius: 50%;\n",
              "      cursor: pointer;\n",
              "      display: none;\n",
              "      fill: #1967D2;\n",
              "      height: 32px;\n",
              "      padding: 0 0 0 0;\n",
              "      width: 32px;\n",
              "    }\n",
              "\n",
              "    .colab-df-convert:hover {\n",
              "      background-color: #E2EBFA;\n",
              "      box-shadow: 0px 1px 2px rgba(60, 64, 67, 0.3), 0px 1px 3px 1px rgba(60, 64, 67, 0.15);\n",
              "      fill: #174EA6;\n",
              "    }\n",
              "\n",
              "    [theme=dark] .colab-df-convert {\n",
              "      background-color: #3B4455;\n",
              "      fill: #D2E3FC;\n",
              "    }\n",
              "\n",
              "    [theme=dark] .colab-df-convert:hover {\n",
              "      background-color: #434B5C;\n",
              "      box-shadow: 0px 1px 3px 1px rgba(0, 0, 0, 0.15);\n",
              "      filter: drop-shadow(0px 1px 2px rgba(0, 0, 0, 0.3));\n",
              "      fill: #FFFFFF;\n",
              "    }\n",
              "  </style>\n",
              "\n",
              "      <script>\n",
              "        const buttonEl =\n",
              "          document.querySelector('#df-0ae084b6-9a66-44ff-8d02-bcf2e5989def button.colab-df-convert');\n",
              "        buttonEl.style.display =\n",
              "          google.colab.kernel.accessAllowed ? 'block' : 'none';\n",
              "\n",
              "        async function convertToInteractive(key) {\n",
              "          const element = document.querySelector('#df-0ae084b6-9a66-44ff-8d02-bcf2e5989def');\n",
              "          const dataTable =\n",
              "            await google.colab.kernel.invokeFunction('convertToInteractive',\n",
              "                                                     [key], {});\n",
              "          if (!dataTable) return;\n",
              "\n",
              "          const docLinkHtml = 'Like what you see? Visit the ' +\n",
              "            '<a target=\"_blank\" href=https://colab.research.google.com/notebooks/data_table.ipynb>data table notebook</a>'\n",
              "            + ' to learn more about interactive tables.';\n",
              "          element.innerHTML = '';\n",
              "          dataTable['output_type'] = 'display_data';\n",
              "          await google.colab.output.renderOutput(dataTable, element);\n",
              "          const docLink = document.createElement('div');\n",
              "          docLink.innerHTML = docLinkHtml;\n",
              "          element.appendChild(docLink);\n",
              "        }\n",
              "      </script>\n",
              "    </div>\n",
              "  </div>\n",
              "  "
            ]
          },
          "metadata": {},
          "execution_count": 110
        }
      ]
    },
    {
      "cell_type": "markdown",
      "source": [
        "**Observations:**\n",
        "\n",
        "1. There are 2 types of unique data available of which training occurs 104858 times.\n",
        "2. There are 2 types of unique route type available of which FTL occurs 99660 times.\n",
        "3. There are 1508 unique source center with occurance of \"IND000000ACB\" 23347 times which have source Gurgaon, Haryana state with 1498 times that depicts source center have some null values.\n",
        "4. There are 1481 unique destination center with occurance of \"IND000000ACB\" 15192 times which have destination Gurgaon, Haryana state with 1468 times that depicts destination center have some null values."
      ],
      "metadata": {
        "id": "3AXBI1y9SAca"
      }
    },
    {
      "cell_type": "code",
      "source": [
        "df.describe()"
      ],
      "metadata": {
        "colab": {
          "base_uri": "https://localhost:8080/",
          "height": 364
        },
        "id": "UcuZ5NWm8yRh",
        "outputId": "3a4e7d68-e11c-459a-802a-f0e3f698a7aa"
      },
      "execution_count": 111,
      "outputs": [
        {
          "output_type": "execute_result",
          "data": {
            "text/plain": [
              "       start_scan_to_end_scan  cutoff_factor  actual_distance_to_destination  \\\n",
              "count           144867.000000  144867.000000                   144867.000000   \n",
              "mean               961.262986     232.926567                      234.073372   \n",
              "std               1037.012769     344.755577                      344.990009   \n",
              "min                 20.000000       9.000000                        9.000045   \n",
              "25%                161.000000      22.000000                       23.355874   \n",
              "50%                449.000000      66.000000                       66.126571   \n",
              "75%               1634.000000     286.000000                      286.708875   \n",
              "max               7898.000000    1927.000000                     1927.447705   \n",
              "\n",
              "         actual_time      osrm_time  osrm_distance         factor  \\\n",
              "count  144867.000000  144867.000000  144867.000000  144867.000000   \n",
              "mean      416.927527     213.868272     284.771297       2.120107   \n",
              "std       598.103621     308.011085     421.119294       1.715421   \n",
              "min         9.000000       6.000000       9.008200       0.144000   \n",
              "25%        51.000000      27.000000      29.914700       1.604264   \n",
              "50%       132.000000      64.000000      78.525800       1.857143   \n",
              "75%       513.000000     257.000000     343.193250       2.213483   \n",
              "max      4532.000000    1686.000000    2326.199100      77.387097   \n",
              "\n",
              "       segment_actual_time  segment_osrm_time  segment_osrm_distance  \\\n",
              "count        144867.000000      144867.000000           144867.00000   \n",
              "mean             36.196111          18.507548               22.82902   \n",
              "std              53.571158          14.775960               17.86066   \n",
              "min            -244.000000           0.000000                0.00000   \n",
              "25%              20.000000          11.000000               12.07010   \n",
              "50%              29.000000          17.000000               23.51300   \n",
              "75%              40.000000          22.000000               27.81325   \n",
              "max            3051.000000        1611.000000             2191.40370   \n",
              "\n",
              "       segment_factor  \n",
              "count   144867.000000  \n",
              "mean         2.218368  \n",
              "std          4.847530  \n",
              "min        -23.444444  \n",
              "25%          1.347826  \n",
              "50%          1.684211  \n",
              "75%          2.250000  \n",
              "max        574.250000  "
            ],
            "text/html": [
              "\n",
              "  <div id=\"df-037e3a5d-ca40-4d1b-89f0-b1e8062bb987\">\n",
              "    <div class=\"colab-df-container\">\n",
              "      <div>\n",
              "<style scoped>\n",
              "    .dataframe tbody tr th:only-of-type {\n",
              "        vertical-align: middle;\n",
              "    }\n",
              "\n",
              "    .dataframe tbody tr th {\n",
              "        vertical-align: top;\n",
              "    }\n",
              "\n",
              "    .dataframe thead th {\n",
              "        text-align: right;\n",
              "    }\n",
              "</style>\n",
              "<table border=\"1\" class=\"dataframe\">\n",
              "  <thead>\n",
              "    <tr style=\"text-align: right;\">\n",
              "      <th></th>\n",
              "      <th>start_scan_to_end_scan</th>\n",
              "      <th>cutoff_factor</th>\n",
              "      <th>actual_distance_to_destination</th>\n",
              "      <th>actual_time</th>\n",
              "      <th>osrm_time</th>\n",
              "      <th>osrm_distance</th>\n",
              "      <th>factor</th>\n",
              "      <th>segment_actual_time</th>\n",
              "      <th>segment_osrm_time</th>\n",
              "      <th>segment_osrm_distance</th>\n",
              "      <th>segment_factor</th>\n",
              "    </tr>\n",
              "  </thead>\n",
              "  <tbody>\n",
              "    <tr>\n",
              "      <th>count</th>\n",
              "      <td>144867.000000</td>\n",
              "      <td>144867.000000</td>\n",
              "      <td>144867.000000</td>\n",
              "      <td>144867.000000</td>\n",
              "      <td>144867.000000</td>\n",
              "      <td>144867.000000</td>\n",
              "      <td>144867.000000</td>\n",
              "      <td>144867.000000</td>\n",
              "      <td>144867.000000</td>\n",
              "      <td>144867.00000</td>\n",
              "      <td>144867.000000</td>\n",
              "    </tr>\n",
              "    <tr>\n",
              "      <th>mean</th>\n",
              "      <td>961.262986</td>\n",
              "      <td>232.926567</td>\n",
              "      <td>234.073372</td>\n",
              "      <td>416.927527</td>\n",
              "      <td>213.868272</td>\n",
              "      <td>284.771297</td>\n",
              "      <td>2.120107</td>\n",
              "      <td>36.196111</td>\n",
              "      <td>18.507548</td>\n",
              "      <td>22.82902</td>\n",
              "      <td>2.218368</td>\n",
              "    </tr>\n",
              "    <tr>\n",
              "      <th>std</th>\n",
              "      <td>1037.012769</td>\n",
              "      <td>344.755577</td>\n",
              "      <td>344.990009</td>\n",
              "      <td>598.103621</td>\n",
              "      <td>308.011085</td>\n",
              "      <td>421.119294</td>\n",
              "      <td>1.715421</td>\n",
              "      <td>53.571158</td>\n",
              "      <td>14.775960</td>\n",
              "      <td>17.86066</td>\n",
              "      <td>4.847530</td>\n",
              "    </tr>\n",
              "    <tr>\n",
              "      <th>min</th>\n",
              "      <td>20.000000</td>\n",
              "      <td>9.000000</td>\n",
              "      <td>9.000045</td>\n",
              "      <td>9.000000</td>\n",
              "      <td>6.000000</td>\n",
              "      <td>9.008200</td>\n",
              "      <td>0.144000</td>\n",
              "      <td>-244.000000</td>\n",
              "      <td>0.000000</td>\n",
              "      <td>0.00000</td>\n",
              "      <td>-23.444444</td>\n",
              "    </tr>\n",
              "    <tr>\n",
              "      <th>25%</th>\n",
              "      <td>161.000000</td>\n",
              "      <td>22.000000</td>\n",
              "      <td>23.355874</td>\n",
              "      <td>51.000000</td>\n",
              "      <td>27.000000</td>\n",
              "      <td>29.914700</td>\n",
              "      <td>1.604264</td>\n",
              "      <td>20.000000</td>\n",
              "      <td>11.000000</td>\n",
              "      <td>12.07010</td>\n",
              "      <td>1.347826</td>\n",
              "    </tr>\n",
              "    <tr>\n",
              "      <th>50%</th>\n",
              "      <td>449.000000</td>\n",
              "      <td>66.000000</td>\n",
              "      <td>66.126571</td>\n",
              "      <td>132.000000</td>\n",
              "      <td>64.000000</td>\n",
              "      <td>78.525800</td>\n",
              "      <td>1.857143</td>\n",
              "      <td>29.000000</td>\n",
              "      <td>17.000000</td>\n",
              "      <td>23.51300</td>\n",
              "      <td>1.684211</td>\n",
              "    </tr>\n",
              "    <tr>\n",
              "      <th>75%</th>\n",
              "      <td>1634.000000</td>\n",
              "      <td>286.000000</td>\n",
              "      <td>286.708875</td>\n",
              "      <td>513.000000</td>\n",
              "      <td>257.000000</td>\n",
              "      <td>343.193250</td>\n",
              "      <td>2.213483</td>\n",
              "      <td>40.000000</td>\n",
              "      <td>22.000000</td>\n",
              "      <td>27.81325</td>\n",
              "      <td>2.250000</td>\n",
              "    </tr>\n",
              "    <tr>\n",
              "      <th>max</th>\n",
              "      <td>7898.000000</td>\n",
              "      <td>1927.000000</td>\n",
              "      <td>1927.447705</td>\n",
              "      <td>4532.000000</td>\n",
              "      <td>1686.000000</td>\n",
              "      <td>2326.199100</td>\n",
              "      <td>77.387097</td>\n",
              "      <td>3051.000000</td>\n",
              "      <td>1611.000000</td>\n",
              "      <td>2191.40370</td>\n",
              "      <td>574.250000</td>\n",
              "    </tr>\n",
              "  </tbody>\n",
              "</table>\n",
              "</div>\n",
              "      <button class=\"colab-df-convert\" onclick=\"convertToInteractive('df-037e3a5d-ca40-4d1b-89f0-b1e8062bb987')\"\n",
              "              title=\"Convert this dataframe to an interactive table.\"\n",
              "              style=\"display:none;\">\n",
              "        \n",
              "  <svg xmlns=\"http://www.w3.org/2000/svg\" height=\"24px\"viewBox=\"0 0 24 24\"\n",
              "       width=\"24px\">\n",
              "    <path d=\"M0 0h24v24H0V0z\" fill=\"none\"/>\n",
              "    <path d=\"M18.56 5.44l.94 2.06.94-2.06 2.06-.94-2.06-.94-.94-2.06-.94 2.06-2.06.94zm-11 1L8.5 8.5l.94-2.06 2.06-.94-2.06-.94L8.5 2.5l-.94 2.06-2.06.94zm10 10l.94 2.06.94-2.06 2.06-.94-2.06-.94-.94-2.06-.94 2.06-2.06.94z\"/><path d=\"M17.41 7.96l-1.37-1.37c-.4-.4-.92-.59-1.43-.59-.52 0-1.04.2-1.43.59L10.3 9.45l-7.72 7.72c-.78.78-.78 2.05 0 2.83L4 21.41c.39.39.9.59 1.41.59.51 0 1.02-.2 1.41-.59l7.78-7.78 2.81-2.81c.8-.78.8-2.07 0-2.86zM5.41 20L4 18.59l7.72-7.72 1.47 1.35L5.41 20z\"/>\n",
              "  </svg>\n",
              "      </button>\n",
              "      \n",
              "  <style>\n",
              "    .colab-df-container {\n",
              "      display:flex;\n",
              "      flex-wrap:wrap;\n",
              "      gap: 12px;\n",
              "    }\n",
              "\n",
              "    .colab-df-convert {\n",
              "      background-color: #E8F0FE;\n",
              "      border: none;\n",
              "      border-radius: 50%;\n",
              "      cursor: pointer;\n",
              "      display: none;\n",
              "      fill: #1967D2;\n",
              "      height: 32px;\n",
              "      padding: 0 0 0 0;\n",
              "      width: 32px;\n",
              "    }\n",
              "\n",
              "    .colab-df-convert:hover {\n",
              "      background-color: #E2EBFA;\n",
              "      box-shadow: 0px 1px 2px rgba(60, 64, 67, 0.3), 0px 1px 3px 1px rgba(60, 64, 67, 0.15);\n",
              "      fill: #174EA6;\n",
              "    }\n",
              "\n",
              "    [theme=dark] .colab-df-convert {\n",
              "      background-color: #3B4455;\n",
              "      fill: #D2E3FC;\n",
              "    }\n",
              "\n",
              "    [theme=dark] .colab-df-convert:hover {\n",
              "      background-color: #434B5C;\n",
              "      box-shadow: 0px 1px 3px 1px rgba(0, 0, 0, 0.15);\n",
              "      filter: drop-shadow(0px 1px 2px rgba(0, 0, 0, 0.3));\n",
              "      fill: #FFFFFF;\n",
              "    }\n",
              "  </style>\n",
              "\n",
              "      <script>\n",
              "        const buttonEl =\n",
              "          document.querySelector('#df-037e3a5d-ca40-4d1b-89f0-b1e8062bb987 button.colab-df-convert');\n",
              "        buttonEl.style.display =\n",
              "          google.colab.kernel.accessAllowed ? 'block' : 'none';\n",
              "\n",
              "        async function convertToInteractive(key) {\n",
              "          const element = document.querySelector('#df-037e3a5d-ca40-4d1b-89f0-b1e8062bb987');\n",
              "          const dataTable =\n",
              "            await google.colab.kernel.invokeFunction('convertToInteractive',\n",
              "                                                     [key], {});\n",
              "          if (!dataTable) return;\n",
              "\n",
              "          const docLinkHtml = 'Like what you see? Visit the ' +\n",
              "            '<a target=\"_blank\" href=https://colab.research.google.com/notebooks/data_table.ipynb>data table notebook</a>'\n",
              "            + ' to learn more about interactive tables.';\n",
              "          element.innerHTML = '';\n",
              "          dataTable['output_type'] = 'display_data';\n",
              "          await google.colab.output.renderOutput(dataTable, element);\n",
              "          const docLink = document.createElement('div');\n",
              "          docLink.innerHTML = docLinkHtml;\n",
              "          element.appendChild(docLink);\n",
              "        }\n",
              "      </script>\n",
              "    </div>\n",
              "  </div>\n",
              "  "
            ]
          },
          "metadata": {},
          "execution_count": 111
        }
      ]
    },
    {
      "cell_type": "markdown",
      "source": [
        "**Observations:**\n",
        "\n",
        "1. start to end time has mean value of 961 minutes with minimum time of 20 minutes and max of 7898. As max time is much larger than 75th percentile and standard deviation is also higher so it may have outliers.\n",
        "2. source to destination distance has mean value of 234 km with minimum dist of 9km and max of 1927. As max distance is much larger than 75th percentile and standard deviation is also higher so it may have outliers.\n",
        "3. actual time has mean value of 416 minutes with minimum time of 9 minutes and max of 4532. As max distance is much larger than 75th percentile and standard deviation is also higher so it may have outliers.\n",
        "4. The above pattern can be observed for all numerical columns so outliers may be present for all numerical variables."
      ],
      "metadata": {
        "id": "8C-ZbSSXTY7S"
      }
    },
    {
      "cell_type": "code",
      "source": [
        "col_list=[\"data\",\"route_type\",\"source_name\",\"destination_name\"]\n",
        "\n",
        "def value_check(df,col):\n",
        "  print(colored(\"Unique Values:\", color=\"blue\",attrs=[\"bold\"]))\n",
        "  print(df[col].unique())\n",
        "  print(colored(\"Value Counts:\", color=\"blue\",attrs=[\"bold\"]))\n",
        "  print(round(df[col].value_counts(normalize=True)*100,2))\n",
        "for col in col_list:\n",
        "  print(colored(str(col)+\"-\", color=\"red\",attrs=[\"bold\",\"underline\"]))\n",
        "  value_check(df,col)\n",
        "  print(\"\\n\")\n",
        "  print(\"-\"*50)"
      ],
      "metadata": {
        "colab": {
          "base_uri": "https://localhost:8080/",
          "height": 0
        },
        "id": "jGo9EGCS_-hs",
        "outputId": "a5f5a886-6228-45de-efd1-1e626433d376"
      },
      "execution_count": 112,
      "outputs": [
        {
          "output_type": "stream",
          "name": "stdout",
          "text": [
            "data-\n",
            "Unique Values:\n",
            "['training' 'test']\n",
            "Value Counts:\n",
            "training    72.38\n",
            "test        27.62\n",
            "Name: data, dtype: float64\n",
            "\n",
            "\n",
            "--------------------------------------------------\n",
            "route_type-\n",
            "Unique Values:\n",
            "['Carting' 'FTL']\n",
            "Value Counts:\n",
            "FTL        68.79\n",
            "Carting    31.21\n",
            "Name: route_type, dtype: float64\n",
            "\n",
            "\n",
            "--------------------------------------------------\n",
            "source_name-\n",
            "Unique Values:\n",
            "['Anand_VUNagar_DC (Gujarat)' 'Khambhat_MotvdDPP_D (Gujarat)'\n",
            " 'Bhiwandi_Mankoli_HB (Maharashtra)' ... 'Dwarka_StnRoad_DC (Gujarat)'\n",
            " 'Bengaluru_Nelmngla_L (Karnataka)' 'Kulithalai_AnnaNGR_D (Tamil Nadu)']\n",
            "Value Counts:\n",
            "Gurgaon_Bilaspur_HB (Haryana)            16.15\n",
            "Bangalore_Nelmngla_H (Karnataka)          6.90\n",
            "Bhiwandi_Mankoli_HB (Maharashtra)         6.29\n",
            "Pune_Tathawde_H (Maharashtra)             2.81\n",
            "Hyderabad_Shamshbd_H (Telangana)          2.31\n",
            "                                         ...  \n",
            "Shahjhnpur_NavdaCln_D (Uttar Pradesh)     0.00\n",
            "Soro_UttarDPP_D (Orissa)                  0.00\n",
            "Kayamkulam_Bhrnikvu_D (Kerala)            0.00\n",
            "Krishnanagar_AnadiDPP_D (West Bengal)     0.00\n",
            "Faridabad_Old (Haryana)                   0.00\n",
            "Name: source_name, Length: 1498, dtype: float64\n",
            "\n",
            "\n",
            "--------------------------------------------------\n",
            "destination_name-\n",
            "Unique Values:\n",
            "['Khambhat_MotvdDPP_D (Gujarat)' 'Anand_Vaghasi_IP (Gujarat)'\n",
            " 'Pune_Tathawde_H (Maharashtra)' ... 'Chennai_Mylapore (Tamil Nadu)'\n",
            " 'Naraingarh_Ward2DPP_D (Haryana)' 'Mumbai_Ghansoli_DC (Maharashtra)']\n",
            "Value Counts:\n",
            "Gurgaon_Bilaspur_HB (Haryana)        10.51\n",
            "Bangalore_Nelmngla_H (Karnataka)      7.62\n",
            "Bhiwandi_Mankoli_HB (Maharashtra)     3.80\n",
            "Hyderabad_Shamshbd_H (Telangana)      3.56\n",
            "Kolkata_Dankuni_HB (West Bengal)      3.38\n",
            "                                     ...  \n",
            "Hyd_Trimulgherry_Dc (Telangana)       0.00\n",
            "Vijayawada (Andhra Pradesh)           0.00\n",
            "Baghpat_Barout_D (Uttar Pradesh)      0.00\n",
            "Mumbai_Sanpada_CP (Maharashtra)       0.00\n",
            "Basta_Central_DPP_1 (Orissa)          0.00\n",
            "Name: destination_name, Length: 1468, dtype: float64\n",
            "\n",
            "\n",
            "--------------------------------------------------\n"
          ]
        }
      ]
    },
    {
      "cell_type": "markdown",
      "source": [
        "**Observations:**\n",
        "\n",
        "1. 72% of the data are of training type whereas 27% are of test data.\n",
        "2. Route type are of 2 unique type : Carting and FTL with 31% and 69% respectively.\n",
        "3. Haryana is most frequent source state with percentage occurance of 16% followed by Karnataka and maharashtra with 6%.\n",
        "4. Haryana is most frequent desination state with percentage occurance of 10% followed by Karnataka with 7%."
      ],
      "metadata": {
        "id": "J_dT5iRB_LUp"
      }
    },
    {
      "cell_type": "code",
      "source": [
        "#checking correlation using heatmap\n",
        "plt.figure(figsize=(12,8))\n",
        "sns.heatmap(df.corr(method=\"spearman\"),annot=True, cmap=\"Blues\")\n",
        "plt.show()"
      ],
      "metadata": {
        "colab": {
          "base_uri": "https://localhost:8080/",
          "height": 631
        },
        "id": "UxNV0UIODluc",
        "outputId": "24f1f638-309b-4dbf-a27f-6bd002b8df03"
      },
      "execution_count": 113,
      "outputs": [
        {
          "output_type": "display_data",
          "data": {
            "text/plain": [
              "<Figure size 864x576 with 2 Axes>"
            ],
            "image/png": "[encoded data removed]"
          },
          "metadata": {
            "needs_background": "light"
          }
        }
      ]
    },
    {
      "cell_type": "markdown",
      "source": [
        "**Observations:**\n",
        "\n",
        "1. actual time is highly coorelated with start to end time, cutoff factor, actual distance to destination, osrm time and distance.\n",
        "2. cutoff factor is highly coorelated with actual distance and actual time.\n",
        "3. Apart from segment factor and factor, all the features are somewhat positive coorelated.\n",
        "4. segment time and segment distance have weak coorelation with actual time than start to end distance, start to end time, osrm time and cut off factor."
      ],
      "metadata": {
        "id": "dm-yjX_JZwSj"
      }
    },
    {
      "cell_type": "code",
      "source": [
        "for i in df.columns:\n",
        "  print(i,\":\",df[i].nunique())"
      ],
      "metadata": {
        "colab": {
          "base_uri": "https://localhost:8080/",
          "height": 0
        },
        "id": "r7lGpTGQFkRh",
        "outputId": "13b0835c-6b48-4341-ea6d-e2393f785ebd"
      },
      "execution_count": 114,
      "outputs": [
        {
          "output_type": "stream",
          "name": "stdout",
          "text": [
            "data : 2\n",
            "trip_creation_time : 14817\n",
            "route_schedule_uuid : 1504\n",
            "route_type : 2\n",
            "trip_uuid : 14817\n",
            "source_center : 1508\n",
            "source_name : 1498\n",
            "destination_center : 1481\n",
            "destination_name : 1468\n",
            "od_start_time : 26369\n",
            "od_end_time : 26369\n",
            "start_scan_to_end_scan : 1915\n",
            "is_cutoff : 2\n",
            "cutoff_factor : 501\n",
            "cutoff_timestamp : 93180\n",
            "actual_distance_to_destination : 144515\n",
            "actual_time : 3182\n",
            "osrm_time : 1531\n",
            "osrm_distance : 138046\n",
            "factor : 45641\n",
            "segment_actual_time : 747\n",
            "segment_osrm_time : 214\n",
            "segment_osrm_distance : 113799\n",
            "segment_factor : 5675\n"
          ]
        }
      ]
    },
    {
      "cell_type": "code",
      "source": [
        "# aggregating values based on trip, source center and destination center\n",
        "\n",
        "df1=df.groupby([\"trip_uuid\",\"source_center\",\"destination_center\"]).agg({\"trip_creation_time\":\"first\",\"route_type\":\"first\",\"od_start_time\":\"first\",\"od_end_time\":\"first\",\"start_scan_to_end_scan\":\"first\",\"source_name\":\"last\",\"destination_name\":\"last\",\"actual_time\":\"last\",\"actual_distance_to_destination\":\"last\",\"osrm_time\":\"last\",\"osrm_distance\":\"last\",\"segment_osrm_time\":\"sum\",\"segment_osrm_distance\":\"sum\",\"osrm_distance\":\"last\",\"segment_actual_time\":\"sum\"}).reset_index()\n",
        "df1.rename({\"actual_distance_to_destination\":\"actual_distance\"}, axis=1,inplace=True)"
      ],
      "metadata": {
        "id": "P-f4qdvvQLoA"
      },
      "execution_count": 115,
      "outputs": []
    },
    {
      "cell_type": "code",
      "source": [
        "# separating city, state, place from source name\n",
        "Src=df1[\"source_name\"].str.split(\"_\", expand=True, n=2)\n",
        "Src"
      ],
      "metadata": {
        "colab": {
          "base_uri": "https://localhost:8080/",
          "height": 424
        },
        "id": "jQewWxTpnpip",
        "outputId": "d2113958-08aa-4e03-f67b-c98d3efce21f"
      },
      "execution_count": 116,
      "outputs": [
        {
          "output_type": "execute_result",
          "data": {
            "text/plain": [
              "                        0          1                    2\n",
              "0                  Kanpur    Central  H_6 (Uttar Pradesh)\n",
              "1                  Bhopal   Trnsport   H (Madhya Pradesh)\n",
              "2              Doddablpur   ChikaDPP        D (Karnataka)\n",
              "3                  Tumkur   Veersagr        I (Karnataka)\n",
              "4                 Gurgaon   Bilaspur         HB (Haryana)\n",
              "...                   ...        ...                  ...\n",
              "26363          Tirchchndr   Shnmgprm       D (Tamil Nadu)\n",
              "26364            Peikulam  SriVnktpm       D (Tamil Nadu)\n",
              "26365                Eral   Busstand       D (Tamil Nadu)\n",
              "26366              Sandur   WrdN1DPP        D (Karnataka)\n",
              "26367  Hospet (Karnataka)       None                 None\n",
              "\n",
              "[26368 rows x 3 columns]"
            ],
            "text/html": [
              "\n",
              "  <div id=\"df-8b73d0bf-9528-424f-bc84-6a95e7e1d9ef\">\n",
              "    <div class=\"colab-df-container\">\n",
              "      <div>\n",
              "<style scoped>\n",
              "    .dataframe tbody tr th:only-of-type {\n",
              "        vertical-align: middle;\n",
              "    }\n",
              "\n",
              "    .dataframe tbody tr th {\n",
              "        vertical-align: top;\n",
              "    }\n",
              "\n",
              "    .dataframe thead th {\n",
              "        text-align: right;\n",
              "    }\n",
              "</style>\n",
              "<table border=\"1\" class=\"dataframe\">\n",
              "  <thead>\n",
              "    <tr style=\"text-align: right;\">\n",
              "      <th></th>\n",
              "      <th>0</th>\n",
              "      <th>1</th>\n",
              "      <th>2</th>\n",
              "    </tr>\n",
              "  </thead>\n",
              "  <tbody>\n",
              "    <tr>\n",
              "      <th>0</th>\n",
              "      <td>Kanpur</td>\n",
              "      <td>Central</td>\n",
              "      <td>H_6 (Uttar Pradesh)</td>\n",
              "    </tr>\n",
              "    <tr>\n",
              "      <th>1</th>\n",
              "      <td>Bhopal</td>\n",
              "      <td>Trnsport</td>\n",
              "      <td>H (Madhya Pradesh)</td>\n",
              "    </tr>\n",
              "    <tr>\n",
              "      <th>2</th>\n",
              "      <td>Doddablpur</td>\n",
              "      <td>ChikaDPP</td>\n",
              "      <td>D (Karnataka)</td>\n",
              "    </tr>\n",
              "    <tr>\n",
              "      <th>3</th>\n",
              "      <td>Tumkur</td>\n",
              "      <td>Veersagr</td>\n",
              "      <td>I (Karnataka)</td>\n",
              "    </tr>\n",
              "    <tr>\n",
              "      <th>4</th>\n",
              "      <td>Gurgaon</td>\n",
              "      <td>Bilaspur</td>\n",
              "      <td>HB (Haryana)</td>\n",
              "    </tr>\n",
              "    <tr>\n",
              "      <th>...</th>\n",
              "      <td>...</td>\n",
              "      <td>...</td>\n",
              "      <td>...</td>\n",
              "    </tr>\n",
              "    <tr>\n",
              "      <th>26363</th>\n",
              "      <td>Tirchchndr</td>\n",
              "      <td>Shnmgprm</td>\n",
              "      <td>D (Tamil Nadu)</td>\n",
              "    </tr>\n",
              "    <tr>\n",
              "      <th>26364</th>\n",
              "      <td>Peikulam</td>\n",
              "      <td>SriVnktpm</td>\n",
              "      <td>D (Tamil Nadu)</td>\n",
              "    </tr>\n",
              "    <tr>\n",
              "      <th>26365</th>\n",
              "      <td>Eral</td>\n",
              "      <td>Busstand</td>\n",
              "      <td>D (Tamil Nadu)</td>\n",
              "    </tr>\n",
              "    <tr>\n",
              "      <th>26366</th>\n",
              "      <td>Sandur</td>\n",
              "      <td>WrdN1DPP</td>\n",
              "      <td>D (Karnataka)</td>\n",
              "    </tr>\n",
              "    <tr>\n",
              "      <th>26367</th>\n",
              "      <td>Hospet (Karnataka)</td>\n",
              "      <td>None</td>\n",
              "      <td>None</td>\n",
              "    </tr>\n",
              "  </tbody>\n",
              "</table>\n",
              "<p>26368 rows × 3 columns</p>\n",
              "</div>\n",
              "      <button class=\"colab-df-convert\" onclick=\"convertToInteractive('df-8b73d0bf-9528-424f-bc84-6a95e7e1d9ef')\"\n",
              "              title=\"Convert this dataframe to an interactive table.\"\n",
              "              style=\"display:none;\">\n",
              "        \n",
              "  <svg xmlns=\"http://www.w3.org/2000/svg\" height=\"24px\"viewBox=\"0 0 24 24\"\n",
              "       width=\"24px\">\n",
              "    <path d=\"M0 0h24v24H0V0z\" fill=\"none\"/>\n",
              "    <path d=\"M18.56 5.44l.94 2.06.94-2.06 2.06-.94-2.06-.94-.94-2.06-.94 2.06-2.06.94zm-11 1L8.5 8.5l.94-2.06 2.06-.94-2.06-.94L8.5 2.5l-.94 2.06-2.06.94zm10 10l.94 2.06.94-2.06 2.06-.94-2.06-.94-.94-2.06-.94 2.06-2.06.94z\"/><path d=\"M17.41 7.96l-1.37-1.37c-.4-.4-.92-.59-1.43-.59-.52 0-1.04.2-1.43.59L10.3 9.45l-7.72 7.72c-.78.78-.78 2.05 0 2.83L4 21.41c.39.39.9.59 1.41.59.51 0 1.02-.2 1.41-.59l7.78-7.78 2.81-2.81c.8-.78.8-2.07 0-2.86zM5.41 20L4 18.59l7.72-7.72 1.47 1.35L5.41 20z\"/>\n",
              "  </svg>\n",
              "      </button>\n",
              "      \n",
              "  <style>\n",
              "    .colab-df-container {\n",
              "      display:flex;\n",
              "      flex-wrap:wrap;\n",
              "      gap: 12px;\n",
              "    }\n",
              "\n",
              "    .colab-df-convert {\n",
              "      background-color: #E8F0FE;\n",
              "      border: none;\n",
              "      border-radius: 50%;\n",
              "      cursor: pointer;\n",
              "      display: none;\n",
              "      fill: #1967D2;\n",
              "      height: 32px;\n",
              "      padding: 0 0 0 0;\n",
              "      width: 32px;\n",
              "    }\n",
              "\n",
              "    .colab-df-convert:hover {\n",
              "      background-color: #E2EBFA;\n",
              "      box-shadow: 0px 1px 2px rgba(60, 64, 67, 0.3), 0px 1px 3px 1px rgba(60, 64, 67, 0.15);\n",
              "      fill: #174EA6;\n",
              "    }\n",
              "\n",
              "    [theme=dark] .colab-df-convert {\n",
              "      background-color: #3B4455;\n",
              "      fill: #D2E3FC;\n",
              "    }\n",
              "\n",
              "    [theme=dark] .colab-df-convert:hover {\n",
              "      background-color: #434B5C;\n",
              "      box-shadow: 0px 1px 3px 1px rgba(0, 0, 0, 0.15);\n",
              "      filter: drop-shadow(0px 1px 2px rgba(0, 0, 0, 0.3));\n",
              "      fill: #FFFFFF;\n",
              "    }\n",
              "  </style>\n",
              "\n",
              "      <script>\n",
              "        const buttonEl =\n",
              "          document.querySelector('#df-8b73d0bf-9528-424f-bc84-6a95e7e1d9ef button.colab-df-convert');\n",
              "        buttonEl.style.display =\n",
              "          google.colab.kernel.accessAllowed ? 'block' : 'none';\n",
              "\n",
              "        async function convertToInteractive(key) {\n",
              "          const element = document.querySelector('#df-8b73d0bf-9528-424f-bc84-6a95e7e1d9ef');\n",
              "          const dataTable =\n",
              "            await google.colab.kernel.invokeFunction('convertToInteractive',\n",
              "                                                     [key], {});\n",
              "          if (!dataTable) return;\n",
              "\n",
              "          const docLinkHtml = 'Like what you see? Visit the ' +\n",
              "            '<a target=\"_blank\" href=https://colab.research.google.com/notebooks/data_table.ipynb>data table notebook</a>'\n",
              "            + ' to learn more about interactive tables.';\n",
              "          element.innerHTML = '';\n",
              "          dataTable['output_type'] = 'display_data';\n",
              "          await google.colab.output.renderOutput(dataTable, element);\n",
              "          const docLink = document.createElement('div');\n",
              "          docLink.innerHTML = docLinkHtml;\n",
              "          element.appendChild(docLink);\n",
              "        }\n",
              "      </script>\n",
              "    </div>\n",
              "  </div>\n",
              "  "
            ]
          },
          "metadata": {},
          "execution_count": 116
        }
      ]
    },
    {
      "cell_type": "code",
      "source": [
        "def checkplace(row):\n",
        "  row=row.replace(\" \",\"\")\n",
        "  end=row.find(\"(\")\n",
        "  start=end-1\n",
        "  value=row[start:end]\n",
        "  return value"
      ],
      "metadata": {
        "id": "mT5TmJfMlnZ6"
      },
      "execution_count": 117,
      "outputs": []
    },
    {
      "cell_type": "code",
      "source": [
        "# Extracting features like source city, source place, source city\n",
        "df1[\"Src_City\"]=Src[0]\n",
        "df1[\"Src_Place\"]=Src[1]\n",
        "df1[\"Src_Code\"]=df1[\"source_name\"].apply(lambda i: checkplace(i) if i is not None else None)\n",
        "df1[\"Src_State\"]=df1[\"source_name\"].apply(lambda i: i[i.find(\"(\")+1:i.find(\")\")] if i is not None else None)"
      ],
      "metadata": {
        "id": "Z4ZBwPkGyf_g"
      },
      "execution_count": 118,
      "outputs": []
    },
    {
      "cell_type": "code",
      "source": [
        "# separating city, state, place from source name\n",
        "Dest=df1[\"destination_name\"].str.split(\"_\", expand=True, n=2)\n",
        "Dest"
      ],
      "metadata": {
        "colab": {
          "base_uri": "https://localhost:8080/",
          "height": 424
        },
        "id": "vQkO4Iu2stMc",
        "outputId": "0a710a22-b202-4436-83b6-ce7d198bf602"
      },
      "execution_count": 119,
      "outputs": [
        {
          "output_type": "execute_result",
          "data": {
            "text/plain": [
              "                   0               1                    2\n",
              "0            Gurgaon        Bilaspur         HB (Haryana)\n",
              "1             Kanpur         Central  H_6 (Uttar Pradesh)\n",
              "2         Chikblapur        ShntiSgr        D (Karnataka)\n",
              "3         Doddablpur        ChikaDPP        D (Karnataka)\n",
              "4         Chandigarh        Mehmdpur           H (Punjab)\n",
              "...              ...             ...                  ...\n",
              "26363  Thisayanvilai        UdnkdiRD       D (Tamil Nadu)\n",
              "26364    Tirunelveli        VdkkuSrt       I (Tamil Nadu)\n",
              "26365     Tirchchndr        Shnmgprm       D (Tamil Nadu)\n",
              "26366        Bellary  Dc (Karnataka)                 None\n",
              "26367         Sandur        WrdN1DPP        D (Karnataka)\n",
              "\n",
              "[26368 rows x 3 columns]"
            ],
            "text/html": [
              "\n",
              "  <div id=\"df-8ef81134-395c-4e5f-b519-4a9af9ce064d\">\n",
              "    <div class=\"colab-df-container\">\n",
              "      <div>\n",
              "<style scoped>\n",
              "    .dataframe tbody tr th:only-of-type {\n",
              "        vertical-align: middle;\n",
              "    }\n",
              "\n",
              "    .dataframe tbody tr th {\n",
              "        vertical-align: top;\n",
              "    }\n",
              "\n",
              "    .dataframe thead th {\n",
              "        text-align: right;\n",
              "    }\n",
              "</style>\n",
              "<table border=\"1\" class=\"dataframe\">\n",
              "  <thead>\n",
              "    <tr style=\"text-align: right;\">\n",
              "      <th></th>\n",
              "      <th>0</th>\n",
              "      <th>1</th>\n",
              "      <th>2</th>\n",
              "    </tr>\n",
              "  </thead>\n",
              "  <tbody>\n",
              "    <tr>\n",
              "      <th>0</th>\n",
              "      <td>Gurgaon</td>\n",
              "      <td>Bilaspur</td>\n",
              "      <td>HB (Haryana)</td>\n",
              "    </tr>\n",
              "    <tr>\n",
              "      <th>1</th>\n",
              "      <td>Kanpur</td>\n",
              "      <td>Central</td>\n",
              "      <td>H_6 (Uttar Pradesh)</td>\n",
              "    </tr>\n",
              "    <tr>\n",
              "      <th>2</th>\n",
              "      <td>Chikblapur</td>\n",
              "      <td>ShntiSgr</td>\n",
              "      <td>D (Karnataka)</td>\n",
              "    </tr>\n",
              "    <tr>\n",
              "      <th>3</th>\n",
              "      <td>Doddablpur</td>\n",
              "      <td>ChikaDPP</td>\n",
              "      <td>D (Karnataka)</td>\n",
              "    </tr>\n",
              "    <tr>\n",
              "      <th>4</th>\n",
              "      <td>Chandigarh</td>\n",
              "      <td>Mehmdpur</td>\n",
              "      <td>H (Punjab)</td>\n",
              "    </tr>\n",
              "    <tr>\n",
              "      <th>...</th>\n",
              "      <td>...</td>\n",
              "      <td>...</td>\n",
              "      <td>...</td>\n",
              "    </tr>\n",
              "    <tr>\n",
              "      <th>26363</th>\n",
              "      <td>Thisayanvilai</td>\n",
              "      <td>UdnkdiRD</td>\n",
              "      <td>D (Tamil Nadu)</td>\n",
              "    </tr>\n",
              "    <tr>\n",
              "      <th>26364</th>\n",
              "      <td>Tirunelveli</td>\n",
              "      <td>VdkkuSrt</td>\n",
              "      <td>I (Tamil Nadu)</td>\n",
              "    </tr>\n",
              "    <tr>\n",
              "      <th>26365</th>\n",
              "      <td>Tirchchndr</td>\n",
              "      <td>Shnmgprm</td>\n",
              "      <td>D (Tamil Nadu)</td>\n",
              "    </tr>\n",
              "    <tr>\n",
              "      <th>26366</th>\n",
              "      <td>Bellary</td>\n",
              "      <td>Dc (Karnataka)</td>\n",
              "      <td>None</td>\n",
              "    </tr>\n",
              "    <tr>\n",
              "      <th>26367</th>\n",
              "      <td>Sandur</td>\n",
              "      <td>WrdN1DPP</td>\n",
              "      <td>D (Karnataka)</td>\n",
              "    </tr>\n",
              "  </tbody>\n",
              "</table>\n",
              "<p>26368 rows × 3 columns</p>\n",
              "</div>\n",
              "      <button class=\"colab-df-convert\" onclick=\"convertToInteractive('df-8ef81134-395c-4e5f-b519-4a9af9ce064d')\"\n",
              "              title=\"Convert this dataframe to an interactive table.\"\n",
              "              style=\"display:none;\">\n",
              "        \n",
              "  <svg xmlns=\"http://www.w3.org/2000/svg\" height=\"24px\"viewBox=\"0 0 24 24\"\n",
              "       width=\"24px\">\n",
              "    <path d=\"M0 0h24v24H0V0z\" fill=\"none\"/>\n",
              "    <path d=\"M18.56 5.44l.94 2.06.94-2.06 2.06-.94-2.06-.94-.94-2.06-.94 2.06-2.06.94zm-11 1L8.5 8.5l.94-2.06 2.06-.94-2.06-.94L8.5 2.5l-.94 2.06-2.06.94zm10 10l.94 2.06.94-2.06 2.06-.94-2.06-.94-.94-2.06-.94 2.06-2.06.94z\"/><path d=\"M17.41 7.96l-1.37-1.37c-.4-.4-.92-.59-1.43-.59-.52 0-1.04.2-1.43.59L10.3 9.45l-7.72 7.72c-.78.78-.78 2.05 0 2.83L4 21.41c.39.39.9.59 1.41.59.51 0 1.02-.2 1.41-.59l7.78-7.78 2.81-2.81c.8-.78.8-2.07 0-2.86zM5.41 20L4 18.59l7.72-7.72 1.47 1.35L5.41 20z\"/>\n",
              "  </svg>\n",
              "      </button>\n",
              "      \n",
              "  <style>\n",
              "    .colab-df-container {\n",
              "      display:flex;\n",
              "      flex-wrap:wrap;\n",
              "      gap: 12px;\n",
              "    }\n",
              "\n",
              "    .colab-df-convert {\n",
              "      background-color: #E8F0FE;\n",
              "      border: none;\n",
              "      border-radius: 50%;\n",
              "      cursor: pointer;\n",
              "      display: none;\n",
              "      fill: #1967D2;\n",
              "      height: 32px;\n",
              "      padding: 0 0 0 0;\n",
              "      width: 32px;\n",
              "    }\n",
              "\n",
              "    .colab-df-convert:hover {\n",
              "      background-color: #E2EBFA;\n",
              "      box-shadow: 0px 1px 2px rgba(60, 64, 67, 0.3), 0px 1px 3px 1px rgba(60, 64, 67, 0.15);\n",
              "      fill: #174EA6;\n",
              "    }\n",
              "\n",
              "    [theme=dark] .colab-df-convert {\n",
              "      background-color: #3B4455;\n",
              "      fill: #D2E3FC;\n",
              "    }\n",
              "\n",
              "    [theme=dark] .colab-df-convert:hover {\n",
              "      background-color: #434B5C;\n",
              "      box-shadow: 0px 1px 3px 1px rgba(0, 0, 0, 0.15);\n",
              "      filter: drop-shadow(0px 1px 2px rgba(0, 0, 0, 0.3));\n",
              "      fill: #FFFFFF;\n",
              "    }\n",
              "  </style>\n",
              "\n",
              "      <script>\n",
              "        const buttonEl =\n",
              "          document.querySelector('#df-8ef81134-395c-4e5f-b519-4a9af9ce064d button.colab-df-convert');\n",
              "        buttonEl.style.display =\n",
              "          google.colab.kernel.accessAllowed ? 'block' : 'none';\n",
              "\n",
              "        async function convertToInteractive(key) {\n",
              "          const element = document.querySelector('#df-8ef81134-395c-4e5f-b519-4a9af9ce064d');\n",
              "          const dataTable =\n",
              "            await google.colab.kernel.invokeFunction('convertToInteractive',\n",
              "                                                     [key], {});\n",
              "          if (!dataTable) return;\n",
              "\n",
              "          const docLinkHtml = 'Like what you see? Visit the ' +\n",
              "            '<a target=\"_blank\" href=https://colab.research.google.com/notebooks/data_table.ipynb>data table notebook</a>'\n",
              "            + ' to learn more about interactive tables.';\n",
              "          element.innerHTML = '';\n",
              "          dataTable['output_type'] = 'display_data';\n",
              "          await google.colab.output.renderOutput(dataTable, element);\n",
              "          const docLink = document.createElement('div');\n",
              "          docLink.innerHTML = docLinkHtml;\n",
              "          element.appendChild(docLink);\n",
              "        }\n",
              "      </script>\n",
              "    </div>\n",
              "  </div>\n",
              "  "
            ]
          },
          "metadata": {},
          "execution_count": 119
        }
      ]
    },
    {
      "cell_type": "code",
      "source": [
        "# Extracting features like destination city, destination place, destination city\n",
        "\n",
        "df1[\"Dest_City\"]=Dest[0]\n",
        "df1[\"Dest_Place\"]=Dest[1]\n",
        "df1[\"Dest_Code\"]=df1[\"destination_name\"].apply(lambda i: checkplace(i) if i is not None else None)\n",
        "df1[\"Dest_State\"]=df1[\"destination_name\"].apply(lambda i: i[i.find(\"(\")+1:i.find(\")\")] if i is not None else None)"
      ],
      "metadata": {
        "id": "7CMgJj7wyMHo"
      },
      "execution_count": 120,
      "outputs": []
    },
    {
      "cell_type": "code",
      "source": [
        "# Extracting day, month, year from trip creation time column\n",
        "\n",
        "df1[\"day\"]=pd.to_datetime(df1[\"trip_creation_time\"]).dt.day\n",
        "df1[\"month\"]=pd.to_datetime(df1[\"trip_creation_time\"]).dt.month\n",
        "df1[\"year\"]=pd.to_datetime(df1[\"trip_creation_time\"]).dt.year\n",
        "\n",
        "# converting od start and end time from object to datetime datatype\n",
        "df1[\"od_start_time\"]=pd.to_datetime(df1[\"od_start_time\"])\n",
        "df1[\"od_end_time\"]=pd.to_datetime(df1[\"od_end_time\"])"
      ],
      "metadata": {
        "id": "lidLO-4E1JDz"
      },
      "execution_count": 121,
      "outputs": []
    },
    {
      "cell_type": "code",
      "source": [
        "# dropping source name, destination name and trip creation time\n",
        "df1.drop([\"source_name\",\"destination_name\",\"trip_creation_time\"], axis=1,inplace=True)"
      ],
      "metadata": {
        "id": "3A8A7-O8zgVl"
      },
      "execution_count": 122,
      "outputs": []
    },
    {
      "cell_type": "code",
      "source": [
        "# unique values of source states\n",
        "df1[\"Src_State\"].unique()"
      ],
      "metadata": {
        "colab": {
          "base_uri": "https://localhost:8080/",
          "height": 0
        },
        "id": "AZwJuvQkzqBc",
        "outputId": "982bd464-5dd6-40a7-a2dc-b35078276566"
      },
      "execution_count": 123,
      "outputs": [
        {
          "output_type": "execute_result",
          "data": {
            "text/plain": [
              "array(['Uttar Pradesh', 'Madhya Pradesh', 'Karnataka', 'Haryana',\n",
              "       'Maharashtra', 'Tamil Nadu', 'Gujarat', 'Delhi', 'Telangana',\n",
              "       'Andhra Pradesh', 'Rajasthan', 'Assam', 'West Bengal', 'Punjab',\n",
              "       'Chandigarh', 'Goa', 'Uttarakhand', 'Jharkhand', 'Pondicherry',\n",
              "       'Orissa', 'Himachal Pradesh', 'Kerala', 'Arunachal Pradesh',\n",
              "       'Bihar', 'Meghalaya', 'Chhattisgarh', 'Jammu & Kashmir',\n",
              "       'Dadra and Nagar Haveli', 'Mizoram', 'Tripura', 'Nagaland', None],\n",
              "      dtype=object)"
            ]
          },
          "metadata": {},
          "execution_count": 123
        }
      ]
    },
    {
      "cell_type": "code",
      "source": [
        "df1[\"Src_City\"].nunique()"
      ],
      "metadata": {
        "colab": {
          "base_uri": "https://localhost:8080/",
          "height": 0
        },
        "id": "UxAm3eD4z1Cm",
        "outputId": "d664ed0a-648c-41ef-f178-c88014d402b6"
      },
      "execution_count": 124,
      "outputs": [
        {
          "output_type": "execute_result",
          "data": {
            "text/plain": [
              "1262"
            ]
          },
          "metadata": {},
          "execution_count": 124
        }
      ]
    },
    {
      "cell_type": "code",
      "source": [
        "df1[\"Dest_City\"].nunique()"
      ],
      "metadata": {
        "colab": {
          "base_uri": "https://localhost:8080/",
          "height": 0
        },
        "id": "LMEILwGmz0_n",
        "outputId": "c19ccae3-7172-4dd6-e319-6b522de4c1b8"
      },
      "execution_count": 125,
      "outputs": [
        {
          "output_type": "execute_result",
          "data": {
            "text/plain": [
              "1258"
            ]
          },
          "metadata": {},
          "execution_count": 125
        }
      ]
    },
    {
      "cell_type": "code",
      "source": [
        "# unique values of source states\n",
        "df1[\"Dest_State\"].unique()"
      ],
      "metadata": {
        "colab": {
          "base_uri": "https://localhost:8080/",
          "height": 0
        },
        "id": "FyUbRSNoz08l",
        "outputId": "4fdf7651-4bc4-42a2-e3f9-8f145cdfa631"
      },
      "execution_count": 126,
      "outputs": [
        {
          "output_type": "execute_result",
          "data": {
            "text/plain": [
              "array(['Haryana', 'Uttar Pradesh', 'Karnataka', 'Punjab', 'Maharashtra',\n",
              "       'Tamil Nadu', 'Gujarat', 'Delhi', 'Andhra Pradesh', 'Telangana',\n",
              "       'Rajasthan', 'Madhya Pradesh', 'Assam', 'West Bengal',\n",
              "       'Chandigarh', 'Dadra and Nagar Haveli', 'Orissa', 'Uttarakhand',\n",
              "       'Bihar', 'Jharkhand', 'Pondicherry', 'Goa', 'Himachal Pradesh',\n",
              "       'Kerala', 'Arunachal Pradesh', 'Mizoram', 'Chhattisgarh',\n",
              "       'Jammu & Kashmir', 'Meghalaya', 'Nagaland', 'Tripura', None,\n",
              "       'Daman & Diu'], dtype=object)"
            ]
          },
          "metadata": {},
          "execution_count": 126
        }
      ]
    },
    {
      "cell_type": "code",
      "source": [
        "df1[\"Src_City\"].value_counts()"
      ],
      "metadata": {
        "colab": {
          "base_uri": "https://localhost:8080/",
          "height": 0
        },
        "id": "yH9QYb8vDraI",
        "outputId": "a156aa62-04db-4405-ec78-25699f0f6460"
      },
      "execution_count": 127,
      "outputs": [
        {
          "output_type": "execute_result",
          "data": {
            "text/plain": [
              "Gurgaon         1141\n",
              "Bengaluru       1136\n",
              "Bhiwandi         821\n",
              "Bangalore        792\n",
              "Mumbai           719\n",
              "                ... \n",
              "Manjeshwar         1\n",
              "Maharajganj        1\n",
              "Nirjuli            1\n",
              "Kothanalloor       1\n",
              "Kapadvanj          1\n",
              "Name: Src_City, Length: 1262, dtype: int64"
            ]
          },
          "metadata": {},
          "execution_count": 127
        }
      ]
    },
    {
      "cell_type": "code",
      "source": [
        "df1[\"Dest_City\"].value_counts()"
      ],
      "metadata": {
        "colab": {
          "base_uri": "https://localhost:8080/",
          "height": 0
        },
        "id": "w7fDBn2rDumB",
        "outputId": "9d51db5d-478b-45b3-9495-f7d4bd596c5b"
      },
      "execution_count": 128,
      "outputs": [
        {
          "output_type": "execute_result",
          "data": {
            "text/plain": [
              "Bengaluru    1180\n",
              "Mumbai       1000\n",
              "Gurgaon       986\n",
              "Bangalore     683\n",
              "Hyderabad     643\n",
              "             ... \n",
              "Amalner         1\n",
              "Parbhani        1\n",
              "Shivpuri        1\n",
              "Koraput         1\n",
              "Lunawada        1\n",
              "Name: Dest_City, Length: 1258, dtype: int64"
            ]
          },
          "metadata": {},
          "execution_count": 128
        }
      ]
    },
    {
      "cell_type": "code",
      "source": [
        "# Bengaluru and Bangalore are treated as 2 cities, Bangalore can be replaced with Bengaluru\n",
        "\n",
        "df1[\"Dest_City\"]=df1[\"Dest_City\"].str.replace(\"Bangalore\",\"Bengaluru\")\n",
        "df1[\"Src_City\"]=df1[\"Src_City\"].str.replace(\"Bangalore\",\"Bengaluru\")"
      ],
      "metadata": {
        "id": "fYgjOfE0EZRU"
      },
      "execution_count": 129,
      "outputs": []
    },
    {
      "cell_type": "code",
      "source": [
        "# checking null values after merging of rows\n",
        "round((df1.isnull().sum()/len(df1))*100,2)"
      ],
      "metadata": {
        "colab": {
          "base_uri": "https://localhost:8080/",
          "height": 0
        },
        "id": "ON5-YWwoafR-",
        "outputId": "f692821c-655d-41ae-c748-fb65c850340e"
      },
      "execution_count": 130,
      "outputs": [
        {
          "output_type": "execute_result",
          "data": {
            "text/plain": [
              "trip_uuid                 0.00\n",
              "source_center             0.00\n",
              "destination_center        0.00\n",
              "route_type                0.00\n",
              "od_start_time             0.00\n",
              "od_end_time               0.00\n",
              "start_scan_to_end_scan    0.00\n",
              "actual_time               0.00\n",
              "actual_distance           0.00\n",
              "osrm_time                 0.00\n",
              "osrm_distance             0.00\n",
              "segment_osrm_time         0.00\n",
              "segment_osrm_distance     0.00\n",
              "segment_actual_time       0.00\n",
              "Src_City                  0.25\n",
              "Src_Place                 3.38\n",
              "Src_Code                  0.25\n",
              "Src_State                 0.25\n",
              "Dest_City                 0.31\n",
              "Dest_Place                4.05\n",
              "Dest_Code                 0.31\n",
              "Dest_State                0.31\n",
              "day                       0.00\n",
              "month                     0.00\n",
              "year                      0.00\n",
              "dtype: float64"
            ]
          },
          "metadata": {},
          "execution_count": 130
        }
      ]
    },
    {
      "cell_type": "markdown",
      "source": [
        "**Observation:**\n",
        "\n",
        "1. After aggregating values based on trip, source center and destination center, there are few null values populated.\n",
        "2. Source city,Source code,Destination city, Destination code have very less null values so these can be dropped.\n",
        "3. Source place and Destination place have some null values but these can be replaced with source and destination city.\n",
        "4. Most no of items are being picked up and delivered to metro cities like bengaluru, mumbai, gurgaon, hyderabad"
      ],
      "metadata": {
        "id": "0gqXqW5jalYq"
      }
    },
    {
      "cell_type": "code",
      "source": [
        "df1.columns"
      ],
      "metadata": {
        "colab": {
          "base_uri": "https://localhost:8080/",
          "height": 0
        },
        "id": "sv24rSZVJscK",
        "outputId": "178b431e-d483-4fd5-f408-3971ce545f28"
      },
      "execution_count": 131,
      "outputs": [
        {
          "output_type": "execute_result",
          "data": {
            "text/plain": [
              "Index(['trip_uuid', 'source_center', 'destination_center', 'route_type',\n",
              "       'od_start_time', 'od_end_time', 'start_scan_to_end_scan', 'actual_time',\n",
              "       'actual_distance', 'osrm_time', 'osrm_distance', 'segment_osrm_time',\n",
              "       'segment_osrm_distance', 'segment_actual_time', 'Src_City', 'Src_Place',\n",
              "       'Src_Code', 'Src_State', 'Dest_City', 'Dest_Place', 'Dest_Code',\n",
              "       'Dest_State', 'day', 'month', 'year'],\n",
              "      dtype='object')"
            ]
          },
          "metadata": {},
          "execution_count": 131
        }
      ]
    },
    {
      "cell_type": "code",
      "source": [
        "# Handling missing values\n",
        "\n",
        "df1.dropna(subset=[\"Src_City\",\"Dest_City\",\"Src_Code\",\"Src_State\",\"Dest_Code\",\"Dest_State\"],axis=0,inplace=True)\n",
        "\n",
        "df1[\"Src_Place\"].fillna(df1[\"Src_City\"], inplace=True)\n",
        "df1[\"Dest_Place\"].fillna(df1[\"Dest_City\"], inplace=True)"
      ],
      "metadata": {
        "id": "2_S3shvuoGUJ"
      },
      "execution_count": 132,
      "outputs": []
    },
    {
      "cell_type": "code",
      "source": [
        "round((df1.isnull().sum()/len(df1))*100,2)"
      ],
      "metadata": {
        "colab": {
          "base_uri": "https://localhost:8080/",
          "height": 0
        },
        "id": "YWPNMtO-bbdx",
        "outputId": "158d6687-ae0e-4374-a799-50173c2e78db"
      },
      "execution_count": 133,
      "outputs": [
        {
          "output_type": "execute_result",
          "data": {
            "text/plain": [
              "trip_uuid                 0.0\n",
              "source_center             0.0\n",
              "destination_center        0.0\n",
              "route_type                0.0\n",
              "od_start_time             0.0\n",
              "od_end_time               0.0\n",
              "start_scan_to_end_scan    0.0\n",
              "actual_time               0.0\n",
              "actual_distance           0.0\n",
              "osrm_time                 0.0\n",
              "osrm_distance             0.0\n",
              "segment_osrm_time         0.0\n",
              "segment_osrm_distance     0.0\n",
              "segment_actual_time       0.0\n",
              "Src_City                  0.0\n",
              "Src_Place                 0.0\n",
              "Src_Code                  0.0\n",
              "Src_State                 0.0\n",
              "Dest_City                 0.0\n",
              "Dest_Place                0.0\n",
              "Dest_Code                 0.0\n",
              "Dest_State                0.0\n",
              "day                       0.0\n",
              "month                     0.0\n",
              "year                      0.0\n",
              "dtype: float64"
            ]
          },
          "metadata": {},
          "execution_count": 133
        }
      ]
    },
    {
      "cell_type": "markdown",
      "source": [
        "**Univariate Analysis**"
      ],
      "metadata": {
        "id": "ULlSmRSMrwRE"
      }
    },
    {
      "cell_type": "code",
      "source": [
        "# countplot and pie chart for categorical variable route type\n",
        "\n",
        "plt.figure(figsize=(15,7))\n",
        "colors=sns.color_palette(\"coolwarm\")\n",
        "plt.subplot(1,2,1)\n",
        "sns.countplot(x=\"route_type\",data=df1)\n",
        "plt.title(\"Countplot of Route type\")\n",
        "\n",
        "plt.subplot(1,2,2)\n",
        "plt.pie(df1[\"route_type\"].value_counts(), labels=df1[\"route_type\"].value_counts().index, autopct=\"%0.1f%%\", explode=[0.02,0], shadow=True,colors=colors)\n",
        "plt.title(\"Piechart depicting percentage of different route type\")\n",
        "plt.show()"
      ],
      "metadata": {
        "colab": {
          "base_uri": "https://localhost:8080/",
          "height": 459
        },
        "id": "O25D2XYqUgr5",
        "outputId": "a602b611-394c-4259-e15f-a35e6d6304a3"
      },
      "execution_count": 134,
      "outputs": [
        {
          "output_type": "display_data",
          "data": {
            "text/plain": [
              "<Figure size 1080x504 with 2 Axes>"
            ],
            "image/png": "[encoded data removed]"
          },
          "metadata": {
            "needs_background": "light"
          }
        }
      ]
    },
    {
      "cell_type": "code",
      "source": [
        "# Distribution plot for all numerical features\n",
        "\n",
        "continuous_var=list(df1.dtypes[df1.dtypes==\"float64\"].index)\n",
        "plt.figure(figsize=(20,17))\n",
        "for i in range(len(continuous_var)):\n",
        "  plt.subplot(3,3,i+1)\n",
        "  sns.distplot(df1[continuous_var[i]],hist=True, kde=True, hist_kws={\"edgecolor\":\"black\"}, kde_kws={\"linewidth\":2}, color=\"red\")\n",
        "  plt.title(\"Distribution plot for \"+str(continuous_var[i]))\n",
        "plt.show()\n",
        "  \n",
        "# output is hidden due to organization policy and to manitain confidentiality"
      ],
      "metadata": {
        "id": "L4BH-H8taI9f"
      },
      "execution_count": null,
      "outputs": []
    },
    {
      "cell_type": "code",
      "source": [
        "# Distribution of log normal plot for numerical features\n",
        "\n",
        "plt.figure(figsize=(20,17))\n",
        "for i in range(len(continuous_var)):\n",
        "  plt.subplot(3,3,i+1)\n",
        "  sns.distplot(np.log(df1[continuous_var[i]]),hist=True, kde=True, hist_kws={\"edgecolor\":\"black\"}, kde_kws={\"linewidth\":2}, color=\"red\")\n",
        "  plt.title(\"Distribution log plot for \"+str(continuous_var[i]))\n",
        "plt.show()"
      ],
      "metadata": {
        "colab": {
          "base_uri": "https://localhost:8080/",
          "height": 1000
        },
        "id": "FwSwB1Siq0X4",
        "outputId": "d1e43bb2-99dc-48aa-a525-0bd3c5973dac"
      },
      "execution_count": 136,
      "outputs": [
        {
          "output_type": "stream",
          "name": "stderr",
          "text": [
            "/usr/local/lib/python3.8/dist-packages/seaborn/distributions.py:2619: FutureWarning: `distplot` is a deprecated function and will be removed in a future version. Please adapt your code to use either `displot` (a figure-level function with similar flexibility) or `histplot` (an axes-level function for histograms).\n",
            "  warnings.warn(msg, FutureWarning)\n",
            "/usr/local/lib/python3.8/dist-packages/seaborn/distributions.py:2619: FutureWarning: `distplot` is a deprecated function and will be removed in a future version. Please adapt your code to use either `displot` (a figure-level function with similar flexibility) or `histplot` (an axes-level function for histograms).\n",
            "  warnings.warn(msg, FutureWarning)\n",
            "/usr/local/lib/python3.8/dist-packages/seaborn/distributions.py:2619: FutureWarning: `distplot` is a deprecated function and will be removed in a future version. Please adapt your code to use either `displot` (a figure-level function with similar flexibility) or `histplot` (an axes-level function for histograms).\n",
            "  warnings.warn(msg, FutureWarning)\n",
            "/usr/local/lib/python3.8/dist-packages/seaborn/distributions.py:2619: FutureWarning: `distplot` is a deprecated function and will be removed in a future version. Please adapt your code to use either `displot` (a figure-level function with similar flexibility) or `histplot` (an axes-level function for histograms).\n",
            "  warnings.warn(msg, FutureWarning)\n",
            "/usr/local/lib/python3.8/dist-packages/seaborn/distributions.py:2619: FutureWarning: `distplot` is a deprecated function and will be removed in a future version. Please adapt your code to use either `displot` (a figure-level function with similar flexibility) or `histplot` (an axes-level function for histograms).\n",
            "  warnings.warn(msg, FutureWarning)\n",
            "/usr/local/lib/python3.8/dist-packages/seaborn/distributions.py:2619: FutureWarning: `distplot` is a deprecated function and will be removed in a future version. Please adapt your code to use either `displot` (a figure-level function with similar flexibility) or `histplot` (an axes-level function for histograms).\n",
            "  warnings.warn(msg, FutureWarning)\n",
            "/usr/local/lib/python3.8/dist-packages/seaborn/distributions.py:2619: FutureWarning: `distplot` is a deprecated function and will be removed in a future version. Please adapt your code to use either `displot` (a figure-level function with similar flexibility) or `histplot` (an axes-level function for histograms).\n",
            "  warnings.warn(msg, FutureWarning)\n",
            "/usr/local/lib/python3.8/dist-packages/seaborn/distributions.py:2619: FutureWarning: `distplot` is a deprecated function and will be removed in a future version. Please adapt your code to use either `displot` (a figure-level function with similar flexibility) or `histplot` (an axes-level function for histograms).\n",
            "  warnings.warn(msg, FutureWarning)\n"
          ]
        },
        {
          "output_type": "display_data",
          "data": {
            "text/plain": [
              "<Figure size 1440x1224 with 8 Axes>"
            ],
            "image/png": "[encoded data removed]"
          },
          "metadata": {
            "needs_background": "light"
          }
        }
      ]
    },
    {
      "cell_type": "code",
      "source": [
        "# Boxplot for numerical features\n",
        "\n",
        "continuous_var=list(df1.dtypes[df1.dtypes==\"float64\"].index)\n",
        "plt.figure(figsize=(20,17))\n",
        "for i in range(len(continuous_var)):\n",
        "  plt.subplot(3,3,i+1)\n",
        "  sns.boxplot(x=continuous_var[i], data=df1)\n",
        "  plt.title(\"Boxplot for \"+str(continuous_var[i]))\n",
        "plt.show()\n",
        "  \n",
        "# output is hidden due to organization policy and to manitain confidentiality"
      ],
      "metadata": {
        "id": "LXswGKBBnao3"
      },
      "execution_count": null,
      "outputs": []
    },
    {
      "cell_type": "markdown",
      "source": [
        "**Observations:**\n",
        "\n",
        "1. Numerical features like actual  and segment time, actual and segment distance are following right skewed log normal distributions.\n",
        "2. All the numerical features have some outliers which should be handled."
      ],
      "metadata": {
        "id": "MKyc3jAdt9eV"
      }
    },
    {
      "cell_type": "code",
      "source": [
        "# finding min and max values for outliers detection using quartile and IQR method for continuous variables\n",
        "\n",
        "continuous_var=list(df1.dtypes[df1.dtypes==\"float64\"].index)\n",
        "\n",
        "def outliers_min_max_value(df1, col):\n",
        "  quartiles=np.percentile(df1[col].values,np.arange(0,100,25))\n",
        "  IQR=round((quartiles[3]-quartiles[1]),2)\n",
        "  print(\"Inter Quartile Range for \"+ str(col) + \":\", IQR)\n",
        "  min_value=round(quartiles[1] - (1.5 *IQR),2)\n",
        "  max_value=round(quartiles[3] + (1.5 *IQR),2)\n",
        "\n",
        "  print(\"min value for \"+ str(col)+\":\",min_value)\n",
        "  print(\"max value for \"+ str(col)+\":\",max_value)\n",
        "\n",
        "\n",
        "for i in continuous_var:\n",
        "  outliers_min_max_value(df1,i)\n",
        "  print(\"*\"*50)\n",
        "# output is hidden due to organization policy and to manitain confidentiality"
      ],
      "metadata": {
        "id": "61jgliNgFfw_"
      },
      "execution_count": null,
      "outputs": []
    },
    {
      "cell_type": "code",
      "source": [
        "print(\"percentage of outliers for start_scan_to_end_scan:\",round(((len(df1[df1[\"start_scan_to_end_scan\"]>631]) * 100 )/len(df1)),2),\"%\")\n",
        "print(\"percentage of outliers for actual_time:\",round(((len(df1[df1[\"actual_time\"]>343.5]) * 100 )/len(df1)),2),\"%\")\n",
        "print(\"percentage of outliers for actual_distance:\",round(((len(df1[df1[\"actual_distance\"]>131.86]) * 100 )/len(df1)),2),\"%\")\n",
        "print(\"percentage of outliers for osrm_time:\",round(((len(df1[df1[\"osrm_time\"]>142.5]) * 100 )/len(df1)),2),\"%\")\n",
        "print(\"percentage of outliers for segment_osrm_time:\",round(((len(df1[df1[\"segment_osrm_time\"]>160]) * 100 )/len(df1)),2),\"%\")\n",
        "print(\"percentage of outliers for segment_osrm_distance:\",round(((len(df1[df1[\"segment_osrm_distance\"]>185.67]) * 100 )/len(df1)),2),\"%\")\n",
        "print(\"percentage of outliers for osrm_distance:\",round(((len(df1[df1[\"osrm_distance\"]>172.27]) * 100 )/len(df1)),2),\"%\")\n",
        "print(\"percentage of outliers for segment_actual_time:\",round(((len(df1[df1[\"segment_actual_time\"]>340]) * 100 )/len(df1)),2),\"%\")"
      ],
      "metadata": {
        "colab": {
          "base_uri": "https://localhost:8080/",
          "height": 0
        },
        "id": "9CsxjTSqHU5Q",
        "outputId": "0a588ab7-cd6f-4711-98a5-6f56eae974b7"
      },
      "execution_count": 139,
      "outputs": [
        {
          "output_type": "stream",
          "name": "stdout",
          "text": [
            "percentage of outliers for start_scan_to_end_scan: 10.36 %\n",
            "percentage of outliers for actual_time: 11.97 %\n",
            "percentage of outliers for actual_distance: 12.47 %\n",
            "percentage of outliers for osrm_time: 11.08 %\n",
            "percentage of outliers for segment_osrm_time: 11.97 %\n",
            "percentage of outliers for segment_osrm_distance: 11.76 %\n",
            "percentage of outliers for osrm_distance: 11.73 %\n",
            "percentage of outliers for segment_actual_time: 11.98 %\n"
          ]
        }
      ]
    },
    {
      "cell_type": "code",
      "source": [
        "# As numerical variables have more than 10% outliers so clipping it between 5 and 95 percentile instead of removing it\n",
        "\n",
        "continuous_var=list(df1.dtypes[df1.dtypes==\"float64\"].index)\n",
        "df1_copy=df1.copy()\n",
        "for col in continuous_var:\n",
        "    percentiles = df1[col].quantile([0.05,0.95]).values\n",
        "    df1_copy[col] = np.clip(df1_copy[col], percentiles[0], percentiles[1])"
      ],
      "metadata": {
        "id": "Zd-ndrjBKhbK"
      },
      "execution_count": 140,
      "outputs": []
    },
    {
      "cell_type": "markdown",
      "source": [
        "**Bivariate Analysis**"
      ],
      "metadata": {
        "id": "mdRWGs0kyKay"
      }
    },
    {
      "cell_type": "code",
      "source": [
        "# Visualization for newly created feature source state and actual time\n",
        "\n",
        "plt.figure(figsize=(16,8))\n",
        "colors=sns.color_palette(\"YlOrRd\")\n",
        "sns.barplot(x=\"actual_time\",y=\"Src_State\", data=df1, order=df1[\"Src_State\"].value_counts().index,palette=colors)\n",
        "plt.show()"
      ],
      "metadata": {
        "colab": {
          "base_uri": "https://localhost:8080/",
          "height": 498
        },
        "id": "zmq8Kpv4wPSm",
        "outputId": "ddcee683-7702-4473-abb3-d51acbc7688b"
      },
      "execution_count": 191,
      "outputs": [
        {
          "output_type": "display_data",
          "data": {
            "text/plain": [
              "<Figure size 1152x576 with 1 Axes>"
            ],
            "image/png": "[encoded data removed]"
          },
          "metadata": {
            "needs_background": "light"
          }
        }
      ]
    },
    {
      "cell_type": "code",
      "source": [
        "# Visualization for newly created feature destination state and actual time\n",
        "\n",
        "plt.figure(figsize=(16,8))\n",
        "colors=sns.color_palette(\"YlOrRd\")\n",
        "sns.barplot(x=\"actual_time\",y=\"Dest_State\", data=df1, order=df1[\"Dest_State\"].value_counts().index, palette=colors)\n",
        "plt.show()"
      ],
      "metadata": {
        "colab": {
          "base_uri": "https://localhost:8080/",
          "height": 498
        },
        "id": "WdXlFSZ8xncE",
        "outputId": "925425fc-9c85-4c6c-a7d5-fc4a7b955d15"
      },
      "execution_count": 193,
      "outputs": [
        {
          "output_type": "display_data",
          "data": {
            "text/plain": [
              "<Figure size 1152x576 with 1 Axes>"
            ],
            "image/png": "[encoded data removed]"
          },
          "metadata": {
            "needs_background": "light"
          }
        }
      ]
    },
    {
      "cell_type": "code",
      "source": [
        "# Boxplot for actual time and route type\n",
        "\n",
        "plt.figure(figsize=(10,7))\n",
        "sns.boxplot(x=\"actual_time\",y=\"route_type\", data=df1)\n",
        "plt.show()\n",
        "\n",
        "# output is hidden due to organization policy and to manitain confidentiality"
      ],
      "metadata": {
        "id": "fJELRKx50G-l"
      },
      "execution_count": null,
      "outputs": []
    },
    {
      "cell_type": "code",
      "source": [
        "# Boxplot for actual distance and route type\n",
        "\n",
        "plt.figure(figsize=(10,7))\n",
        "sns.boxplot(x=\"actual_distance\",y=\"route_type\", data=df1)\n",
        "plt.show()\n",
        "\n",
        "# output is hidden due to organization policy and to manitain confidentiality"
      ],
      "metadata": {
        "id": "DhchzC6p0k7q"
      },
      "execution_count": null,
      "outputs": []
    },
    {
      "cell_type": "markdown",
      "source": [
        "When distance is more between source and destination, FTL is more frequently used for delivery "
      ],
      "metadata": {
        "id": "yEU683NK0sbO"
      }
    },
    {
      "cell_type": "markdown",
      "source": [
        "**Comparison on Distance and Time**"
      ],
      "metadata": {
        "id": "8DjcQfWTAJO0"
      }
    },
    {
      "cell_type": "code",
      "source": [
        "# Analysis on actual time based on city\n",
        "temp=df1.groupby([\"Src_City\",\"Dest_City\"]).agg({\"actual_distance\":\"mean\",\"actual_time\":\"mean\"}).reset_index().sort_values(\"actual_distance\")\n",
        "temp\n",
        "\n",
        "# output is hidden due to organization policy and to manitain confidentiality"
      ],
      "metadata": {
        "id": "KhMk5z65X1fs"
      },
      "execution_count": null,
      "outputs": []
    },
    {
      "cell_type": "code",
      "source": [
        "# scatterplot for actual distance and actual time based on cities\n",
        "plt.figure(figsize=(10,7))\n",
        "sns.scatterplot(x=\"actual_distance\", y=\"actual_time\", data=temp)\n",
        "plt.title(\"scatterplot for actual distance and actual time\")\n",
        "plt.show()\n",
        "\n",
        "# output is hidden due to organization policy and to manitain confidentiality"
      ],
      "metadata": {
        "id": "UggYC3if-LdF"
      },
      "execution_count": null,
      "outputs": []
    },
    {
      "cell_type": "code",
      "source": [
        "# Analysis on actual distance and time based on states\n",
        "temp=df1.groupby([\"Src_State\",\"Dest_State\"]).agg({\"actual_distance\":\"mean\",\"actual_time\":\"mean\"}).reset_index().sort_values(\"actual_distance\")\n",
        "temp\n",
        "\n",
        "# output is hidden due to organization policy and to manitain confidentiality"
      ],
      "metadata": {
        "id": "2CbpkxiY7S3J"
      },
      "execution_count": null,
      "outputs": []
    },
    {
      "cell_type": "code",
      "source": [
        "# scatterplot for actual distance and actual time based on states\n",
        "plt.figure(figsize=(10,7))\n",
        "sns.scatterplot(x=\"actual_distance\", y=\"actual_time\", data=temp)\n",
        "plt.title(\"scatterplot for actual distance and actual time\")\n",
        "plt.show()\n",
        "\n",
        "# output is hidden due to organization policy and to manitain confidentiality"
      ],
      "metadata": {
        "id": "2rwsOxNx9RND"
      },
      "execution_count": null,
      "outputs": []
    },
    {
      "cell_type": "code",
      "source": [
        "temp=df1.groupby([\"Src_State\",\"Dest_State\"]).agg({\"osrm_time\":\"mean\",\"osrm_distance\":\"mean\"}).reset_index().sort_values(\"osrm_distance\")\n",
        "temp\n",
        "\n",
        "# output is hidden due to organization policy and to manitain confidentiality"
      ],
      "metadata": {
        "colab": {
          "base_uri": "https://localhost:8080/",
          "height": 424
        },
        "id": "lEUcHpdK_P0H",
        "outputId": "0fc3a56d-5ca7-4634-8593-c149b5f648df"
      },
      "execution_count": 149,
      "outputs": [
        {
          "output_type": "execute_result",
          "data": {
            "text/plain": [
              "                  Src_State              Dest_State    osrm_time  \\\n",
              "32                  Gujarat             Daman & Diu    11.000000   \n",
              "18               Chandigarh              Chandigarh    14.615385   \n",
              "21   Dadra and Nagar Haveli                 Gujarat    13.600000   \n",
              "31                  Gujarat  Dadra and Nagar Haveli    13.588235   \n",
              "23                    Delhi                   Delhi    19.594470   \n",
              "..                      ...                     ...          ...   \n",
              "101             Maharashtra             West Bengal  1382.222222   \n",
              "47                  Haryana               Karnataka  1508.409091   \n",
              "71                Karnataka                 Haryana  1527.800000   \n",
              "53                  Haryana              Tamil Nadu  1610.357143   \n",
              "117                  Punjab               Karnataka  1686.000000   \n",
              "\n",
              "     osrm_distance  \n",
              "32       10.292100  \n",
              "18       14.791408  \n",
              "21       15.748120  \n",
              "31       15.949929  \n",
              "23       18.258636  \n",
              "..             ...  \n",
              "101    1933.378600  \n",
              "47     2063.971682  \n",
              "71     2072.981998  \n",
              "53     2190.494436  \n",
              "117    2326.199100  \n",
              "\n",
              "[155 rows x 4 columns]"
            ],
            "text/html": [
              "\n",
              "  <div id=\"df-1bba6185-ec8f-4c34-845c-d27ff79c4bd8\">\n",
              "    <div class=\"colab-df-container\">\n",
              "      <div>\n",
              "<style scoped>\n",
              "    .dataframe tbody tr th:only-of-type {\n",
              "        vertical-align: middle;\n",
              "    }\n",
              "\n",
              "    .dataframe tbody tr th {\n",
              "        vertical-align: top;\n",
              "    }\n",
              "\n",
              "    .dataframe thead th {\n",
              "        text-align: right;\n",
              "    }\n",
              "</style>\n",
              "<table border=\"1\" class=\"dataframe\">\n",
              "  <thead>\n",
              "    <tr style=\"text-align: right;\">\n",
              "      <th></th>\n",
              "      <th>Src_State</th>\n",
              "      <th>Dest_State</th>\n",
              "      <th>osrm_time</th>\n",
              "      <th>osrm_distance</th>\n",
              "    </tr>\n",
              "  </thead>\n",
              "  <tbody>\n",
              "    <tr>\n",
              "      <th>32</th>\n",
              "      <td>Gujarat</td>\n",
              "      <td>Daman &amp; Diu</td>\n",
              "      <td>11.000000</td>\n",
              "      <td>10.292100</td>\n",
              "    </tr>\n",
              "    <tr>\n",
              "      <th>18</th>\n",
              "      <td>Chandigarh</td>\n",
              "      <td>Chandigarh</td>\n",
              "      <td>14.615385</td>\n",
              "      <td>14.791408</td>\n",
              "    </tr>\n",
              "    <tr>\n",
              "      <th>21</th>\n",
              "      <td>Dadra and Nagar Haveli</td>\n",
              "      <td>Gujarat</td>\n",
              "      <td>13.600000</td>\n",
              "      <td>15.748120</td>\n",
              "    </tr>\n",
              "    <tr>\n",
              "      <th>31</th>\n",
              "      <td>Gujarat</td>\n",
              "      <td>Dadra and Nagar Haveli</td>\n",
              "      <td>13.588235</td>\n",
              "      <td>15.949929</td>\n",
              "    </tr>\n",
              "    <tr>\n",
              "      <th>23</th>\n",
              "      <td>Delhi</td>\n",
              "      <td>Delhi</td>\n",
              "      <td>19.594470</td>\n",
              "      <td>18.258636</td>\n",
              "    </tr>\n",
              "    <tr>\n",
              "      <th>...</th>\n",
              "      <td>...</td>\n",
              "      <td>...</td>\n",
              "      <td>...</td>\n",
              "      <td>...</td>\n",
              "    </tr>\n",
              "    <tr>\n",
              "      <th>101</th>\n",
              "      <td>Maharashtra</td>\n",
              "      <td>West Bengal</td>\n",
              "      <td>1382.222222</td>\n",
              "      <td>1933.378600</td>\n",
              "    </tr>\n",
              "    <tr>\n",
              "      <th>47</th>\n",
              "      <td>Haryana</td>\n",
              "      <td>Karnataka</td>\n",
              "      <td>1508.409091</td>\n",
              "      <td>2063.971682</td>\n",
              "    </tr>\n",
              "    <tr>\n",
              "      <th>71</th>\n",
              "      <td>Karnataka</td>\n",
              "      <td>Haryana</td>\n",
              "      <td>1527.800000</td>\n",
              "      <td>2072.981998</td>\n",
              "    </tr>\n",
              "    <tr>\n",
              "      <th>53</th>\n",
              "      <td>Haryana</td>\n",
              "      <td>Tamil Nadu</td>\n",
              "      <td>1610.357143</td>\n",
              "      <td>2190.494436</td>\n",
              "    </tr>\n",
              "    <tr>\n",
              "      <th>117</th>\n",
              "      <td>Punjab</td>\n",
              "      <td>Karnataka</td>\n",
              "      <td>1686.000000</td>\n",
              "      <td>2326.199100</td>\n",
              "    </tr>\n",
              "  </tbody>\n",
              "</table>\n",
              "<p>155 rows × 4 columns</p>\n",
              "</div>\n",
              "      <button class=\"colab-df-convert\" onclick=\"convertToInteractive('df-1bba6185-ec8f-4c34-845c-d27ff79c4bd8')\"\n",
              "              title=\"Convert this dataframe to an interactive table.\"\n",
              "              style=\"display:none;\">\n",
              "        \n",
              "  <svg xmlns=\"http://www.w3.org/2000/svg\" height=\"24px\"viewBox=\"0 0 24 24\"\n",
              "       width=\"24px\">\n",
              "    <path d=\"M0 0h24v24H0V0z\" fill=\"none\"/>\n",
              "    <path d=\"M18.56 5.44l.94 2.06.94-2.06 2.06-.94-2.06-.94-.94-2.06-.94 2.06-2.06.94zm-11 1L8.5 8.5l.94-2.06 2.06-.94-2.06-.94L8.5 2.5l-.94 2.06-2.06.94zm10 10l.94 2.06.94-2.06 2.06-.94-2.06-.94-.94-2.06-.94 2.06-2.06.94z\"/><path d=\"M17.41 7.96l-1.37-1.37c-.4-.4-.92-.59-1.43-.59-.52 0-1.04.2-1.43.59L10.3 9.45l-7.72 7.72c-.78.78-.78 2.05 0 2.83L4 21.41c.39.39.9.59 1.41.59.51 0 1.02-.2 1.41-.59l7.78-7.78 2.81-2.81c.8-.78.8-2.07 0-2.86zM5.41 20L4 18.59l7.72-7.72 1.47 1.35L5.41 20z\"/>\n",
              "  </svg>\n",
              "      </button>\n",
              "      \n",
              "  <style>\n",
              "    .colab-df-container {\n",
              "      display:flex;\n",
              "      flex-wrap:wrap;\n",
              "      gap: 12px;\n",
              "    }\n",
              "\n",
              "    .colab-df-convert {\n",
              "      background-color: #E8F0FE;\n",
              "      border: none;\n",
              "      border-radius: 50%;\n",
              "      cursor: pointer;\n",
              "      display: none;\n",
              "      fill: #1967D2;\n",
              "      height: 32px;\n",
              "      padding: 0 0 0 0;\n",
              "      width: 32px;\n",
              "    }\n",
              "\n",
              "    .colab-df-convert:hover {\n",
              "      background-color: #E2EBFA;\n",
              "      box-shadow: 0px 1px 2px rgba(60, 64, 67, 0.3), 0px 1px 3px 1px rgba(60, 64, 67, 0.15);\n",
              "      fill: #174EA6;\n",
              "    }\n",
              "\n",
              "    [theme=dark] .colab-df-convert {\n",
              "      background-color: #3B4455;\n",
              "      fill: #D2E3FC;\n",
              "    }\n",
              "\n",
              "    [theme=dark] .colab-df-convert:hover {\n",
              "      background-color: #434B5C;\n",
              "      box-shadow: 0px 1px 3px 1px rgba(0, 0, 0, 0.15);\n",
              "      filter: drop-shadow(0px 1px 2px rgba(0, 0, 0, 0.3));\n",
              "      fill: #FFFFFF;\n",
              "    }\n",
              "  </style>\n",
              "\n",
              "      <script>\n",
              "        const buttonEl =\n",
              "          document.querySelector('#df-1bba6185-ec8f-4c34-845c-d27ff79c4bd8 button.colab-df-convert');\n",
              "        buttonEl.style.display =\n",
              "          google.colab.kernel.accessAllowed ? 'block' : 'none';\n",
              "\n",
              "        async function convertToInteractive(key) {\n",
              "          const element = document.querySelector('#df-1bba6185-ec8f-4c34-845c-d27ff79c4bd8');\n",
              "          const dataTable =\n",
              "            await google.colab.kernel.invokeFunction('convertToInteractive',\n",
              "                                                     [key], {});\n",
              "          if (!dataTable) return;\n",
              "\n",
              "          const docLinkHtml = 'Like what you see? Visit the ' +\n",
              "            '<a target=\"_blank\" href=https://colab.research.google.com/notebooks/data_table.ipynb>data table notebook</a>'\n",
              "            + ' to learn more about interactive tables.';\n",
              "          element.innerHTML = '';\n",
              "          dataTable['output_type'] = 'display_data';\n",
              "          await google.colab.output.renderOutput(dataTable, element);\n",
              "          const docLink = document.createElement('div');\n",
              "          docLink.innerHTML = docLinkHtml;\n",
              "          element.appendChild(docLink);\n",
              "        }\n",
              "      </script>\n",
              "    </div>\n",
              "  </div>\n",
              "  "
            ]
          },
          "metadata": {},
          "execution_count": 149
        }
      ]
    },
    {
      "cell_type": "code",
      "source": [
        "# scatterplot for actual distance and actual time based on states\n",
        "plt.figure(figsize=(10,7))\n",
        "sns.scatterplot(x=\"osrm_distance\", y=\"osrm_time\", data=temp)\n",
        "plt.title(\"scatterplot for osrm distance and osrm time\")\n",
        "plt.show()\n",
        "\n",
        "# output is hidden due to organization policy and to manitain confidentiality"
      ],
      "metadata": {
        "id": "cvs9mlVW_iIj"
      },
      "execution_count": null,
      "outputs": []
    },
    {
      "cell_type": "code",
      "source": [
        "temp=df1.groupby([\"Src_City\",\"Dest_City\"]).agg({\"osrm_time\":\"mean\",\"osrm_distance\":\"mean\"}).reset_index().sort_values(\"osrm_distance\")\n",
        "temp"
      ],
      "metadata": {
        "colab": {
          "base_uri": "https://localhost:8080/",
          "height": 424
        },
        "id": "mEwGIYAIATeA",
        "outputId": "7b5b44f9-6b3f-4a07-f99e-8ea0239fc5c6"
      },
      "execution_count": 151,
      "outputs": [
        {
          "output_type": "execute_result",
          "data": {
            "text/plain": [
              "          Src_City                     Dest_City    osrm_time  osrm_distance\n",
              "349   Bhubaneshwar                  Bhubaneshwar     7.000000      10.197450\n",
              "82           Anand                         Anand    12.000000      10.257200\n",
              "2270          Vapi                         Daman    11.000000      10.292100\n",
              "2280      Varanasi      Varanasi (Uttar Pradesh)     8.000000      10.718600\n",
              "1797          Pune  PNQ Pashan DPC (Maharashtra)    12.292683      10.820729\n",
              "...            ...                           ...          ...            ...\n",
              "325       Bhiwandi                       Kolkata  1382.222222    1933.378600\n",
              "798        Gurgaon                     Bengaluru  1508.409091    2063.971682\n",
              "247      Bengaluru                       Gurgaon  1527.800000    2072.981998\n",
              "822        Gurgaon                           MAA  1610.357143    2190.494436\n",
              "438     Chandigarh                     Bengaluru  1686.000000    2326.199100\n",
              "\n",
              "[2341 rows x 4 columns]"
            ],
            "text/html": [
              "\n",
              "  <div id=\"df-9d75ef32-5a17-4c60-9e04-e6e99d474d26\">\n",
              "    <div class=\"colab-df-container\">\n",
              "      <div>\n",
              "<style scoped>\n",
              "    .dataframe tbody tr th:only-of-type {\n",
              "        vertical-align: middle;\n",
              "    }\n",
              "\n",
              "    .dataframe tbody tr th {\n",
              "        vertical-align: top;\n",
              "    }\n",
              "\n",
              "    .dataframe thead th {\n",
              "        text-align: right;\n",
              "    }\n",
              "</style>\n",
              "<table border=\"1\" class=\"dataframe\">\n",
              "  <thead>\n",
              "    <tr style=\"text-align: right;\">\n",
              "      <th></th>\n",
              "      <th>Src_City</th>\n",
              "      <th>Dest_City</th>\n",
              "      <th>osrm_time</th>\n",
              "      <th>osrm_distance</th>\n",
              "    </tr>\n",
              "  </thead>\n",
              "  <tbody>\n",
              "    <tr>\n",
              "      <th>349</th>\n",
              "      <td>Bhubaneshwar</td>\n",
              "      <td>Bhubaneshwar</td>\n",
              "      <td>7.000000</td>\n",
              "      <td>10.197450</td>\n",
              "    </tr>\n",
              "    <tr>\n",
              "      <th>82</th>\n",
              "      <td>Anand</td>\n",
              "      <td>Anand</td>\n",
              "      <td>12.000000</td>\n",
              "      <td>10.257200</td>\n",
              "    </tr>\n",
              "    <tr>\n",
              "      <th>2270</th>\n",
              "      <td>Vapi</td>\n",
              "      <td>Daman</td>\n",
              "      <td>11.000000</td>\n",
              "      <td>10.292100</td>\n",
              "    </tr>\n",
              "    <tr>\n",
              "      <th>2280</th>\n",
              "      <td>Varanasi</td>\n",
              "      <td>Varanasi (Uttar Pradesh)</td>\n",
              "      <td>8.000000</td>\n",
              "      <td>10.718600</td>\n",
              "    </tr>\n",
              "    <tr>\n",
              "      <th>1797</th>\n",
              "      <td>Pune</td>\n",
              "      <td>PNQ Pashan DPC (Maharashtra)</td>\n",
              "      <td>12.292683</td>\n",
              "      <td>10.820729</td>\n",
              "    </tr>\n",
              "    <tr>\n",
              "      <th>...</th>\n",
              "      <td>...</td>\n",
              "      <td>...</td>\n",
              "      <td>...</td>\n",
              "      <td>...</td>\n",
              "    </tr>\n",
              "    <tr>\n",
              "      <th>325</th>\n",
              "      <td>Bhiwandi</td>\n",
              "      <td>Kolkata</td>\n",
              "      <td>1382.222222</td>\n",
              "      <td>1933.378600</td>\n",
              "    </tr>\n",
              "    <tr>\n",
              "      <th>798</th>\n",
              "      <td>Gurgaon</td>\n",
              "      <td>Bengaluru</td>\n",
              "      <td>1508.409091</td>\n",
              "      <td>2063.971682</td>\n",
              "    </tr>\n",
              "    <tr>\n",
              "      <th>247</th>\n",
              "      <td>Bengaluru</td>\n",
              "      <td>Gurgaon</td>\n",
              "      <td>1527.800000</td>\n",
              "      <td>2072.981998</td>\n",
              "    </tr>\n",
              "    <tr>\n",
              "      <th>822</th>\n",
              "      <td>Gurgaon</td>\n",
              "      <td>MAA</td>\n",
              "      <td>1610.357143</td>\n",
              "      <td>2190.494436</td>\n",
              "    </tr>\n",
              "    <tr>\n",
              "      <th>438</th>\n",
              "      <td>Chandigarh</td>\n",
              "      <td>Bengaluru</td>\n",
              "      <td>1686.000000</td>\n",
              "      <td>2326.199100</td>\n",
              "    </tr>\n",
              "  </tbody>\n",
              "</table>\n",
              "<p>2341 rows × 4 columns</p>\n",
              "</div>\n",
              "      <button class=\"colab-df-convert\" onclick=\"convertToInteractive('df-9d75ef32-5a17-4c60-9e04-e6e99d474d26')\"\n",
              "              title=\"Convert this dataframe to an interactive table.\"\n",
              "              style=\"display:none;\">\n",
              "        \n",
              "  <svg xmlns=\"http://www.w3.org/2000/svg\" height=\"24px\"viewBox=\"0 0 24 24\"\n",
              "       width=\"24px\">\n",
              "    <path d=\"M0 0h24v24H0V0z\" fill=\"none\"/>\n",
              "    <path d=\"M18.56 5.44l.94 2.06.94-2.06 2.06-.94-2.06-.94-.94-2.06-.94 2.06-2.06.94zm-11 1L8.5 8.5l.94-2.06 2.06-.94-2.06-.94L8.5 2.5l-.94 2.06-2.06.94zm10 10l.94 2.06.94-2.06 2.06-.94-2.06-.94-.94-2.06-.94 2.06-2.06.94z\"/><path d=\"M17.41 7.96l-1.37-1.37c-.4-.4-.92-.59-1.43-.59-.52 0-1.04.2-1.43.59L10.3 9.45l-7.72 7.72c-.78.78-.78 2.05 0 2.83L4 21.41c.39.39.9.59 1.41.59.51 0 1.02-.2 1.41-.59l7.78-7.78 2.81-2.81c.8-.78.8-2.07 0-2.86zM5.41 20L4 18.59l7.72-7.72 1.47 1.35L5.41 20z\"/>\n",
              "  </svg>\n",
              "      </button>\n",
              "      \n",
              "  <style>\n",
              "    .colab-df-container {\n",
              "      display:flex;\n",
              "      flex-wrap:wrap;\n",
              "      gap: 12px;\n",
              "    }\n",
              "\n",
              "    .colab-df-convert {\n",
              "      background-color: #E8F0FE;\n",
              "      border: none;\n",
              "      border-radius: 50%;\n",
              "      cursor: pointer;\n",
              "      display: none;\n",
              "      fill: #1967D2;\n",
              "      height: 32px;\n",
              "      padding: 0 0 0 0;\n",
              "      width: 32px;\n",
              "    }\n",
              "\n",
              "    .colab-df-convert:hover {\n",
              "      background-color: #E2EBFA;\n",
              "      box-shadow: 0px 1px 2px rgba(60, 64, 67, 0.3), 0px 1px 3px 1px rgba(60, 64, 67, 0.15);\n",
              "      fill: #174EA6;\n",
              "    }\n",
              "\n",
              "    [theme=dark] .colab-df-convert {\n",
              "      background-color: #3B4455;\n",
              "      fill: #D2E3FC;\n",
              "    }\n",
              "\n",
              "    [theme=dark] .colab-df-convert:hover {\n",
              "      background-color: #434B5C;\n",
              "      box-shadow: 0px 1px 3px 1px rgba(0, 0, 0, 0.15);\n",
              "      filter: drop-shadow(0px 1px 2px rgba(0, 0, 0, 0.3));\n",
              "      fill: #FFFFFF;\n",
              "    }\n",
              "  </style>\n",
              "\n",
              "      <script>\n",
              "        const buttonEl =\n",
              "          document.querySelector('#df-9d75ef32-5a17-4c60-9e04-e6e99d474d26 button.colab-df-convert');\n",
              "        buttonEl.style.display =\n",
              "          google.colab.kernel.accessAllowed ? 'block' : 'none';\n",
              "\n",
              "        async function convertToInteractive(key) {\n",
              "          const element = document.querySelector('#df-9d75ef32-5a17-4c60-9e04-e6e99d474d26');\n",
              "          const dataTable =\n",
              "            await google.colab.kernel.invokeFunction('convertToInteractive',\n",
              "                                                     [key], {});\n",
              "          if (!dataTable) return;\n",
              "\n",
              "          const docLinkHtml = 'Like what you see? Visit the ' +\n",
              "            '<a target=\"_blank\" href=https://colab.research.google.com/notebooks/data_table.ipynb>data table notebook</a>'\n",
              "            + ' to learn more about interactive tables.';\n",
              "          element.innerHTML = '';\n",
              "          dataTable['output_type'] = 'display_data';\n",
              "          await google.colab.output.renderOutput(dataTable, element);\n",
              "          const docLink = document.createElement('div');\n",
              "          docLink.innerHTML = docLinkHtml;\n",
              "          element.appendChild(docLink);\n",
              "        }\n",
              "      </script>\n",
              "    </div>\n",
              "  </div>\n",
              "  "
            ]
          },
          "metadata": {},
          "execution_count": 151
        }
      ]
    },
    {
      "cell_type": "code",
      "source": [
        "# scatterplot for actual distance and actual time based on states\n",
        "plt.figure(figsize=(10,7))\n",
        "sns.scatterplot(x=\"osrm_distance\", y=\"osrm_time\", data=temp)\n",
        "plt.title(\"scatterplot for osrm distance and osrm time\")\n",
        "plt.show()\n",
        "\n",
        "# output is hidden due to organization policy and to manitain confidentiality"
      ],
      "metadata": {
        "id": "8e5cn8whAb9r"
      },
      "execution_count": null,
      "outputs": []
    },
    {
      "cell_type": "code",
      "source": [
        "# analyzing segments for source and destination states\n",
        "\n",
        "temp=df.groupby([\"trip_uuid\",\"source_name\",\"destination_name\"]).agg({\"segment_osrm_distance\":\"count\",\"actual_distance_to_destination\":\"last\", \"cutoff_factor\":\"last\",\"actual_time\":\"last\"}).reset_index().sort_values(\"segment_osrm_distance\", ascending=False)\n",
        "temp.rename({\"segment_osrm_distance\":\"Total_segments\",\"actual_distance_to_destination\":\"actual_distance\"}, axis=1, inplace=True)\n",
        "temp[\"source_state\"]=temp[\"source_name\"].apply(lambda i: i[i.find(\"(\")+1:i.find(\")\")] if i is not None else None)\n",
        "temp[\"destination_state\"]=temp[\"destination_name\"].apply(lambda i: i[i.find(\"(\")+1:i.find(\")\")] if i is not None else None)\n",
        "temp\n",
        "# output is hidden due to organization policy and to manitain confidentiality"
      ],
      "metadata": {
        "id": "QB4bRDLnebVZ"
      },
      "execution_count": null,
      "outputs": []
    },
    {
      "cell_type": "code",
      "source": [
        "plt.figure(figsize=(10,7))\n",
        "colors=sns.color_palette(\"YlOrRd\")\n",
        "sns.barplot(x=\"Total_segments\",y=\"source_state\", data=temp,palette=colors)\n",
        "plt.title(\"Barplot for total segments v/s source states\")\n",
        "plt.show()"
      ],
      "metadata": {
        "colab": {
          "base_uri": "https://localhost:8080/",
          "height": 459
        },
        "id": "iW-RjMsqiW5I",
        "outputId": "7fd75b3c-ba20-43d3-f54e-a9dd97910d61"
      },
      "execution_count": 194,
      "outputs": [
        {
          "output_type": "display_data",
          "data": {
            "text/plain": [
              "<Figure size 720x504 with 1 Axes>"
            ],
            "image/png": "[encoded data removed]"
          },
          "metadata": {
            "needs_background": "light"
          }
        }
      ]
    },
    {
      "cell_type": "code",
      "source": [
        "plt.figure(figsize=(10,7))\n",
        "colors=sns.color_palette(\"YlOrRd\")\n",
        "sns.barplot(x=\"Total_segments\",y=\"destination_state\", data=temp,palette=colors)\n",
        "plt.title(\"Barplot for total segments v/s destination states\")\n",
        "plt.show()"
      ],
      "metadata": {
        "colab": {
          "base_uri": "https://localhost:8080/",
          "height": 459
        },
        "id": "CZHL4oR9jEnL",
        "outputId": "c54b1f60-5d05-4b0b-f89b-554fabbc0967"
      },
      "execution_count": 195,
      "outputs": [
        {
          "output_type": "display_data",
          "data": {
            "text/plain": [
              "<Figure size 720x504 with 1 Axes>"
            ],
            "image/png": "[encoded data removed]"
          },
          "metadata": {
            "needs_background": "light"
          }
        }
      ]
    },
    {
      "cell_type": "code",
      "source": [
        "# scatterplot for cutoff factor v/s actual time\n",
        "plt.figure(figsize=(10,7))\n",
        "sns.scatterplot(x=\"cutoff_factor\", y=\"actual_time\",data=temp)\n",
        "plt.title(\"scatterplot for cutoff factor v/s actual time\")\n",
        "plt.show()\n",
        "# output is hidden due to organization policy and to manitain confidentiality"
      ],
      "metadata": {
        "id": "XcGL64Qv_YEy"
      },
      "execution_count": null,
      "outputs": []
    },
    {
      "cell_type": "code",
      "source": [
        "sns.pairplot(df1.select_dtypes(include=\"float64\"))\n",
        "# output is hidden due to organization policy and to manitain confidentiality"
      ],
      "metadata": {
        "id": "DYslAhq2BUTn"
      },
      "execution_count": null,
      "outputs": []
    },
    {
      "cell_type": "markdown",
      "source": [
        "**Observations:**\n",
        "\n",
        "1. Items which are delivered in the same city or which city are closer have less actual time.\n",
        "2. Items which are delivered from west bengal to maharashtra, assam to delhi, punjab to karnataka are taking max time to deliver.\n",
        "3. Even though, with increasing distance actual time is increasing but the same pattern is not followed for few cities and states where distance between source and destination is less but duration between the states is more compared to states where distance between source and destination is more.\n",
        "4. osrm time is linearly increasing with increase in osrm distance but same is not observed for actual distance and time.\n",
        "5. The most segments are allocated to items that are delivered to far-off states, such as punjab to karnataka, followed by haryana and tamil nadu.\n",
        "6. Cutoff factor is proportional to distance hence impacting actual time."
      ],
      "metadata": {
        "id": "E-vH-3_DuoWt"
      }
    },
    {
      "cell_type": "code",
      "source": [
        "df1[\"route_type\"].value_counts()"
      ],
      "metadata": {
        "colab": {
          "base_uri": "https://localhost:8080/",
          "height": 0
        },
        "id": "qDslK8P8GTRk",
        "outputId": "a7963dd3-1c42-4d23-9e7b-00d7846a173a"
      },
      "execution_count": 158,
      "outputs": [
        {
          "output_type": "execute_result",
          "data": {
            "text/plain": [
              "FTL        13798\n",
              "Carting    12424\n",
              "Name: route_type, dtype: int64"
            ]
          },
          "metadata": {},
          "execution_count": 158
        }
      ]
    },
    {
      "cell_type": "markdown",
      "source": [
        "## **Hypothesis Testing**"
      ],
      "metadata": {
        "id": "puiyDIiTJto5"
      }
    },
    {
      "cell_type": "markdown",
      "source": [
        "## **1. Prove (or disprove) that the avg. time to deliver via Truck Load is greater than Carting?**"
      ],
      "metadata": {
        "id": "5Hcq6mcpHVmM"
      }
    },
    {
      "cell_type": "markdown",
      "source": [
        "### Step1: Define Null and Alternate Hypothesis.\n",
        "\n",
        "H0: Actual mean time for Carting and FTL is same.\n",
        "\n",
        "Ha: Actual mean time for FTL is greater than Carting.\n",
        "\n",
        "Let 𝜇1 and 𝜇2 be the average time to deliver via FTL and Carting respectively.\n",
        "\n",
        "Mathematically, above formaulated hypothesis can be written as:\n",
        "\n",
        "H0: 𝜇1 = 𝜇2\n",
        "\n",
        "Ha: 𝜇1 > 𝜇2"
      ],
      "metadata": {
        "id": "0qxwICn-H62r"
      }
    },
    {
      "cell_type": "markdown",
      "source": [
        "### Step2: Select Appropriate Test"
      ],
      "metadata": {
        "id": "9H1BpTooJQLi"
      }
    },
    {
      "cell_type": "code",
      "source": [
        "FTL_actualtime=df1[df1[\"route_type\"]==\"FTL\"][\"actual_time\"].sample(5000)\n",
        "Carting_actualtime=df1[df1[\"route_type\"]==\"Carting\"][\"actual_time\"].sample(5000)"
      ],
      "metadata": {
        "id": "rrN1gAlHJp1I"
      },
      "execution_count": 159,
      "outputs": []
    },
    {
      "cell_type": "code",
      "source": [
        "print(\"Sample standard deviation for actual time in FTL\",round(FTL_actualtime.std(),2))\n",
        "print(\"Sample standard deviation for actual time in Carting\",round(Carting_actualtime.std(),2))"
      ],
      "metadata": {
        "colab": {
          "base_uri": "https://localhost:8080/",
          "height": 0
        },
        "id": "DhWh79L_JtfZ",
        "outputId": "9cf7d820-a90b-414b-fe5a-b20496b73adb"
      },
      "execution_count": 160,
      "outputs": [
        {
          "output_type": "stream",
          "name": "stdout",
          "text": [
            "Sample standard deviation for actual time in FTL 484.67\n",
            "Sample standard deviation for actual time in Carting 103.9\n"
          ]
        }
      ]
    },
    {
      "cell_type": "markdown",
      "source": [
        "As Sample standard deviation are different, population standard deviation can be different. As population standard deviation is unknown, 2 sample independent t-test would be appropriate."
      ],
      "metadata": {
        "id": "OhoxUhp5JxoL"
      }
    },
    {
      "cell_type": "markdown",
      "source": [
        "### Step3: Selecting Significance Level\n",
        "\n",
        "Selecting alpha as 0.05"
      ],
      "metadata": {
        "id": "ndfJh3OLJ4W1"
      }
    },
    {
      "cell_type": "code",
      "source": [
        "alpha=0.05"
      ],
      "metadata": {
        "id": "19K1HFfEJ7ij"
      },
      "execution_count": 161,
      "outputs": []
    },
    {
      "cell_type": "markdown",
      "source": [
        "### Step4: Calculating p-Value"
      ],
      "metadata": {
        "id": "FyKqQQvpBUUq"
      }
    },
    {
      "cell_type": "code",
      "source": [
        "ttest_statistic,p_value=ttest_ind(FTL_actualtime,Carting_actualtime, equal_var=False, alternative=\"greater\")\n",
        "\n",
        "print(\"ttest_statistic:\",ttest_statistic)\n",
        "print(\"p value:\",p_value)\n",
        "\n",
        "print(\"*\"*50)\n",
        "\n",
        "if (p_value>alpha):\n",
        "  print(\"As p value is greater than significance value, fail to reject null hypothesis i.e accept null hypothesis.\")\n",
        "else:\n",
        "  print(\"As p value is less than significance value,reject null hypothesis\")"
      ],
      "metadata": {
        "colab": {
          "base_uri": "https://localhost:8080/",
          "height": 0
        },
        "id": "ZCeLHtowGKjJ",
        "outputId": "ade6fdd2-02d4-47a9-dfb1-148fcefbd674"
      },
      "execution_count": 162,
      "outputs": [
        {
          "output_type": "stream",
          "name": "stdout",
          "text": [
            "ttest_statistic: 29.076991265642164\n",
            "p value: 3.0229185325491953e-173\n",
            "**************************************************\n",
            "As p value is less than significance value,reject null hypothesis\n"
          ]
        }
      ]
    },
    {
      "cell_type": "markdown",
      "source": [
        "**Conclusion:**\n",
        "\n",
        "Since p value is less than 5% significance value, we are rejecting null hypothesis. Hence we have enough statistical evidence to prove that avg time taken to deliver via FTL is greater when delivered via Carting."
      ],
      "metadata": {
        "id": "mcWphc9jKEXU"
      }
    },
    {
      "cell_type": "markdown",
      "source": [
        "## **2. Prove if start_end_time and start_scan_to_end_scan time are significant different.**"
      ],
      "metadata": {
        "id": "nNq4LdqOYsz0"
      }
    },
    {
      "cell_type": "markdown",
      "source": [
        "T-Test and KS Test can be used to compare 2 samples."
      ],
      "metadata": {
        "id": "bgjEYwT3Bcoz"
      }
    },
    {
      "cell_type": "code",
      "source": [
        "# extracting feature for time taken between od_start_time and od_end_time\n",
        "df1[\"diff_start_end_time\"]=round((df1[\"od_end_time\"]-df1[\"od_start_time\"]) / np.timedelta64(1,\"m\"),2)\n",
        "df1[\"diff_start_end_time\"]"
      ],
      "metadata": {
        "colab": {
          "base_uri": "https://localhost:8080/",
          "height": 0
        },
        "id": "UERPRB5aEPj5",
        "outputId": "ca32cf9c-5202-460a-b820-4561ca18eebe"
      },
      "execution_count": 163,
      "outputs": [
        {
          "output_type": "execute_result",
          "data": {
            "text/plain": [
              "0        1260.60\n",
              "1         999.51\n",
              "2          58.83\n",
              "3         122.78\n",
              "4         834.64\n",
              "          ...   \n",
              "26363      62.12\n",
              "26364      91.09\n",
              "26365      44.17\n",
              "26366     287.47\n",
              "26367      66.93\n",
              "Name: diff_start_end_time, Length: 26222, dtype: float64"
            ]
          },
          "metadata": {},
          "execution_count": 163
        }
      ]
    },
    {
      "cell_type": "markdown",
      "source": [
        "### **1. T-Test**"
      ],
      "metadata": {
        "id": "99qVvASt1TuR"
      }
    },
    {
      "cell_type": "markdown",
      "source": [
        "### Step1: Define Null and Alternate Hypothesis.\n",
        "\n",
        "H0: start_end_time and start_scan_to_end_scan time are same.\n",
        "\n",
        "Ha: start_end_time and start_scan_to_end_scan time are different."
      ],
      "metadata": {
        "id": "LXyE71VfuGQT"
      }
    },
    {
      "cell_type": "markdown",
      "source": [
        "### Step2: Selecting Significance Level\n",
        "\n",
        "Selecting alpha as 0.05"
      ],
      "metadata": {
        "id": "pqpzJYpkBCrL"
      }
    },
    {
      "cell_type": "code",
      "source": [
        "alpha=0.05"
      ],
      "metadata": {
        "id": "QLIfmq0BDD_K"
      },
      "execution_count": 164,
      "outputs": []
    },
    {
      "cell_type": "markdown",
      "source": [
        "### Step3: Calculating p-Value"
      ],
      "metadata": {
        "id": "iMuiq2qcBXKd"
      }
    },
    {
      "cell_type": "code",
      "source": [
        "ttest_statistic,p_value=ttest_ind(df1[\"diff_start_end_time\"],df1[\"start_scan_to_end_scan\"])\n",
        "\n",
        "print(\"ttest_statistic:\",ttest_statistic)\n",
        "print(\"p value:\",p_value)\n",
        "\n",
        "print(\"*\"*50)\n",
        "\n",
        "if (p_value>alpha):\n",
        "  print(\"As p value is greater than significance value, fail to reject null hypothesis i.e accept null hypothesis.\")\n",
        "else:\n",
        "  print(\"As p value is less than significance value,reject null hypothesis\")"
      ],
      "metadata": {
        "colab": {
          "base_uri": "https://localhost:8080/",
          "height": 0
        },
        "id": "58G-dkWoC42p",
        "outputId": "87652d0e-16d0-4383-c71d-9901622d5b4e"
      },
      "execution_count": 165,
      "outputs": [
        {
          "output_type": "stream",
          "name": "stdout",
          "text": [
            "ttest_statistic: 0.12946380773344773\n",
            "p value: 0.8969911576521526\n",
            "**************************************************\n",
            "As p value is greater than significance value, fail to reject null hypothesis i.e accept null hypothesis.\n"
          ]
        }
      ]
    },
    {
      "cell_type": "markdown",
      "source": [
        "**Conclusion:**\n",
        "\n",
        "Since p value is greater than 5% significance value, we failed to reject null hypothesis. Hence we have enough statistical evidence to prove that start_end_time and start_scan_to_end_scan time are same."
      ],
      "metadata": {
        "id": "xznlorwjFJ8E"
      }
    },
    {
      "cell_type": "markdown",
      "source": [
        "### **2. KS Test**"
      ],
      "metadata": {
        "id": "A4QJjdWNFYKy"
      }
    },
    {
      "cell_type": "markdown",
      "source": [
        "### Step1: Define Null and Alternate Hypothesis.\n",
        "\n",
        "H0: Distribution of start_end_time and start_scan_to_end_scan time are similar.\n",
        "\n",
        "Ha: Distribution of start_end_time and start_scan_to_end_scan time are different.\n",
        "\n"
      ],
      "metadata": {
        "id": "1htqJ4goFceb"
      }
    },
    {
      "cell_type": "markdown",
      "source": [
        "### Step2: Selecting Significance Level\n",
        "\n",
        "Selecting alpha as 0.05"
      ],
      "metadata": {
        "id": "cfnhRZdVudnj"
      }
    },
    {
      "cell_type": "code",
      "source": [
        "alpha=0.05"
      ],
      "metadata": {
        "id": "8zJ7dmmCFxwp"
      },
      "execution_count": 166,
      "outputs": []
    },
    {
      "cell_type": "markdown",
      "source": [
        "### Step3: Calculating p-Value"
      ],
      "metadata": {
        "id": "7iW-PezoFshw"
      }
    },
    {
      "cell_type": "code",
      "source": [
        "kstest_statistic,p_value=kstest(df1[\"diff_start_end_time\"],df1[\"start_scan_to_end_scan\"])\n",
        "\n",
        "print(\"kstest_statistic:\",kstest_statistic)\n",
        "print(\"p value:\",p_value)\n",
        "\n",
        "print(\"*\"*50)\n",
        "\n",
        "if (p_value>alpha):\n",
        "  print(\"As p value is greater than significance value, fail to reject null hypothesis i.e accept null hypothesis.\")\n",
        "else:\n",
        "  print(\"As p value is less than significance value,reject null hypothesis\")"
      ],
      "metadata": {
        "colab": {
          "base_uri": "https://localhost:8080/",
          "height": 0
        },
        "id": "FfDdRybPudV-",
        "outputId": "0d74c644-64f1-48c4-9f40-5c6812d68485"
      },
      "execution_count": 167,
      "outputs": [
        {
          "output_type": "stream",
          "name": "stdout",
          "text": [
            "kstest_statistic: 0.006902600869498898\n",
            "p value: 0.5575053318743617\n",
            "**************************************************\n",
            "As p value is greater than significance value, fail to reject null hypothesis i.e accept null hypothesis.\n"
          ]
        }
      ]
    },
    {
      "cell_type": "markdown",
      "source": [
        "**Conclusion:**\n",
        "\n",
        "Since p value is greater than 5% significance value, we failed to reject null hypothesis. Hence we have enough statistical evidence to prove that distribution of start_end_time and start_scan_to_end_scan time are same."
      ],
      "metadata": {
        "id": "FDqt6BewGKeO"
      }
    },
    {
      "cell_type": "code",
      "source": [
        "plt.figure(figsize=(15,5))\n",
        "plt.subplot(1,2,1)\n",
        "sns.distplot(x=df1[\"diff_start_end_time\"],hist=True, kde_kws={\"linewidth\":3}, hist_kws={\"edgecolor\":\"black\"})\n",
        "plt.title(\"Distribution plot for diff_start_end_time\")\n",
        "\n",
        "plt.subplot(1,2,2)\n",
        "sns.distplot(x=df1[\"start_scan_to_end_scan\"],hist=True, kde_kws={\"linewidth\":3}, hist_kws={\"edgecolor\":\"black\"})\n",
        "plt.title(\"Distribution plot for start_scan_to_end_scan\")\n",
        "plt.show()\n",
        "# output is hidden due to organization policy and to manitain confidentiality"
      ],
      "metadata": {
        "id": "GVkuR52AIIbp"
      },
      "execution_count": null,
      "outputs": []
    },
    {
      "cell_type": "code",
      "source": [
        "plt.figure(figsize=(7,5))\n",
        "sns.scatterplot(x=\"diff_start_end_time\",y=\"start_scan_to_end_scan\",data=df1)\n",
        "plt.title(\"Scatter plot for diff_start_end_time and start_scan_to_end_scan\")\n",
        "plt.show()\n",
        "# output is hidden due to organization policy and to manitain confidentiality"
      ],
      "metadata": {
        "id": "YTzY22DLptDQ"
      },
      "execution_count": null,
      "outputs": []
    },
    {
      "cell_type": "markdown",
      "source": [
        "### **3. Prove or Disprove mean of osrm and actual time are significant different.**"
      ],
      "metadata": {
        "id": "EFB89Fr7OkIH"
      }
    },
    {
      "cell_type": "code",
      "source": [
        "# aggregating values based on trip\n",
        "\n",
        "df2=df.groupby([\"trip_uuid\"]).agg({\"source_center\":\"first\",\"destination_center\":\"first\",\"trip_creation_time\":\"first\",\"route_type\":\"first\",\"od_start_time\":\"first\",\"od_end_time\":\"first\",\"start_scan_to_end_scan\":\"first\",\"source_name\":\"last\",\"destination_name\":\"last\",\"actual_time\":\"last\",\"actual_distance_to_destination\":\"last\",\"osrm_time\":\"last\",\"segment_osrm_time\":\"sum\",\"segment_osrm_distance\":\"sum\",\"osrm_distance\":\"last\",\"segment_actual_time\":\"sum\"}).reset_index()\n",
        "df2.rename({\"actual_distance_to_destination\":\"actual_distance\"}, axis=1,inplace=True)\n",
        "df2.head()"
      ],
      "metadata": {
        "colab": {
          "base_uri": "https://localhost:8080/",
          "height": 357
        },
        "id": "nAMkv2YAwsXh",
        "outputId": "a3a57830-8296-428e-b8e8-3e66c1a545b1"
      },
      "execution_count": 170,
      "outputs": [
        {
          "output_type": "execute_result",
          "data": {
            "text/plain": [
              "                 trip_uuid source_center destination_center  \\\n",
              "0  trip-153671041653548748  IND462022AAA       IND209304AAA   \n",
              "1  trip-153671042288605164  IND572101AAA       IND561203AAB   \n",
              "2  trip-153671043369099517  IND562132AAA       IND000000ACB   \n",
              "3  trip-153671046011330457  IND400072AAB       IND401104AAA   \n",
              "4  trip-153671052974046625  IND583101AAA       IND583201AAA   \n",
              "\n",
              "           trip_creation_time route_type               od_start_time  \\\n",
              "0  2018-09-12 00:00:16.535741        FTL  2018-09-12 00:00:16.535741   \n",
              "1  2018-09-12 00:00:22.886430    Carting  2018-09-12 00:00:22.886430   \n",
              "2  2018-09-12 00:00:33.691250        FTL  2018-09-12 00:00:33.691250   \n",
              "3  2018-09-12 00:01:00.113710    Carting  2018-09-12 00:01:00.113710   \n",
              "4  2018-09-12 00:02:09.740725        FTL  2018-09-12 00:02:09.740725   \n",
              "\n",
              "                  od_end_time  start_scan_to_end_scan  \\\n",
              "0  2018-09-12 16:39:46.858469                   999.0   \n",
              "1  2018-09-12 02:03:09.655591                   122.0   \n",
              "2  2018-09-14 03:40:17.106733                  3099.0   \n",
              "3  2018-09-12 01:41:29.809822                   100.0   \n",
              "4  2018-09-12 02:34:10.515593                   152.0   \n",
              "\n",
              "                          source_name                   destination_name  \\\n",
              "0  Kanpur_Central_H_6 (Uttar Pradesh)      Gurgaon_Bilaspur_HB (Haryana)   \n",
              "1   Doddablpur_ChikaDPP_D (Karnataka)  Chikblapur_ShntiSgr_D (Karnataka)   \n",
              "2       Gurgaon_Bilaspur_HB (Haryana)     Chandigarh_Mehmdpur_H (Punjab)   \n",
              "3            Mumbai Hub (Maharashtra)     Mumbai_MiraRd_IP (Maharashtra)   \n",
              "4       Sandur_WrdN1DPP_D (Karnataka)             Bellary_Dc (Karnataka)   \n",
              "\n",
              "   actual_time  actual_distance  osrm_time  segment_osrm_time  \\\n",
              "0        732.0       383.759164      329.0             1008.0   \n",
              "1         47.0        24.644021       26.0               65.0   \n",
              "2        611.0       237.439610      212.0             1941.0   \n",
              "3         59.0        17.175274       15.0               16.0   \n",
              "4        131.0        41.317614       44.0              115.0   \n",
              "\n",
              "   segment_osrm_distance  osrm_distance  segment_actual_time  \n",
              "0              1320.4733       446.5496               1548.0  \n",
              "1                84.1894        28.1994                141.0  \n",
              "2              2545.2678       281.2109               3308.0  \n",
              "3                19.8766        19.6800                 59.0  \n",
              "4               146.7919        53.5761                340.0  "
            ],
            "text/html": [
              "\n",
              "  <div id=\"df-a583f738-cacf-47f8-b4ed-39504937335c\">\n",
              "    <div class=\"colab-df-container\">\n",
              "      <div>\n",
              "<style scoped>\n",
              "    .dataframe tbody tr th:only-of-type {\n",
              "        vertical-align: middle;\n",
              "    }\n",
              "\n",
              "    .dataframe tbody tr th {\n",
              "        vertical-align: top;\n",
              "    }\n",
              "\n",
              "    .dataframe thead th {\n",
              "        text-align: right;\n",
              "    }\n",
              "</style>\n",
              "<table border=\"1\" class=\"dataframe\">\n",
              "  <thead>\n",
              "    <tr style=\"text-align: right;\">\n",
              "      <th></th>\n",
              "      <th>trip_uuid</th>\n",
              "      <th>source_center</th>\n",
              "      <th>destination_center</th>\n",
              "      <th>trip_creation_time</th>\n",
              "      <th>route_type</th>\n",
              "      <th>od_start_time</th>\n",
              "      <th>od_end_time</th>\n",
              "      <th>start_scan_to_end_scan</th>\n",
              "      <th>source_name</th>\n",
              "      <th>destination_name</th>\n",
              "      <th>actual_time</th>\n",
              "      <th>actual_distance</th>\n",
              "      <th>osrm_time</th>\n",
              "      <th>segment_osrm_time</th>\n",
              "      <th>segment_osrm_distance</th>\n",
              "      <th>osrm_distance</th>\n",
              "      <th>segment_actual_time</th>\n",
              "    </tr>\n",
              "  </thead>\n",
              "  <tbody>\n",
              "    <tr>\n",
              "      <th>0</th>\n",
              "      <td>trip-153671041653548748</td>\n",
              "      <td>IND462022AAA</td>\n",
              "      <td>IND209304AAA</td>\n",
              "      <td>2018-09-12 00:00:16.535741</td>\n",
              "      <td>FTL</td>\n",
              "      <td>2018-09-12 00:00:16.535741</td>\n",
              "      <td>2018-09-12 16:39:46.858469</td>\n",
              "      <td>999.0</td>\n",
              "      <td>Kanpur_Central_H_6 (Uttar Pradesh)</td>\n",
              "      <td>Gurgaon_Bilaspur_HB (Haryana)</td>\n",
              "      <td>732.0</td>\n",
              "      <td>383.759164</td>\n",
              "      <td>329.0</td>\n",
              "      <td>1008.0</td>\n",
              "      <td>1320.4733</td>\n",
              "      <td>446.5496</td>\n",
              "      <td>1548.0</td>\n",
              "    </tr>\n",
              "    <tr>\n",
              "      <th>1</th>\n",
              "      <td>trip-153671042288605164</td>\n",
              "      <td>IND572101AAA</td>\n",
              "      <td>IND561203AAB</td>\n",
              "      <td>2018-09-12 00:00:22.886430</td>\n",
              "      <td>Carting</td>\n",
              "      <td>2018-09-12 00:00:22.886430</td>\n",
              "      <td>2018-09-12 02:03:09.655591</td>\n",
              "      <td>122.0</td>\n",
              "      <td>Doddablpur_ChikaDPP_D (Karnataka)</td>\n",
              "      <td>Chikblapur_ShntiSgr_D (Karnataka)</td>\n",
              "      <td>47.0</td>\n",
              "      <td>24.644021</td>\n",
              "      <td>26.0</td>\n",
              "      <td>65.0</td>\n",
              "      <td>84.1894</td>\n",
              "      <td>28.1994</td>\n",
              "      <td>141.0</td>\n",
              "    </tr>\n",
              "    <tr>\n",
              "      <th>2</th>\n",
              "      <td>trip-153671043369099517</td>\n",
              "      <td>IND562132AAA</td>\n",
              "      <td>IND000000ACB</td>\n",
              "      <td>2018-09-12 00:00:33.691250</td>\n",
              "      <td>FTL</td>\n",
              "      <td>2018-09-12 00:00:33.691250</td>\n",
              "      <td>2018-09-14 03:40:17.106733</td>\n",
              "      <td>3099.0</td>\n",
              "      <td>Gurgaon_Bilaspur_HB (Haryana)</td>\n",
              "      <td>Chandigarh_Mehmdpur_H (Punjab)</td>\n",
              "      <td>611.0</td>\n",
              "      <td>237.439610</td>\n",
              "      <td>212.0</td>\n",
              "      <td>1941.0</td>\n",
              "      <td>2545.2678</td>\n",
              "      <td>281.2109</td>\n",
              "      <td>3308.0</td>\n",
              "    </tr>\n",
              "    <tr>\n",
              "      <th>3</th>\n",
              "      <td>trip-153671046011330457</td>\n",
              "      <td>IND400072AAB</td>\n",
              "      <td>IND401104AAA</td>\n",
              "      <td>2018-09-12 00:01:00.113710</td>\n",
              "      <td>Carting</td>\n",
              "      <td>2018-09-12 00:01:00.113710</td>\n",
              "      <td>2018-09-12 01:41:29.809822</td>\n",
              "      <td>100.0</td>\n",
              "      <td>Mumbai Hub (Maharashtra)</td>\n",
              "      <td>Mumbai_MiraRd_IP (Maharashtra)</td>\n",
              "      <td>59.0</td>\n",
              "      <td>17.175274</td>\n",
              "      <td>15.0</td>\n",
              "      <td>16.0</td>\n",
              "      <td>19.8766</td>\n",
              "      <td>19.6800</td>\n",
              "      <td>59.0</td>\n",
              "    </tr>\n",
              "    <tr>\n",
              "      <th>4</th>\n",
              "      <td>trip-153671052974046625</td>\n",
              "      <td>IND583101AAA</td>\n",
              "      <td>IND583201AAA</td>\n",
              "      <td>2018-09-12 00:02:09.740725</td>\n",
              "      <td>FTL</td>\n",
              "      <td>2018-09-12 00:02:09.740725</td>\n",
              "      <td>2018-09-12 02:34:10.515593</td>\n",
              "      <td>152.0</td>\n",
              "      <td>Sandur_WrdN1DPP_D (Karnataka)</td>\n",
              "      <td>Bellary_Dc (Karnataka)</td>\n",
              "      <td>131.0</td>\n",
              "      <td>41.317614</td>\n",
              "      <td>44.0</td>\n",
              "      <td>115.0</td>\n",
              "      <td>146.7919</td>\n",
              "      <td>53.5761</td>\n",
              "      <td>340.0</td>\n",
              "    </tr>\n",
              "  </tbody>\n",
              "</table>\n",
              "</div>\n",
              "      <button class=\"colab-df-convert\" onclick=\"convertToInteractive('df-a583f738-cacf-47f8-b4ed-39504937335c')\"\n",
              "              title=\"Convert this dataframe to an interactive table.\"\n",
              "              style=\"display:none;\">\n",
              "        \n",
              "  <svg xmlns=\"http://www.w3.org/2000/svg\" height=\"24px\"viewBox=\"0 0 24 24\"\n",
              "       width=\"24px\">\n",
              "    <path d=\"M0 0h24v24H0V0z\" fill=\"none\"/>\n",
              "    <path d=\"M18.56 5.44l.94 2.06.94-2.06 2.06-.94-2.06-.94-.94-2.06-.94 2.06-2.06.94zm-11 1L8.5 8.5l.94-2.06 2.06-.94-2.06-.94L8.5 2.5l-.94 2.06-2.06.94zm10 10l.94 2.06.94-2.06 2.06-.94-2.06-.94-.94-2.06-.94 2.06-2.06.94z\"/><path d=\"M17.41 7.96l-1.37-1.37c-.4-.4-.92-.59-1.43-.59-.52 0-1.04.2-1.43.59L10.3 9.45l-7.72 7.72c-.78.78-.78 2.05 0 2.83L4 21.41c.39.39.9.59 1.41.59.51 0 1.02-.2 1.41-.59l7.78-7.78 2.81-2.81c.8-.78.8-2.07 0-2.86zM5.41 20L4 18.59l7.72-7.72 1.47 1.35L5.41 20z\"/>\n",
              "  </svg>\n",
              "      </button>\n",
              "      \n",
              "  <style>\n",
              "    .colab-df-container {\n",
              "      display:flex;\n",
              "      flex-wrap:wrap;\n",
              "      gap: 12px;\n",
              "    }\n",
              "\n",
              "    .colab-df-convert {\n",
              "      background-color: #E8F0FE;\n",
              "      border: none;\n",
              "      border-radius: 50%;\n",
              "      cursor: pointer;\n",
              "      display: none;\n",
              "      fill: #1967D2;\n",
              "      height: 32px;\n",
              "      padding: 0 0 0 0;\n",
              "      width: 32px;\n",
              "    }\n",
              "\n",
              "    .colab-df-convert:hover {\n",
              "      background-color: #E2EBFA;\n",
              "      box-shadow: 0px 1px 2px rgba(60, 64, 67, 0.3), 0px 1px 3px 1px rgba(60, 64, 67, 0.15);\n",
              "      fill: #174EA6;\n",
              "    }\n",
              "\n",
              "    [theme=dark] .colab-df-convert {\n",
              "      background-color: #3B4455;\n",
              "      fill: #D2E3FC;\n",
              "    }\n",
              "\n",
              "    [theme=dark] .colab-df-convert:hover {\n",
              "      background-color: #434B5C;\n",
              "      box-shadow: 0px 1px 3px 1px rgba(0, 0, 0, 0.15);\n",
              "      filter: drop-shadow(0px 1px 2px rgba(0, 0, 0, 0.3));\n",
              "      fill: #FFFFFF;\n",
              "    }\n",
              "  </style>\n",
              "\n",
              "      <script>\n",
              "        const buttonEl =\n",
              "          document.querySelector('#df-a583f738-cacf-47f8-b4ed-39504937335c button.colab-df-convert');\n",
              "        buttonEl.style.display =\n",
              "          google.colab.kernel.accessAllowed ? 'block' : 'none';\n",
              "\n",
              "        async function convertToInteractive(key) {\n",
              "          const element = document.querySelector('#df-a583f738-cacf-47f8-b4ed-39504937335c');\n",
              "          const dataTable =\n",
              "            await google.colab.kernel.invokeFunction('convertToInteractive',\n",
              "                                                     [key], {});\n",
              "          if (!dataTable) return;\n",
              "\n",
              "          const docLinkHtml = 'Like what you see? Visit the ' +\n",
              "            '<a target=\"_blank\" href=https://colab.research.google.com/notebooks/data_table.ipynb>data table notebook</a>'\n",
              "            + ' to learn more about interactive tables.';\n",
              "          element.innerHTML = '';\n",
              "          dataTable['output_type'] = 'display_data';\n",
              "          await google.colab.output.renderOutput(dataTable, element);\n",
              "          const docLink = document.createElement('div');\n",
              "          docLink.innerHTML = docLinkHtml;\n",
              "          element.appendChild(docLink);\n",
              "        }\n",
              "      </script>\n",
              "    </div>\n",
              "  </div>\n",
              "  "
            ]
          },
          "metadata": {},
          "execution_count": 170
        }
      ]
    },
    {
      "cell_type": "markdown",
      "source": [
        "### Step1: Define Null and Alternate Hypothesis.\n",
        "\n",
        "H0: mean of osrm and actual time are equal.\n",
        "\n",
        "Ha: mean of osrm time is greater than actual time."
      ],
      "metadata": {
        "id": "1BsjtyckQsSJ"
      }
    },
    {
      "cell_type": "markdown",
      "source": [
        "### Step2: Selecting Significance Level\n",
        "\n",
        "Selecting alpha as 0.05"
      ],
      "metadata": {
        "id": "QpyPedlFQoTd"
      }
    },
    {
      "cell_type": "code",
      "source": [
        "alpha=0.05"
      ],
      "metadata": {
        "id": "Lb1qlF94Q1Hu"
      },
      "execution_count": 171,
      "outputs": []
    },
    {
      "cell_type": "markdown",
      "source": [
        "### Step3: Calculating p-Value"
      ],
      "metadata": {
        "id": "jL5eVCsGQ_p-"
      }
    },
    {
      "cell_type": "code",
      "source": [
        "ttest_statistic,p_value=ttest_ind(df2[\"osrm_time\"].sample(2999),df2[\"actual_time\"].sample(2999), alternative=\"greater\")\n",
        "\n",
        "print(\"ttest_statistic:\",ttest_statistic)\n",
        "print(\"p value:\",p_value)\n",
        "\n",
        "print(\"*\"*50)\n",
        "\n",
        "if (p_value>alpha):\n",
        "  print(\"As p value is greater than significance value, fail to reject null hypothesis i.e accept null hypothesis.\")\n",
        "else:\n",
        "  print(\"As p value is less than significance value,reject null hypothesis\")"
      ],
      "metadata": {
        "colab": {
          "base_uri": "https://localhost:8080/",
          "height": 0
        },
        "id": "ruM0B2bzRE8c",
        "outputId": "05da5c8b-7038-4e6f-e1b5-4a8a297820df"
      },
      "execution_count": 173,
      "outputs": [
        {
          "output_type": "stream",
          "name": "stdout",
          "text": [
            "ttest_statistic: -15.189088620191052\n",
            "p value: 1.0\n",
            "**************************************************\n",
            "As p value is greater than significance value, fail to reject null hypothesis i.e accept null hypothesis.\n"
          ]
        }
      ]
    },
    {
      "cell_type": "markdown",
      "source": [
        "**Conclusion:**\n",
        "\n",
        "Since p value is greater than 5% significance value, we failed to reject null hypothesis. Hence we have enough statistical evidence to prove that mean of osrm and actual time are equal."
      ],
      "metadata": {
        "id": "OYc5sou1R_4U"
      }
    },
    {
      "cell_type": "markdown",
      "source": [
        "### **2. KS Test**"
      ],
      "metadata": {
        "id": "xFb90rGbr2A7"
      }
    },
    {
      "cell_type": "markdown",
      "source": [
        "### Step1: Define Null and Alternate Hypothesis.\n",
        "\n",
        "H0: Distribution of osrm and actual time are similar.\n",
        "\n",
        "Ha: Distribution of osrm and actual time are not similar."
      ],
      "metadata": {
        "id": "5YFRYMWcr8cF"
      }
    },
    {
      "cell_type": "markdown",
      "source": [
        "### Step2: Selecting Significance Level\n",
        "\n",
        "Selecting alpha as 0.05"
      ],
      "metadata": {
        "id": "V3P_IxI6sH8P"
      }
    },
    {
      "cell_type": "code",
      "source": [
        "alpha=0.05"
      ],
      "metadata": {
        "id": "fHvvR82Dt9_p"
      },
      "execution_count": 174,
      "outputs": []
    },
    {
      "cell_type": "markdown",
      "source": [
        "### Step3: Calculating p-Value"
      ],
      "metadata": {
        "id": "L8FYz2yruC4E"
      }
    },
    {
      "cell_type": "code",
      "source": [
        "kstest_statistic,p_value=kstest(df2[\"osrm_time\"],df2[\"actual_time\"])\n",
        "\n",
        "print(\"kstest_statistic:\",kstest_statistic)\n",
        "print(\"p value:\",p_value)\n",
        "\n",
        "print(\"*\"*50)\n",
        "\n",
        "if (p_value>alpha):\n",
        "  print(\"As p value is greater than significance value, fail to reject null hypothesis i.e accept null hypothesis.\")\n",
        "else:\n",
        "  print(\"As p value is less than significance value,reject null hypothesis\")"
      ],
      "metadata": {
        "colab": {
          "base_uri": "https://localhost:8080/",
          "height": 0
        },
        "id": "8yHdOJCuuKaH",
        "outputId": "564e2571-5b0f-451a-8a1c-c012036d3d9f"
      },
      "execution_count": 175,
      "outputs": [
        {
          "output_type": "stream",
          "name": "stdout",
          "text": [
            "kstest_statistic: 0.3679557265303368\n",
            "p value: 0.0\n",
            "**************************************************\n",
            "As p value is less than significance value,reject null hypothesis\n"
          ]
        }
      ]
    },
    {
      "cell_type": "markdown",
      "source": [
        "**Conclusion:**\n",
        "\n",
        "Since p value is less than 5% significance value, we reject null hypothesis. Hence we dont have enough statistical evidence to prove that distribution of osrm_time and actual_time are same."
      ],
      "metadata": {
        "id": "K5POX6uKwfbF"
      }
    },
    {
      "cell_type": "code",
      "source": [
        "plt.figure(figsize=(15,5))\n",
        "plt.subplot(1,2,1)\n",
        "sns.distplot(x=df2[\"osrm_time\"],hist=True, kde_kws={\"linewidth\":3}, hist_kws={\"edgecolor\":\"black\"})\n",
        "plt.title(\"Distribution plot for osrm_time\")\n",
        "\n",
        "plt.subplot(1,2,2)\n",
        "sns.distplot(x=df2[\"actual_time\"],hist=True, kde_kws={\"linewidth\":3}, hist_kws={\"edgecolor\":\"black\"})\n",
        "plt.title(\"Distribution plot for actual_time\")\n",
        "plt.show()\n",
        "# output is hidden due to organization policy and to manitain confidentiality"
      ],
      "metadata": {
        "id": "QKPz3F_Hu4Oo"
      },
      "execution_count": null,
      "outputs": []
    },
    {
      "cell_type": "markdown",
      "source": [
        "## **4. Prove or Disprove mean of osrm and actual distance are significant different.**"
      ],
      "metadata": {
        "id": "r17_-3dVxbZJ"
      }
    },
    {
      "cell_type": "markdown",
      "source": [
        "### **1. T-Test**"
      ],
      "metadata": {
        "id": "nFJVo4CrzLLz"
      }
    },
    {
      "cell_type": "markdown",
      "source": [
        "### Step1: Define Null and Alternate Hypothesis.\n",
        "\n",
        "H0: mean of osrm and actual distance are equal.\n",
        "\n",
        "Ha: mean of actual distance is greater than osrm time."
      ],
      "metadata": {
        "id": "N6ATKLCbxvLv"
      }
    },
    {
      "cell_type": "markdown",
      "source": [
        "### Step2: Selecting Significance Level\n",
        "\n",
        "Selecting alpha as 0.05"
      ],
      "metadata": {
        "id": "yhL3PkyAy_y_"
      }
    },
    {
      "cell_type": "code",
      "source": [
        "alpha=0.05"
      ],
      "metadata": {
        "id": "T1sGfiOezBY2"
      },
      "execution_count": 177,
      "outputs": []
    },
    {
      "cell_type": "markdown",
      "source": [
        "### Step3: Calculating p-Value"
      ],
      "metadata": {
        "id": "c2naO2U-zFLb"
      }
    },
    {
      "cell_type": "code",
      "source": [
        "ttest_statistic,p_value=ttest_ind(df2[\"actual_distance\"].sample(2999),df2[\"osrm_distance\"].sample(2999), alternative=\"greater\")\n",
        "\n",
        "print(\"ttest_statistic:\",ttest_statistic)\n",
        "print(\"p value:\",p_value)\n",
        "\n",
        "print(\"*\"*50)\n",
        "\n",
        "if (p_value>alpha):\n",
        "  print(\"As p value is greater than significance value, fail to reject null hypothesis i.e accept null hypothesis.\")\n",
        "else:\n",
        "  print(\"As p value is less than significance value,reject null hypothesis\")"
      ],
      "metadata": {
        "colab": {
          "base_uri": "https://localhost:8080/",
          "height": 0
        },
        "id": "VAgmZkg3zKO6",
        "outputId": "ca843317-062a-440a-e197-1fefc09f3321"
      },
      "execution_count": 178,
      "outputs": [
        {
          "output_type": "stream",
          "name": "stdout",
          "text": [
            "ttest_statistic: -4.497937181544769\n",
            "p value: 0.9999965045042503\n",
            "**************************************************\n",
            "As p value is greater than significance value, fail to reject null hypothesis i.e accept null hypothesis.\n"
          ]
        }
      ]
    },
    {
      "cell_type": "markdown",
      "source": [
        "**Conclusion:**\n",
        "\n",
        "Since p value is greater than 5% significance value, we failed to reject null hypothesis. Hence we have enough statistical evidence to prove that mean of osrm and actual distance are equal."
      ],
      "metadata": {
        "id": "NGkYeWaZzrXN"
      }
    },
    {
      "cell_type": "markdown",
      "source": [
        "### **2. KS Test**"
      ],
      "metadata": {
        "id": "a56J8kqxz4Bs"
      }
    },
    {
      "cell_type": "markdown",
      "source": [
        "### Step1: Define Null and Alternate Hypothesis.\n",
        "\n",
        "H0: Distribution of osrm and actual distance are similar.\n",
        "\n",
        "Ha: Distribution of osrm and actual distance are not similar."
      ],
      "metadata": {
        "id": "A4dn1ZVS0CY_"
      }
    },
    {
      "cell_type": "markdown",
      "source": [
        "### Step2: Selecting Significance Level\n",
        "\n",
        "Selecting alpha as 0.05"
      ],
      "metadata": {
        "id": "mA9oRO7Y0Iju"
      }
    },
    {
      "cell_type": "code",
      "source": [
        "alpha=0.05"
      ],
      "metadata": {
        "id": "w-tXLfFC0L-v"
      },
      "execution_count": 179,
      "outputs": []
    },
    {
      "cell_type": "markdown",
      "source": [
        "### Step3: Calculating p-Value"
      ],
      "metadata": {
        "id": "4amkTpzI1Mhj"
      }
    },
    {
      "cell_type": "code",
      "source": [
        "kstest_statistic,p_value=kstest(df2[\"actual_distance\"],df2[\"osrm_distance\"])\n",
        "\n",
        "print(\"kstest_statistic:\",kstest_statistic)\n",
        "print(\"p value:\",p_value)\n",
        "\n",
        "print(\"*\"*50)\n",
        "\n",
        "if (p_value>alpha):\n",
        "  print(\"As p value is greater than significance value, fail to reject null hypothesis i.e accept null hypothesis.\")\n",
        "else:\n",
        "  print(\"As p value is less than significance value,reject null hypothesis\")"
      ],
      "metadata": {
        "colab": {
          "base_uri": "https://localhost:8080/",
          "height": 0
        },
        "id": "eBbuhPXQ0Qnp",
        "outputId": "13bdc365-6cd0-4e7b-b50e-96827cf8626b"
      },
      "execution_count": 180,
      "outputs": [
        {
          "output_type": "stream",
          "name": "stdout",
          "text": [
            "kstest_statistic: 0.13201052844705408\n",
            "p value: 4.9536633582434495e-113\n",
            "**************************************************\n",
            "As p value is less than significance value,reject null hypothesis\n"
          ]
        }
      ]
    },
    {
      "cell_type": "markdown",
      "source": [
        "**Conclusion:**\n",
        "\n",
        "Since p value is less than 5% significance value, we reject null hypothesis. Hence we dont have enough statistical evidence to prove that distribution of osrm and actual distance are same."
      ],
      "metadata": {
        "id": "zRiMTq5M0kab"
      }
    },
    {
      "cell_type": "code",
      "source": [
        "plt.figure(figsize=(15,5))\n",
        "plt.subplot(1,2,1)\n",
        "sns.distplot(x=df2[\"osrm_distance\"],hist=True, kde_kws={\"linewidth\":3}, hist_kws={\"edgecolor\":\"black\"})\n",
        "plt.title(\"Distribution plot for osrm_distance\")\n",
        "\n",
        "plt.subplot(1,2,2)\n",
        "sns.distplot(x=df2[\"actual_distance\"],hist=True, kde_kws={\"linewidth\":3}, hist_kws={\"edgecolor\":\"black\"})\n",
        "plt.title(\"Distribution plot for actual_distance\")\n",
        "plt.show()\n",
        "# output is hidden due to organization policy and to manitain confidentiality"
      ],
      "metadata": {
        "id": "zfV-bTuG0jVD"
      },
      "execution_count": null,
      "outputs": []
    },
    {
      "cell_type": "code",
      "source": [
        "# converting categorical variable route type using one hot coding\n",
        "\n",
        "encoder = OneHotEncoder(sparse=False)\n",
        "ohe= pd.DataFrame(encoder.fit_transform(df1[[\"route_type\"]]))\n",
        "\n",
        "df1=df1.join(ohe)\n",
        "df1.rename({0:\"routetype_Carting\",1:\"routetype_FTL\"}, axis=1, inplace=True)\n",
        "df1.drop([\"route_type\"], axis=1, inplace=True)"
      ],
      "metadata": {
        "id": "D8ycofHX6jn4"
      },
      "execution_count": 182,
      "outputs": []
    },
    {
      "cell_type": "code",
      "source": [
        "# converting categorical variable source state using one hot coding\n",
        "\n",
        "encoder = OneHotEncoder(sparse=False)\n",
        "ohe= pd.DataFrame(encoder.fit_transform(df1[[\"Src_State\"]]))\n",
        "\n",
        "df1=df1.join(ohe)"
      ],
      "metadata": {
        "id": "-T8Ray4Y5k51"
      },
      "execution_count": 183,
      "outputs": []
    },
    {
      "cell_type": "code",
      "source": [
        "# Column standardization for numerical features\n",
        "\n",
        "stdscaler = StandardScaler()\n",
        "continuous_var=list(df1.dtypes[df1.dtypes==\"float64\"].index) + list(df1.dtypes[df1.dtypes==\"int64\"].index)\n",
        "std_data = stdscaler.fit_transform(df1[continuous_var])\n",
        "std_data = pd.DataFrame(std_data, columns=continuous_var)\n",
        "std_data.head()"
      ],
      "metadata": {
        "colab": {
          "base_uri": "https://localhost:8080/",
          "height": 371
        },
        "id": "2zHCmDiLmwM9",
        "outputId": "650450a2-c7b9-4a4e-a960-5792baa8b729"
      },
      "execution_count": 184,
      "outputs": [
        {
          "output_type": "stream",
          "name": "stderr",
          "text": [
            "/usr/local/lib/python3.8/dist-packages/sklearn/utils/validation.py:1688: FutureWarning: Feature names only support names that are all strings. Got feature names with dtypes: ['int', 'str']. An error will be raised in 1.2.\n",
            "  warnings.warn(\n",
            "/usr/local/lib/python3.8/dist-packages/sklearn/utils/validation.py:1688: FutureWarning: Feature names only support names that are all strings. Got feature names with dtypes: ['int', 'str']. An error will be raised in 1.2.\n",
            "  warnings.warn(\n"
          ]
        },
        {
          "output_type": "execute_result",
          "data": {
            "text/plain": [
              "   start_scan_to_end_scan  actual_time  actual_distance  osrm_time  \\\n",
              "0                2.179615     1.376824         1.387132   1.283824   \n",
              "1                1.587924     1.630892         1.659649   1.601797   \n",
              "2               -0.545338    -0.399059        -0.323361  -0.349151   \n",
              "3               -0.400249    -0.272025        -0.209529  -0.262922   \n",
              "4                1.213866     1.063128         0.690201   0.653269   \n",
              "\n",
              "   osrm_distance  segment_osrm_time  segment_osrm_distance  \\\n",
              "0       1.303247           1.999119               1.901293   \n",
              "1       1.689429           1.721596               1.828847   \n",
              "2      -0.341071          -0.350573              -0.339727   \n",
              "3      -0.228219          -0.290443              -0.242783   \n",
              "4       0.653386           0.597629               0.670308   \n",
              "\n",
              "   segment_actual_time  diff_start_end_time  routetype_Carting  ...       24  \\\n",
              "0             1.384047             2.179847          -0.949137  ... -0.21538   \n",
              "1             1.624794             1.587951          -0.949137  ... -0.21538   \n",
              "2            -0.400624            -0.544588           1.053589  ... -0.21538   \n",
              "3            -0.272399            -0.399612           1.053589  ... -0.21538   \n",
              "4             1.070029             1.214188          -0.949137  ... -0.21538   \n",
              "\n",
              "       25        26        27        28        29        30       day  \\\n",
              "0 -0.2971 -0.243715 -0.006193  3.660420 -0.119313 -0.234756 -0.810988   \n",
              "1 -0.2971 -0.243715 -0.006193 -0.273193 -0.119313 -0.234756 -0.810988   \n",
              "2 -0.2971 -0.243715 -0.006193 -0.273193 -0.119313 -0.234756 -0.810988   \n",
              "3 -0.2971 -0.243715 -0.006193 -0.273193 -0.119313 -0.234756 -0.810988   \n",
              "4 -0.2971 -0.243715 -0.006193 -0.273193 -0.119313 -0.234756 -0.810988   \n",
              "\n",
              "      month  year  \n",
              "0 -0.370697   0.0  \n",
              "1 -0.370697   0.0  \n",
              "2 -0.370697   0.0  \n",
              "3 -0.370697   0.0  \n",
              "4 -0.370697   0.0  \n",
              "\n",
              "[5 rows x 45 columns]"
            ],
            "text/html": [
              "\n",
              "  <div id=\"df-6d4f65e0-99d2-41fe-a204-2bd44b684c8f\">\n",
              "    <div class=\"colab-df-container\">\n",
              "      <div>\n",
              "<style scoped>\n",
              "    .dataframe tbody tr th:only-of-type {\n",
              "        vertical-align: middle;\n",
              "    }\n",
              "\n",
              "    .dataframe tbody tr th {\n",
              "        vertical-align: top;\n",
              "    }\n",
              "\n",
              "    .dataframe thead th {\n",
              "        text-align: right;\n",
              "    }\n",
              "</style>\n",
              "<table border=\"1\" class=\"dataframe\">\n",
              "  <thead>\n",
              "    <tr style=\"text-align: right;\">\n",
              "      <th></th>\n",
              "      <th>start_scan_to_end_scan</th>\n",
              "      <th>actual_time</th>\n",
              "      <th>actual_distance</th>\n",
              "      <th>osrm_time</th>\n",
              "      <th>osrm_distance</th>\n",
              "      <th>segment_osrm_time</th>\n",
              "      <th>segment_osrm_distance</th>\n",
              "      <th>segment_actual_time</th>\n",
              "      <th>diff_start_end_time</th>\n",
              "      <th>routetype_Carting</th>\n",
              "      <th>...</th>\n",
              "      <th>24</th>\n",
              "      <th>25</th>\n",
              "      <th>26</th>\n",
              "      <th>27</th>\n",
              "      <th>28</th>\n",
              "      <th>29</th>\n",
              "      <th>30</th>\n",
              "      <th>day</th>\n",
              "      <th>month</th>\n",
              "      <th>year</th>\n",
              "    </tr>\n",
              "  </thead>\n",
              "  <tbody>\n",
              "    <tr>\n",
              "      <th>0</th>\n",
              "      <td>2.179615</td>\n",
              "      <td>1.376824</td>\n",
              "      <td>1.387132</td>\n",
              "      <td>1.283824</td>\n",
              "      <td>1.303247</td>\n",
              "      <td>1.999119</td>\n",
              "      <td>1.901293</td>\n",
              "      <td>1.384047</td>\n",
              "      <td>2.179847</td>\n",
              "      <td>-0.949137</td>\n",
              "      <td>...</td>\n",
              "      <td>-0.21538</td>\n",
              "      <td>-0.2971</td>\n",
              "      <td>-0.243715</td>\n",
              "      <td>-0.006193</td>\n",
              "      <td>3.660420</td>\n",
              "      <td>-0.119313</td>\n",
              "      <td>-0.234756</td>\n",
              "      <td>-0.810988</td>\n",
              "      <td>-0.370697</td>\n",
              "      <td>0.0</td>\n",
              "    </tr>\n",
              "    <tr>\n",
              "      <th>1</th>\n",
              "      <td>1.587924</td>\n",
              "      <td>1.630892</td>\n",
              "      <td>1.659649</td>\n",
              "      <td>1.601797</td>\n",
              "      <td>1.689429</td>\n",
              "      <td>1.721596</td>\n",
              "      <td>1.828847</td>\n",
              "      <td>1.624794</td>\n",
              "      <td>1.587951</td>\n",
              "      <td>-0.949137</td>\n",
              "      <td>...</td>\n",
              "      <td>-0.21538</td>\n",
              "      <td>-0.2971</td>\n",
              "      <td>-0.243715</td>\n",
              "      <td>-0.006193</td>\n",
              "      <td>-0.273193</td>\n",
              "      <td>-0.119313</td>\n",
              "      <td>-0.234756</td>\n",
              "      <td>-0.810988</td>\n",
              "      <td>-0.370697</td>\n",
              "      <td>0.0</td>\n",
              "    </tr>\n",
              "    <tr>\n",
              "      <th>2</th>\n",
              "      <td>-0.545338</td>\n",
              "      <td>-0.399059</td>\n",
              "      <td>-0.323361</td>\n",
              "      <td>-0.349151</td>\n",
              "      <td>-0.341071</td>\n",
              "      <td>-0.350573</td>\n",
              "      <td>-0.339727</td>\n",
              "      <td>-0.400624</td>\n",
              "      <td>-0.544588</td>\n",
              "      <td>1.053589</td>\n",
              "      <td>...</td>\n",
              "      <td>-0.21538</td>\n",
              "      <td>-0.2971</td>\n",
              "      <td>-0.243715</td>\n",
              "      <td>-0.006193</td>\n",
              "      <td>-0.273193</td>\n",
              "      <td>-0.119313</td>\n",
              "      <td>-0.234756</td>\n",
              "      <td>-0.810988</td>\n",
              "      <td>-0.370697</td>\n",
              "      <td>0.0</td>\n",
              "    </tr>\n",
              "    <tr>\n",
              "      <th>3</th>\n",
              "      <td>-0.400249</td>\n",
              "      <td>-0.272025</td>\n",
              "      <td>-0.209529</td>\n",
              "      <td>-0.262922</td>\n",
              "      <td>-0.228219</td>\n",
              "      <td>-0.290443</td>\n",
              "      <td>-0.242783</td>\n",
              "      <td>-0.272399</td>\n",
              "      <td>-0.399612</td>\n",
              "      <td>1.053589</td>\n",
              "      <td>...</td>\n",
              "      <td>-0.21538</td>\n",
              "      <td>-0.2971</td>\n",
              "      <td>-0.243715</td>\n",
              "      <td>-0.006193</td>\n",
              "      <td>-0.273193</td>\n",
              "      <td>-0.119313</td>\n",
              "      <td>-0.234756</td>\n",
              "      <td>-0.810988</td>\n",
              "      <td>-0.370697</td>\n",
              "      <td>0.0</td>\n",
              "    </tr>\n",
              "    <tr>\n",
              "      <th>4</th>\n",
              "      <td>1.213866</td>\n",
              "      <td>1.063128</td>\n",
              "      <td>0.690201</td>\n",
              "      <td>0.653269</td>\n",
              "      <td>0.653386</td>\n",
              "      <td>0.597629</td>\n",
              "      <td>0.670308</td>\n",
              "      <td>1.070029</td>\n",
              "      <td>1.214188</td>\n",
              "      <td>-0.949137</td>\n",
              "      <td>...</td>\n",
              "      <td>-0.21538</td>\n",
              "      <td>-0.2971</td>\n",
              "      <td>-0.243715</td>\n",
              "      <td>-0.006193</td>\n",
              "      <td>-0.273193</td>\n",
              "      <td>-0.119313</td>\n",
              "      <td>-0.234756</td>\n",
              "      <td>-0.810988</td>\n",
              "      <td>-0.370697</td>\n",
              "      <td>0.0</td>\n",
              "    </tr>\n",
              "  </tbody>\n",
              "</table>\n",
              "<p>5 rows × 45 columns</p>\n",
              "</div>\n",
              "      <button class=\"colab-df-convert\" onclick=\"convertToInteractive('df-6d4f65e0-99d2-41fe-a204-2bd44b684c8f')\"\n",
              "              title=\"Convert this dataframe to an interactive table.\"\n",
              "              style=\"display:none;\">\n",
              "        \n",
              "  <svg xmlns=\"http://www.w3.org/2000/svg\" height=\"24px\"viewBox=\"0 0 24 24\"\n",
              "       width=\"24px\">\n",
              "    <path d=\"M0 0h24v24H0V0z\" fill=\"none\"/>\n",
              "    <path d=\"M18.56 5.44l.94 2.06.94-2.06 2.06-.94-2.06-.94-.94-2.06-.94 2.06-2.06.94zm-11 1L8.5 8.5l.94-2.06 2.06-.94-2.06-.94L8.5 2.5l-.94 2.06-2.06.94zm10 10l.94 2.06.94-2.06 2.06-.94-2.06-.94-.94-2.06-.94 2.06-2.06.94z\"/><path d=\"M17.41 7.96l-1.37-1.37c-.4-.4-.92-.59-1.43-.59-.52 0-1.04.2-1.43.59L10.3 9.45l-7.72 7.72c-.78.78-.78 2.05 0 2.83L4 21.41c.39.39.9.59 1.41.59.51 0 1.02-.2 1.41-.59l7.78-7.78 2.81-2.81c.8-.78.8-2.07 0-2.86zM5.41 20L4 18.59l7.72-7.72 1.47 1.35L5.41 20z\"/>\n",
              "  </svg>\n",
              "      </button>\n",
              "      \n",
              "  <style>\n",
              "    .colab-df-container {\n",
              "      display:flex;\n",
              "      flex-wrap:wrap;\n",
              "      gap: 12px;\n",
              "    }\n",
              "\n",
              "    .colab-df-convert {\n",
              "      background-color: #E8F0FE;\n",
              "      border: none;\n",
              "      border-radius: 50%;\n",
              "      cursor: pointer;\n",
              "      display: none;\n",
              "      fill: #1967D2;\n",
              "      height: 32px;\n",
              "      padding: 0 0 0 0;\n",
              "      width: 32px;\n",
              "    }\n",
              "\n",
              "    .colab-df-convert:hover {\n",
              "      background-color: #E2EBFA;\n",
              "      box-shadow: 0px 1px 2px rgba(60, 64, 67, 0.3), 0px 1px 3px 1px rgba(60, 64, 67, 0.15);\n",
              "      fill: #174EA6;\n",
              "    }\n",
              "\n",
              "    [theme=dark] .colab-df-convert {\n",
              "      background-color: #3B4455;\n",
              "      fill: #D2E3FC;\n",
              "    }\n",
              "\n",
              "    [theme=dark] .colab-df-convert:hover {\n",
              "      background-color: #434B5C;\n",
              "      box-shadow: 0px 1px 3px 1px rgba(0, 0, 0, 0.15);\n",
              "      filter: drop-shadow(0px 1px 2px rgba(0, 0, 0, 0.3));\n",
              "      fill: #FFFFFF;\n",
              "    }\n",
              "  </style>\n",
              "\n",
              "      <script>\n",
              "        const buttonEl =\n",
              "          document.querySelector('#df-6d4f65e0-99d2-41fe-a204-2bd44b684c8f button.colab-df-convert');\n",
              "        buttonEl.style.display =\n",
              "          google.colab.kernel.accessAllowed ? 'block' : 'none';\n",
              "\n",
              "        async function convertToInteractive(key) {\n",
              "          const element = document.querySelector('#df-6d4f65e0-99d2-41fe-a204-2bd44b684c8f');\n",
              "          const dataTable =\n",
              "            await google.colab.kernel.invokeFunction('convertToInteractive',\n",
              "                                                     [key], {});\n",
              "          if (!dataTable) return;\n",
              "\n",
              "          const docLinkHtml = 'Like what you see? Visit the ' +\n",
              "            '<a target=\"_blank\" href=https://colab.research.google.com/notebooks/data_table.ipynb>data table notebook</a>'\n",
              "            + ' to learn more about interactive tables.';\n",
              "          element.innerHTML = '';\n",
              "          dataTable['output_type'] = 'display_data';\n",
              "          await google.colab.output.renderOutput(dataTable, element);\n",
              "          const docLink = document.createElement('div');\n",
              "          docLink.innerHTML = docLinkHtml;\n",
              "          element.appendChild(docLink);\n",
              "        }\n",
              "      </script>\n",
              "    </div>\n",
              "  </div>\n",
              "  "
            ]
          },
          "metadata": {},
          "execution_count": 184
        }
      ]
    },
    {
      "cell_type": "markdown",
      "source": [
        "**Insights:**\n",
        "\n",
        "1. There are around 1200 different cities where packages are picked up and delivered, with metropolises being the most common places like bengaluru, mumbai, delhi.\n",
        "2. Full truck loads take less time to transport, but they are only utilised when the destination is far away. By contrast, carting is employed when things are picked up and delivered to nearby locations.\n",
        "3. Since items delivered in the same city or in a nearby city take less time overall, distance and time are linearly related, although this is not always the case.\n",
        "4. Due to the great distance between the source and the destination, deliveries from West Bengal to Maharashtra, Assam to Delhi, and Punjab to Karnataka take the longest to complete.\n",
        "4. Although real time does increase with distance, this trend is not always true for some cities and states where the distance between the source and the destination is smaller but the duration is longer than in states where the distance is larger.\n",
        "5. Osrm time, which is determined by using the shortest path, increases linearly as osrm distance increases, although real distance and time do not follow this pattern.\n",
        "6. The longest delivery time between chandigarh and Bangalore is 1927 minutes, covering a distance of 3784 kilometres, while the shortest delivery time is 60 minutes, covering a distance of 9 kilometres from Salem."
      ],
      "metadata": {
        "id": "Z39Nzy5HB2_X"
      }
    },
    {
      "cell_type": "markdown",
      "source": [
        "**Recommendations:**\n",
        "\n",
        "1. The segment's real time and its computed time utilising the shortest path differ significantly. In light of this, Total Actual Time exceeds Total Calculated Time. For distance, the same pattern is seen. To more accurately anticipate real time, osrm distance and time can be enhanced.\n",
        "2. Even though carting only takes a short amount of time, it won't be practicable for long distances, therefore distant sites can be separated into more manageable portions so that a full truck load can be used to accelerate delivery.\n",
        "3. The most segments are allocated to items that are delivered to far-off states, such as punjab to karnataka, followed by haryana and tamil nadu. Delivery time can be shortened if these segments number can be decreased."
      ],
      "metadata": {
        "id": "uBvWhBH5B6cM"
      }
    }
  ]
}