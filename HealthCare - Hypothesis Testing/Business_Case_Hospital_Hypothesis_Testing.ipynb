{
  "nbformat": 4,
  "nbformat_minor": 0,
  "metadata": {
    "colab": {
      "provenance": []
    },
    "kernelspec": {
      "name": "python3",
      "display_name": "Python 3"
    },
    "language_info": {
      "name": "python"
    }
  },
  "cells": [
    {
      "cell_type": "markdown",
      "source": [
        "##**Introduction**\n",
        "\n",
        "The dataset belongs to a well-known Indian multinational healthcare business that operates many hospital chains in various Indian cities as well as abroad. As we have seen, there was a significant increase in the number of patients being admitted to hospitals during the pandemic, which led to a shortage of beds and other medical supplies. As a result, hospitals are looking into the typical demand for hospitalisation in order to prepare for any sudden needs."
      ],
      "metadata": {
        "id": "VnZr2Wx0T-QL"
      }
    },
    {
      "cell_type": "markdown",
      "source": [
        "##**Problem Statement**\n",
        "\n",
        "Perform Univariate and Bivariate Analysis to understand what factors are resulting increase in hospitalization charges. Also find the factors using hypothesis testing (T-Test, Anova Test, Chi-Square test) to understand if features like smoker have dependency on increase in hospitalization and distribution of region, sex in viral load. Provide Proper recommendations which are actionable to understand what factors causes hospitalization and how it can be controlled."
      ],
      "metadata": {
        "id": "XjTfUFDZUTQ9"
      }
    },
    {
      "cell_type": "markdown",
      "source": [
        "##**Importing Required Libraries**"
      ],
      "metadata": {
        "id": "uaAeDqF9UV39"
      }
    },
    {
      "cell_type": "code",
      "execution_count": 62,
      "metadata": {
        "id": "z-dO5ZoO0TkL"
      },
      "outputs": [],
      "source": [
        "import numpy as np\n",
        "import pandas as pd\n",
        "import matplotlib.pyplot as plt\n",
        "import seaborn as sns\n",
        "from scipy.stats import ttest_ind # T-Test for independent samples\n",
        "from scipy.stats import chi2_contingency  # Chi-square test of independence\n",
        "from scipy.stats import shapiro #Shapiro-Wilk’s test for Normality\n",
        "from scipy.stats import levene  # Levene's test for Equality of Variance\n",
        "from scipy import stats # Q-Q plot normality Test\n",
        "from scipy.stats import f_oneway # One-Way Anova Test\n",
        "from prettytable import PrettyTable"
      ]
    },
    {
      "cell_type": "markdown",
      "source": [
        "##**Reading Data**"
      ],
      "metadata": {
        "id": "F0QWatqxT0Pi"
      }
    },
    {
      "cell_type": "code",
      "source": [
        "df=pd.read_csv(\"data.csv\")\n",
        "df.head()\n",
        "# output is hidden due to organization policy and to manitain confidentiality"
      ],
      "metadata": {
        "id": "6zaCjfMcTycp"
      },
      "execution_count": null,
      "outputs": []
    },
    {
      "cell_type": "markdown",
      "source": [
        "##**Basic Metrics:**"
      ],
      "metadata": {
        "id": "P_fspbV3T-wE"
      }
    },
    {
      "cell_type": "code",
      "source": [
        "df.shape"
      ],
      "metadata": {
        "colab": {
          "base_uri": "https://localhost:8080/",
          "height": 0
        },
        "id": "evSRErinPPW0",
        "outputId": "c38a9f43-1c3e-4d8f-c9e1-21aeaff99453"
      },
      "execution_count": 64,
      "outputs": [
        {
          "output_type": "execute_result",
          "data": {
            "text/plain": [
              "(1338, 8)"
            ]
          },
          "metadata": {},
          "execution_count": 64
        }
      ]
    },
    {
      "cell_type": "markdown",
      "source": [
        "Total Rows=1338,\n",
        "Total Cols=8"
      ],
      "metadata": {
        "id": "ZI5W1OTZ5cWJ"
      }
    },
    {
      "cell_type": "code",
      "source": [
        "df.info()"
      ],
      "metadata": {
        "colab": {
          "base_uri": "https://localhost:8080/",
          "height": 0
        },
        "id": "cTGWxFKboAGz",
        "outputId": "cb1900da-3353-4c86-c443-1952a5ec2f71"
      },
      "execution_count": 65,
      "outputs": [
        {
          "output_type": "stream",
          "name": "stdout",
          "text": [
            "<class 'pandas.core.frame.DataFrame'>\n",
            "RangeIndex: 1338 entries, 0 to 1337\n",
            "Data columns (total 8 columns):\n",
            " #   Column                   Non-Null Count  Dtype  \n",
            "---  ------                   --------------  -----  \n",
            " 0   Unnamed: 0               1338 non-null   int64  \n",
            " 1   age                      1338 non-null   int64  \n",
            " 2   sex                      1338 non-null   object \n",
            " 3   smoker                   1338 non-null   object \n",
            " 4   region                   1338 non-null   object \n",
            " 5   viral load               1338 non-null   float64\n",
            " 6   severity level           1338 non-null   int64  \n",
            " 7   hospitalization charges  1338 non-null   int64  \n",
            "dtypes: float64(1), int64(4), object(3)\n",
            "memory usage: 83.8+ KB\n"
          ]
        }
      ]
    },
    {
      "cell_type": "markdown",
      "source": [
        "age, viral load, severity level, hospitalization charges are of int type whereas sex, smoker, region are of object type."
      ],
      "metadata": {
        "id": "4ziGlBWhoFjG"
      }
    },
    {
      "cell_type": "code",
      "source": [
        "df.describe(include=\"all\")"
      ],
      "metadata": {
        "colab": {
          "base_uri": "https://localhost:8080/",
          "height": 394
        },
        "id": "mpvgcvCEoS5W",
        "outputId": "ab720fe3-66ad-49e8-809d-5e5cd83bd38a"
      },
      "execution_count": 125,
      "outputs": [
        {
          "output_type": "execute_result",
          "data": {
            "text/plain": [
              "         Unnamed: 0          age   sex smoker     region   viral load  \\\n",
              "count   1338.000000  1338.000000  1338   1338       1338  1338.000000   \n",
              "unique          NaN          NaN     2      2          4          NaN   \n",
              "top             NaN          NaN  male     no  southeast          NaN   \n",
              "freq            NaN          NaN   676   1064        364          NaN   \n",
              "mean     668.500000    39.207025   NaN    NaN        NaN    10.221233   \n",
              "std      386.391641    14.049960   NaN    NaN        NaN     2.032796   \n",
              "min        0.000000    18.000000   NaN    NaN        NaN     5.320000   \n",
              "25%      334.250000    27.000000   NaN    NaN        NaN     8.762500   \n",
              "50%      668.500000    39.000000   NaN    NaN        NaN    10.130000   \n",
              "75%     1002.750000    51.000000   NaN    NaN        NaN    11.567500   \n",
              "max     1337.000000    64.000000   NaN    NaN        NaN    17.710000   \n",
              "\n",
              "        severity level  hospitalization charges  \n",
              "count      1338.000000              1338.000000  \n",
              "unique             NaN                      NaN  \n",
              "top                NaN                      NaN  \n",
              "freq               NaN                      NaN  \n",
              "mean          1.094918             33176.058296  \n",
              "std           1.205493             30275.029296  \n",
              "min           0.000000              2805.000000  \n",
              "25%           0.000000             11851.000000  \n",
              "50%           1.000000             23455.000000  \n",
              "75%           2.000000             41599.500000  \n",
              "max           5.000000            159426.000000  "
            ],
            "text/html": [
              "\n",
              "  <div id=\"df-112cff49-5971-4068-8005-0ba9bd269e60\">\n",
              "    <div class=\"colab-df-container\">\n",
              "      <div>\n",
              "<style scoped>\n",
              "    .dataframe tbody tr th:only-of-type {\n",
              "        vertical-align: middle;\n",
              "    }\n",
              "\n",
              "    .dataframe tbody tr th {\n",
              "        vertical-align: top;\n",
              "    }\n",
              "\n",
              "    .dataframe thead th {\n",
              "        text-align: right;\n",
              "    }\n",
              "</style>\n",
              "<table border=\"1\" class=\"dataframe\">\n",
              "  <thead>\n",
              "    <tr style=\"text-align: right;\">\n",
              "      <th></th>\n",
              "      <th>Unnamed: 0</th>\n",
              "      <th>age</th>\n",
              "      <th>sex</th>\n",
              "      <th>smoker</th>\n",
              "      <th>region</th>\n",
              "      <th>viral load</th>\n",
              "      <th>severity level</th>\n",
              "      <th>hospitalization charges</th>\n",
              "    </tr>\n",
              "  </thead>\n",
              "  <tbody>\n",
              "    <tr>\n",
              "      <th>count</th>\n",
              "      <td>1338.000000</td>\n",
              "      <td>1338.000000</td>\n",
              "      <td>1338</td>\n",
              "      <td>1338</td>\n",
              "      <td>1338</td>\n",
              "      <td>1338.000000</td>\n",
              "      <td>1338.000000</td>\n",
              "      <td>1338.000000</td>\n",
              "    </tr>\n",
              "    <tr>\n",
              "      <th>unique</th>\n",
              "      <td>NaN</td>\n",
              "      <td>NaN</td>\n",
              "      <td>2</td>\n",
              "      <td>2</td>\n",
              "      <td>4</td>\n",
              "      <td>NaN</td>\n",
              "      <td>NaN</td>\n",
              "      <td>NaN</td>\n",
              "    </tr>\n",
              "    <tr>\n",
              "      <th>top</th>\n",
              "      <td>NaN</td>\n",
              "      <td>NaN</td>\n",
              "      <td>male</td>\n",
              "      <td>no</td>\n",
              "      <td>southeast</td>\n",
              "      <td>NaN</td>\n",
              "      <td>NaN</td>\n",
              "      <td>NaN</td>\n",
              "    </tr>\n",
              "    <tr>\n",
              "      <th>freq</th>\n",
              "      <td>NaN</td>\n",
              "      <td>NaN</td>\n",
              "      <td>676</td>\n",
              "      <td>1064</td>\n",
              "      <td>364</td>\n",
              "      <td>NaN</td>\n",
              "      <td>NaN</td>\n",
              "      <td>NaN</td>\n",
              "    </tr>\n",
              "    <tr>\n",
              "      <th>mean</th>\n",
              "      <td>668.500000</td>\n",
              "      <td>39.207025</td>\n",
              "      <td>NaN</td>\n",
              "      <td>NaN</td>\n",
              "      <td>NaN</td>\n",
              "      <td>10.221233</td>\n",
              "      <td>1.094918</td>\n",
              "      <td>33176.058296</td>\n",
              "    </tr>\n",
              "    <tr>\n",
              "      <th>std</th>\n",
              "      <td>386.391641</td>\n",
              "      <td>14.049960</td>\n",
              "      <td>NaN</td>\n",
              "      <td>NaN</td>\n",
              "      <td>NaN</td>\n",
              "      <td>2.032796</td>\n",
              "      <td>1.205493</td>\n",
              "      <td>30275.029296</td>\n",
              "    </tr>\n",
              "    <tr>\n",
              "      <th>min</th>\n",
              "      <td>0.000000</td>\n",
              "      <td>18.000000</td>\n",
              "      <td>NaN</td>\n",
              "      <td>NaN</td>\n",
              "      <td>NaN</td>\n",
              "      <td>5.320000</td>\n",
              "      <td>0.000000</td>\n",
              "      <td>2805.000000</td>\n",
              "    </tr>\n",
              "    <tr>\n",
              "      <th>25%</th>\n",
              "      <td>334.250000</td>\n",
              "      <td>27.000000</td>\n",
              "      <td>NaN</td>\n",
              "      <td>NaN</td>\n",
              "      <td>NaN</td>\n",
              "      <td>8.762500</td>\n",
              "      <td>0.000000</td>\n",
              "      <td>11851.000000</td>\n",
              "    </tr>\n",
              "    <tr>\n",
              "      <th>50%</th>\n",
              "      <td>668.500000</td>\n",
              "      <td>39.000000</td>\n",
              "      <td>NaN</td>\n",
              "      <td>NaN</td>\n",
              "      <td>NaN</td>\n",
              "      <td>10.130000</td>\n",
              "      <td>1.000000</td>\n",
              "      <td>23455.000000</td>\n",
              "    </tr>\n",
              "    <tr>\n",
              "      <th>75%</th>\n",
              "      <td>1002.750000</td>\n",
              "      <td>51.000000</td>\n",
              "      <td>NaN</td>\n",
              "      <td>NaN</td>\n",
              "      <td>NaN</td>\n",
              "      <td>11.567500</td>\n",
              "      <td>2.000000</td>\n",
              "      <td>41599.500000</td>\n",
              "    </tr>\n",
              "    <tr>\n",
              "      <th>max</th>\n",
              "      <td>1337.000000</td>\n",
              "      <td>64.000000</td>\n",
              "      <td>NaN</td>\n",
              "      <td>NaN</td>\n",
              "      <td>NaN</td>\n",
              "      <td>17.710000</td>\n",
              "      <td>5.000000</td>\n",
              "      <td>159426.000000</td>\n",
              "    </tr>\n",
              "  </tbody>\n",
              "</table>\n",
              "</div>\n",
              "      <button class=\"colab-df-convert\" onclick=\"convertToInteractive('df-112cff49-5971-4068-8005-0ba9bd269e60')\"\n",
              "              title=\"Convert this dataframe to an interactive table.\"\n",
              "              style=\"display:none;\">\n",
              "        \n",
              "  <svg xmlns=\"http://www.w3.org/2000/svg\" height=\"24px\"viewBox=\"0 0 24 24\"\n",
              "       width=\"24px\">\n",
              "    <path d=\"M0 0h24v24H0V0z\" fill=\"none\"/>\n",
              "    <path d=\"M18.56 5.44l.94 2.06.94-2.06 2.06-.94-2.06-.94-.94-2.06-.94 2.06-2.06.94zm-11 1L8.5 8.5l.94-2.06 2.06-.94-2.06-.94L8.5 2.5l-.94 2.06-2.06.94zm10 10l.94 2.06.94-2.06 2.06-.94-2.06-.94-.94-2.06-.94 2.06-2.06.94z\"/><path d=\"M17.41 7.96l-1.37-1.37c-.4-.4-.92-.59-1.43-.59-.52 0-1.04.2-1.43.59L10.3 9.45l-7.72 7.72c-.78.78-.78 2.05 0 2.83L4 21.41c.39.39.9.59 1.41.59.51 0 1.02-.2 1.41-.59l7.78-7.78 2.81-2.81c.8-.78.8-2.07 0-2.86zM5.41 20L4 18.59l7.72-7.72 1.47 1.35L5.41 20z\"/>\n",
              "  </svg>\n",
              "      </button>\n",
              "      \n",
              "  <style>\n",
              "    .colab-df-container {\n",
              "      display:flex;\n",
              "      flex-wrap:wrap;\n",
              "      gap: 12px;\n",
              "    }\n",
              "\n",
              "    .colab-df-convert {\n",
              "      background-color: #E8F0FE;\n",
              "      border: none;\n",
              "      border-radius: 50%;\n",
              "      cursor: pointer;\n",
              "      display: none;\n",
              "      fill: #1967D2;\n",
              "      height: 32px;\n",
              "      padding: 0 0 0 0;\n",
              "      width: 32px;\n",
              "    }\n",
              "\n",
              "    .colab-df-convert:hover {\n",
              "      background-color: #E2EBFA;\n",
              "      box-shadow: 0px 1px 2px rgba(60, 64, 67, 0.3), 0px 1px 3px 1px rgba(60, 64, 67, 0.15);\n",
              "      fill: #174EA6;\n",
              "    }\n",
              "\n",
              "    [theme=dark] .colab-df-convert {\n",
              "      background-color: #3B4455;\n",
              "      fill: #D2E3FC;\n",
              "    }\n",
              "\n",
              "    [theme=dark] .colab-df-convert:hover {\n",
              "      background-color: #434B5C;\n",
              "      box-shadow: 0px 1px 3px 1px rgba(0, 0, 0, 0.15);\n",
              "      filter: drop-shadow(0px 1px 2px rgba(0, 0, 0, 0.3));\n",
              "      fill: #FFFFFF;\n",
              "    }\n",
              "  </style>\n",
              "\n",
              "      <script>\n",
              "        const buttonEl =\n",
              "          document.querySelector('#df-112cff49-5971-4068-8005-0ba9bd269e60 button.colab-df-convert');\n",
              "        buttonEl.style.display =\n",
              "          google.colab.kernel.accessAllowed ? 'block' : 'none';\n",
              "\n",
              "        async function convertToInteractive(key) {\n",
              "          const element = document.querySelector('#df-112cff49-5971-4068-8005-0ba9bd269e60');\n",
              "          const dataTable =\n",
              "            await google.colab.kernel.invokeFunction('convertToInteractive',\n",
              "                                                     [key], {});\n",
              "          if (!dataTable) return;\n",
              "\n",
              "          const docLinkHtml = 'Like what you see? Visit the ' +\n",
              "            '<a target=\"_blank\" href=https://colab.research.google.com/notebooks/data_table.ipynb>data table notebook</a>'\n",
              "            + ' to learn more about interactive tables.';\n",
              "          element.innerHTML = '';\n",
              "          dataTable['output_type'] = 'display_data';\n",
              "          await google.colab.output.renderOutput(dataTable, element);\n",
              "          const docLink = document.createElement('div');\n",
              "          docLink.innerHTML = docLinkHtml;\n",
              "          element.appendChild(docLink);\n",
              "        }\n",
              "      </script>\n",
              "    </div>\n",
              "  </div>\n",
              "  "
            ]
          },
          "metadata": {},
          "execution_count": 125
        }
      ]
    },
    {
      "cell_type": "markdown",
      "source": [
        "**Observations:**\n",
        "\n",
        "1. There are 4 unique categories in region and southeast region has frequency of 364.\n",
        "2. Male category has a frequency of 676.\n",
        "3. Smoker category has yes and no values and no occured 1064 times.\n",
        "4. Viral load has min and max values as 5 and 17 respectively and has almost equal mean and median values.\n",
        "5. Mean and Median value of hospitalization charges has a significant difference. Also there is large difference in 75th percentile and max value and standard deviation is also high. There may be outliers present in this feature."
      ],
      "metadata": {
        "id": "wq4XAIVvqqpt"
      }
    },
    {
      "cell_type": "code",
      "source": [
        "df.drop(\"Unnamed: 0\",axis=1,inplace=True)\n",
        "col_list=[\"age\",\"sex\",\"smoker\",\"region\",\"severity level\"]\n",
        "\n",
        "for col in col_list:\n",
        "  print(col,\"-\")\n",
        "  print(\"Distinct Count -\",df[col].nunique())\n",
        "  print(\"Unique Values\",df[col].unique())\n",
        "  print(\"Value Counts:\")\n",
        "  print(round(df[col].value_counts(normalize=True)[:10]*100,2))\n",
        "  print(\"*\"*50)"
      ],
      "metadata": {
        "colab": {
          "base_uri": "https://localhost:8080/",
          "height": 0
        },
        "id": "rE2v6wm3rfXe",
        "outputId": "85027b8b-7001-49cb-e9c7-9aeb33675f6d"
      },
      "execution_count": 67,
      "outputs": [
        {
          "output_type": "stream",
          "name": "stdout",
          "text": [
            "age -\n",
            "Distinct Count - 47\n",
            "Unique Values [19 18 28 33 32 31 46 37 60 25 62 23 56 27 52 30 34 59 63 55 22 26 35 24\n",
            " 41 38 36 21 48 40 58 53 43 64 20 61 44 57 29 45 54 49 47 51 42 50 39]\n",
            "Value Counts:\n",
            "18    5.16\n",
            "19    5.08\n",
            "50    2.17\n",
            "51    2.17\n",
            "47    2.17\n",
            "46    2.17\n",
            "45    2.17\n",
            "20    2.17\n",
            "48    2.17\n",
            "52    2.17\n",
            "Name: age, dtype: float64\n",
            "**************************************************\n",
            "sex -\n",
            "Distinct Count - 2\n",
            "Unique Values ['female' 'male']\n",
            "Value Counts:\n",
            "male      50.52\n",
            "female    49.48\n",
            "Name: sex, dtype: float64\n",
            "**************************************************\n",
            "smoker -\n",
            "Distinct Count - 2\n",
            "Unique Values ['yes' 'no']\n",
            "Value Counts:\n",
            "no     79.52\n",
            "yes    20.48\n",
            "Name: smoker, dtype: float64\n",
            "**************************************************\n",
            "region -\n",
            "Distinct Count - 4\n",
            "Unique Values ['southwest' 'southeast' 'northwest' 'northeast']\n",
            "Value Counts:\n",
            "southeast    27.20\n",
            "southwest    24.29\n",
            "northwest    24.29\n",
            "northeast    24.22\n",
            "Name: region, dtype: float64\n",
            "**************************************************\n",
            "severity level -\n",
            "Distinct Count - 6\n",
            "Unique Values [0 1 3 2 5 4]\n",
            "Value Counts:\n",
            "0    42.90\n",
            "1    24.22\n",
            "2    17.94\n",
            "3    11.73\n",
            "4     1.87\n",
            "5     1.35\n",
            "Name: severity level, dtype: float64\n",
            "**************************************************\n"
          ]
        }
      ]
    },
    {
      "cell_type": "markdown",
      "source": [
        "**Observations:**\n",
        "1. Majority of people are from age group 18-19 year followed by old people of age group 48-53. But adult people of age group are present in dataset.\n",
        "2. Equal proportion of males and females are present.\n",
        "3. Around 79% of the people do not smoke whereas there are 21% smokers are present.\n",
        "4. People from all regions (southwest,southeast,northwest,northeast) are equally present in the dataset.\n",
        "5. 43% of people have severity level 0, 24% have severity level 1 and 18% have severity level 2."
      ],
      "metadata": {
        "id": "oH4WdeqxGzPj"
      }
    },
    {
      "cell_type": "code",
      "source": [
        "# Replacing Male and smoker values with 1 and Female and non-smoker values with 0\n",
        "df_copy=df.copy()\n",
        "df_copy[\"sex\"].replace([\"male\",\"female\"],[1,0],inplace=True)\n",
        "df_copy[\"smoker\"].replace([\"yes\",\"no\"],[1,0],inplace=True)\n",
        "\n",
        "# Replacing southeast region with 0, southwest region with 1, northwest region with 2 and northeast region with 3\n",
        "df_copy[\"region\"].replace([\"southeast\",\"southwest\",\"northwest\",\"northeast\"],[0,1,2,3],inplace=True)\n",
        "df_copy.corr()"
      ],
      "metadata": {
        "colab": {
          "base_uri": "https://localhost:8080/",
          "height": 269
        },
        "id": "-h-8pgKqP0Vj",
        "outputId": "4bf1f788-3b23-47fb-cc98-846e765dc81f"
      },
      "execution_count": 68,
      "outputs": [
        {
          "output_type": "execute_result",
          "data": {
            "text/plain": [
              "                              age       sex    smoker    region  viral load  \\\n",
              "age                      1.000000 -0.020856 -0.025019  0.006308    0.109300   \n",
              "sex                     -0.020856  1.000000  0.076185 -0.012816    0.046343   \n",
              "smoker                  -0.025019  0.076185  1.000000 -0.038873    0.003739   \n",
              "region                   0.006308 -0.012816 -0.038873  1.000000   -0.262676   \n",
              "viral load               0.109300  0.046343  0.003739 -0.262676    1.000000   \n",
              "severity level           0.042469  0.017163  0.007673  0.001205    0.012729   \n",
              "hospitalization charges  0.299008  0.057292  0.787251 -0.039473    0.198388   \n",
              "\n",
              "                         severity level  hospitalization charges  \n",
              "age                            0.042469                 0.299008  \n",
              "sex                            0.017163                 0.057292  \n",
              "smoker                         0.007673                 0.787251  \n",
              "region                         0.001205                -0.039473  \n",
              "viral load                     0.012729                 0.198388  \n",
              "severity level                 1.000000                 0.067998  \n",
              "hospitalization charges        0.067998                 1.000000  "
            ],
            "text/html": [
              "\n",
              "  <div id=\"df-01ce33be-f15b-4195-95c9-a857513b0a1b\">\n",
              "    <div class=\"colab-df-container\">\n",
              "      <div>\n",
              "<style scoped>\n",
              "    .dataframe tbody tr th:only-of-type {\n",
              "        vertical-align: middle;\n",
              "    }\n",
              "\n",
              "    .dataframe tbody tr th {\n",
              "        vertical-align: top;\n",
              "    }\n",
              "\n",
              "    .dataframe thead th {\n",
              "        text-align: right;\n",
              "    }\n",
              "</style>\n",
              "<table border=\"1\" class=\"dataframe\">\n",
              "  <thead>\n",
              "    <tr style=\"text-align: right;\">\n",
              "      <th></th>\n",
              "      <th>age</th>\n",
              "      <th>sex</th>\n",
              "      <th>smoker</th>\n",
              "      <th>region</th>\n",
              "      <th>viral load</th>\n",
              "      <th>severity level</th>\n",
              "      <th>hospitalization charges</th>\n",
              "    </tr>\n",
              "  </thead>\n",
              "  <tbody>\n",
              "    <tr>\n",
              "      <th>age</th>\n",
              "      <td>1.000000</td>\n",
              "      <td>-0.020856</td>\n",
              "      <td>-0.025019</td>\n",
              "      <td>0.006308</td>\n",
              "      <td>0.109300</td>\n",
              "      <td>0.042469</td>\n",
              "      <td>0.299008</td>\n",
              "    </tr>\n",
              "    <tr>\n",
              "      <th>sex</th>\n",
              "      <td>-0.020856</td>\n",
              "      <td>1.000000</td>\n",
              "      <td>0.076185</td>\n",
              "      <td>-0.012816</td>\n",
              "      <td>0.046343</td>\n",
              "      <td>0.017163</td>\n",
              "      <td>0.057292</td>\n",
              "    </tr>\n",
              "    <tr>\n",
              "      <th>smoker</th>\n",
              "      <td>-0.025019</td>\n",
              "      <td>0.076185</td>\n",
              "      <td>1.000000</td>\n",
              "      <td>-0.038873</td>\n",
              "      <td>0.003739</td>\n",
              "      <td>0.007673</td>\n",
              "      <td>0.787251</td>\n",
              "    </tr>\n",
              "    <tr>\n",
              "      <th>region</th>\n",
              "      <td>0.006308</td>\n",
              "      <td>-0.012816</td>\n",
              "      <td>-0.038873</td>\n",
              "      <td>1.000000</td>\n",
              "      <td>-0.262676</td>\n",
              "      <td>0.001205</td>\n",
              "      <td>-0.039473</td>\n",
              "    </tr>\n",
              "    <tr>\n",
              "      <th>viral load</th>\n",
              "      <td>0.109300</td>\n",
              "      <td>0.046343</td>\n",
              "      <td>0.003739</td>\n",
              "      <td>-0.262676</td>\n",
              "      <td>1.000000</td>\n",
              "      <td>0.012729</td>\n",
              "      <td>0.198388</td>\n",
              "    </tr>\n",
              "    <tr>\n",
              "      <th>severity level</th>\n",
              "      <td>0.042469</td>\n",
              "      <td>0.017163</td>\n",
              "      <td>0.007673</td>\n",
              "      <td>0.001205</td>\n",
              "      <td>0.012729</td>\n",
              "      <td>1.000000</td>\n",
              "      <td>0.067998</td>\n",
              "    </tr>\n",
              "    <tr>\n",
              "      <th>hospitalization charges</th>\n",
              "      <td>0.299008</td>\n",
              "      <td>0.057292</td>\n",
              "      <td>0.787251</td>\n",
              "      <td>-0.039473</td>\n",
              "      <td>0.198388</td>\n",
              "      <td>0.067998</td>\n",
              "      <td>1.000000</td>\n",
              "    </tr>\n",
              "  </tbody>\n",
              "</table>\n",
              "</div>\n",
              "      <button class=\"colab-df-convert\" onclick=\"convertToInteractive('df-01ce33be-f15b-4195-95c9-a857513b0a1b')\"\n",
              "              title=\"Convert this dataframe to an interactive table.\"\n",
              "              style=\"display:none;\">\n",
              "        \n",
              "  <svg xmlns=\"http://www.w3.org/2000/svg\" height=\"24px\"viewBox=\"0 0 24 24\"\n",
              "       width=\"24px\">\n",
              "    <path d=\"M0 0h24v24H0V0z\" fill=\"none\"/>\n",
              "    <path d=\"M18.56 5.44l.94 2.06.94-2.06 2.06-.94-2.06-.94-.94-2.06-.94 2.06-2.06.94zm-11 1L8.5 8.5l.94-2.06 2.06-.94-2.06-.94L8.5 2.5l-.94 2.06-2.06.94zm10 10l.94 2.06.94-2.06 2.06-.94-2.06-.94-.94-2.06-.94 2.06-2.06.94z\"/><path d=\"M17.41 7.96l-1.37-1.37c-.4-.4-.92-.59-1.43-.59-.52 0-1.04.2-1.43.59L10.3 9.45l-7.72 7.72c-.78.78-.78 2.05 0 2.83L4 21.41c.39.39.9.59 1.41.59.51 0 1.02-.2 1.41-.59l7.78-7.78 2.81-2.81c.8-.78.8-2.07 0-2.86zM5.41 20L4 18.59l7.72-7.72 1.47 1.35L5.41 20z\"/>\n",
              "  </svg>\n",
              "      </button>\n",
              "      \n",
              "  <style>\n",
              "    .colab-df-container {\n",
              "      display:flex;\n",
              "      flex-wrap:wrap;\n",
              "      gap: 12px;\n",
              "    }\n",
              "\n",
              "    .colab-df-convert {\n",
              "      background-color: #E8F0FE;\n",
              "      border: none;\n",
              "      border-radius: 50%;\n",
              "      cursor: pointer;\n",
              "      display: none;\n",
              "      fill: #1967D2;\n",
              "      height: 32px;\n",
              "      padding: 0 0 0 0;\n",
              "      width: 32px;\n",
              "    }\n",
              "\n",
              "    .colab-df-convert:hover {\n",
              "      background-color: #E2EBFA;\n",
              "      box-shadow: 0px 1px 2px rgba(60, 64, 67, 0.3), 0px 1px 3px 1px rgba(60, 64, 67, 0.15);\n",
              "      fill: #174EA6;\n",
              "    }\n",
              "\n",
              "    [theme=dark] .colab-df-convert {\n",
              "      background-color: #3B4455;\n",
              "      fill: #D2E3FC;\n",
              "    }\n",
              "\n",
              "    [theme=dark] .colab-df-convert:hover {\n",
              "      background-color: #434B5C;\n",
              "      box-shadow: 0px 1px 3px 1px rgba(0, 0, 0, 0.15);\n",
              "      filter: drop-shadow(0px 1px 2px rgba(0, 0, 0, 0.3));\n",
              "      fill: #FFFFFF;\n",
              "    }\n",
              "  </style>\n",
              "\n",
              "      <script>\n",
              "        const buttonEl =\n",
              "          document.querySelector('#df-01ce33be-f15b-4195-95c9-a857513b0a1b button.colab-df-convert');\n",
              "        buttonEl.style.display =\n",
              "          google.colab.kernel.accessAllowed ? 'block' : 'none';\n",
              "\n",
              "        async function convertToInteractive(key) {\n",
              "          const element = document.querySelector('#df-01ce33be-f15b-4195-95c9-a857513b0a1b');\n",
              "          const dataTable =\n",
              "            await google.colab.kernel.invokeFunction('convertToInteractive',\n",
              "                                                     [key], {});\n",
              "          if (!dataTable) return;\n",
              "\n",
              "          const docLinkHtml = 'Like what you see? Visit the ' +\n",
              "            '<a target=\"_blank\" href=https://colab.research.google.com/notebooks/data_table.ipynb>data table notebook</a>'\n",
              "            + ' to learn more about interactive tables.';\n",
              "          element.innerHTML = '';\n",
              "          dataTable['output_type'] = 'display_data';\n",
              "          await google.colab.output.renderOutput(dataTable, element);\n",
              "          const docLink = document.createElement('div');\n",
              "          docLink.innerHTML = docLinkHtml;\n",
              "          element.appendChild(docLink);\n",
              "        }\n",
              "      </script>\n",
              "    </div>\n",
              "  </div>\n",
              "  "
            ]
          },
          "metadata": {},
          "execution_count": 68
        }
      ]
    },
    {
      "cell_type": "code",
      "source": [
        "# Correlation plot among features\n",
        "plt.figure(figsize=(10,7))\n",
        "sns.heatmap(df_copy.corr(),annot=True, cmap=\"viridis\")\n",
        "plt.title(\"Correlation plot\")\n",
        "plt.show()"
      ],
      "metadata": {
        "colab": {
          "base_uri": "https://localhost:8080/",
          "height": 550
        },
        "id": "2DES33Z3UluH",
        "outputId": "cb1b267a-645c-4d05-e6e7-6b400c5a9ea0"
      },
      "execution_count": 69,
      "outputs": [
        {
          "output_type": "display_data",
          "data": {
            "text/plain": [
              "<Figure size 720x504 with 2 Axes>"
            ],
            "image/png": "[encoded data removed]"
          },
          "metadata": {
            "needs_background": "light"
          }
        }
      ]
    },
    {
      "cell_type": "markdown",
      "source": [
        "**Observations:**\n",
        "\n",
        "1. We can see that smoker is highly correlated with hospitalization charges.\n",
        "2. Viral load has a correlation with age.\n",
        "3. Region has a negative correlation with viral load.\n",
        "4. Age and viral load has some correlation with hospitalization charges."
      ],
      "metadata": {
        "id": "Sw7z18OBILcm"
      }
    },
    {
      "cell_type": "code",
      "source": [
        "sns.pairplot(df_copy)\n",
        "# output is hidden due to organization policy and to manitain confidentiality"
      ],
      "metadata": {
        "id": "Ms3acIQLVJku"
      },
      "execution_count": null,
      "outputs": []
    },
    {
      "cell_type": "code",
      "source": [
        "# As severity level has only 5 discrete values so it can be converted to object type\n",
        "\n",
        "df[\"severity level\"]=df[\"severity level\"].astype(\"object\")"
      ],
      "metadata": {
        "id": "KbbnDHyIOC24"
      },
      "execution_count": 71,
      "outputs": []
    },
    {
      "cell_type": "code",
      "source": [
        "# checking null values\n",
        "\n",
        "df.isnull().sum()"
      ],
      "metadata": {
        "colab": {
          "base_uri": "https://localhost:8080/",
          "height": 0
        },
        "id": "zE4mQZ2_OhGo",
        "outputId": "bc9aa397-e122-4e03-be31-219c9bf97f47"
      },
      "execution_count": 72,
      "outputs": [
        {
          "output_type": "execute_result",
          "data": {
            "text/plain": [
              "age                        0\n",
              "sex                        0\n",
              "smoker                     0\n",
              "region                     0\n",
              "viral load                 0\n",
              "severity level             0\n",
              "hospitalization charges    0\n",
              "dtype: int64"
            ]
          },
          "metadata": {},
          "execution_count": 72
        }
      ]
    },
    {
      "cell_type": "markdown",
      "source": [
        "There are no missing values in dataset."
      ],
      "metadata": {
        "id": "u3JpHAV35xEd"
      }
    },
    {
      "cell_type": "code",
      "source": [
        "# checking duplicated value in dataset\n",
        "\n",
        "np.any(df.duplicated())"
      ],
      "metadata": {
        "colab": {
          "base_uri": "https://localhost:8080/",
          "height": 0
        },
        "id": "UTvQ4DoT6F8S",
        "outputId": "accdac65-6cde-4287-f84a-0dd77b8af3f9"
      },
      "execution_count": 73,
      "outputs": [
        {
          "output_type": "execute_result",
          "data": {
            "text/plain": [
              "True"
            ]
          },
          "metadata": {},
          "execution_count": 73
        }
      ]
    },
    {
      "cell_type": "code",
      "source": [
        "df[df.duplicated()]"
      ],
      "metadata": {
        "colab": {
          "base_uri": "https://localhost:8080/",
          "height": 81
        },
        "id": "XWkehi2BVYB_",
        "outputId": "7c2fd699-848c-4892-cf38-9a41af93c450"
      },
      "execution_count": 74,
      "outputs": [
        {
          "output_type": "execute_result",
          "data": {
            "text/plain": [
              "     age   sex smoker     region  viral load severity level  \\\n",
              "581   19  male     no  northwest        10.2              0   \n",
              "\n",
              "     hospitalization charges  \n",
              "581                     4099  "
            ],
            "text/html": [
              "\n",
              "  <div id=\"df-22156cc6-757f-4fd2-bb9b-b36fdb696a3f\">\n",
              "    <div class=\"colab-df-container\">\n",
              "      <div>\n",
              "<style scoped>\n",
              "    .dataframe tbody tr th:only-of-type {\n",
              "        vertical-align: middle;\n",
              "    }\n",
              "\n",
              "    .dataframe tbody tr th {\n",
              "        vertical-align: top;\n",
              "    }\n",
              "\n",
              "    .dataframe thead th {\n",
              "        text-align: right;\n",
              "    }\n",
              "</style>\n",
              "<table border=\"1\" class=\"dataframe\">\n",
              "  <thead>\n",
              "    <tr style=\"text-align: right;\">\n",
              "      <th></th>\n",
              "      <th>age</th>\n",
              "      <th>sex</th>\n",
              "      <th>smoker</th>\n",
              "      <th>region</th>\n",
              "      <th>viral load</th>\n",
              "      <th>severity level</th>\n",
              "      <th>hospitalization charges</th>\n",
              "    </tr>\n",
              "  </thead>\n",
              "  <tbody>\n",
              "    <tr>\n",
              "      <th>581</th>\n",
              "      <td>19</td>\n",
              "      <td>male</td>\n",
              "      <td>no</td>\n",
              "      <td>northwest</td>\n",
              "      <td>10.2</td>\n",
              "      <td>0</td>\n",
              "      <td>4099</td>\n",
              "    </tr>\n",
              "  </tbody>\n",
              "</table>\n",
              "</div>\n",
              "      <button class=\"colab-df-convert\" onclick=\"convertToInteractive('df-22156cc6-757f-4fd2-bb9b-b36fdb696a3f')\"\n",
              "              title=\"Convert this dataframe to an interactive table.\"\n",
              "              style=\"display:none;\">\n",
              "        \n",
              "  <svg xmlns=\"http://www.w3.org/2000/svg\" height=\"24px\"viewBox=\"0 0 24 24\"\n",
              "       width=\"24px\">\n",
              "    <path d=\"M0 0h24v24H0V0z\" fill=\"none\"/>\n",
              "    <path d=\"M18.56 5.44l.94 2.06.94-2.06 2.06-.94-2.06-.94-.94-2.06-.94 2.06-2.06.94zm-11 1L8.5 8.5l.94-2.06 2.06-.94-2.06-.94L8.5 2.5l-.94 2.06-2.06.94zm10 10l.94 2.06.94-2.06 2.06-.94-2.06-.94-.94-2.06-.94 2.06-2.06.94z\"/><path d=\"M17.41 7.96l-1.37-1.37c-.4-.4-.92-.59-1.43-.59-.52 0-1.04.2-1.43.59L10.3 9.45l-7.72 7.72c-.78.78-.78 2.05 0 2.83L4 21.41c.39.39.9.59 1.41.59.51 0 1.02-.2 1.41-.59l7.78-7.78 2.81-2.81c.8-.78.8-2.07 0-2.86zM5.41 20L4 18.59l7.72-7.72 1.47 1.35L5.41 20z\"/>\n",
              "  </svg>\n",
              "      </button>\n",
              "      \n",
              "  <style>\n",
              "    .colab-df-container {\n",
              "      display:flex;\n",
              "      flex-wrap:wrap;\n",
              "      gap: 12px;\n",
              "    }\n",
              "\n",
              "    .colab-df-convert {\n",
              "      background-color: #E8F0FE;\n",
              "      border: none;\n",
              "      border-radius: 50%;\n",
              "      cursor: pointer;\n",
              "      display: none;\n",
              "      fill: #1967D2;\n",
              "      height: 32px;\n",
              "      padding: 0 0 0 0;\n",
              "      width: 32px;\n",
              "    }\n",
              "\n",
              "    .colab-df-convert:hover {\n",
              "      background-color: #E2EBFA;\n",
              "      box-shadow: 0px 1px 2px rgba(60, 64, 67, 0.3), 0px 1px 3px 1px rgba(60, 64, 67, 0.15);\n",
              "      fill: #174EA6;\n",
              "    }\n",
              "\n",
              "    [theme=dark] .colab-df-convert {\n",
              "      background-color: #3B4455;\n",
              "      fill: #D2E3FC;\n",
              "    }\n",
              "\n",
              "    [theme=dark] .colab-df-convert:hover {\n",
              "      background-color: #434B5C;\n",
              "      box-shadow: 0px 1px 3px 1px rgba(0, 0, 0, 0.15);\n",
              "      filter: drop-shadow(0px 1px 2px rgba(0, 0, 0, 0.3));\n",
              "      fill: #FFFFFF;\n",
              "    }\n",
              "  </style>\n",
              "\n",
              "      <script>\n",
              "        const buttonEl =\n",
              "          document.querySelector('#df-22156cc6-757f-4fd2-bb9b-b36fdb696a3f button.colab-df-convert');\n",
              "        buttonEl.style.display =\n",
              "          google.colab.kernel.accessAllowed ? 'block' : 'none';\n",
              "\n",
              "        async function convertToInteractive(key) {\n",
              "          const element = document.querySelector('#df-22156cc6-757f-4fd2-bb9b-b36fdb696a3f');\n",
              "          const dataTable =\n",
              "            await google.colab.kernel.invokeFunction('convertToInteractive',\n",
              "                                                     [key], {});\n",
              "          if (!dataTable) return;\n",
              "\n",
              "          const docLinkHtml = 'Like what you see? Visit the ' +\n",
              "            '<a target=\"_blank\" href=https://colab.research.google.com/notebooks/data_table.ipynb>data table notebook</a>'\n",
              "            + ' to learn more about interactive tables.';\n",
              "          element.innerHTML = '';\n",
              "          dataTable['output_type'] = 'display_data';\n",
              "          await google.colab.output.renderOutput(dataTable, element);\n",
              "          const docLink = document.createElement('div');\n",
              "          docLink.innerHTML = docLinkHtml;\n",
              "          element.appendChild(docLink);\n",
              "        }\n",
              "      </script>\n",
              "    </div>\n",
              "  </div>\n",
              "  "
            ]
          },
          "metadata": {},
          "execution_count": 74
        }
      ]
    },
    {
      "cell_type": "markdown",
      "source": [
        "There is one duplicate value which can be dropped."
      ],
      "metadata": {
        "id": "CnKXb9Ve6gwh"
      }
    },
    {
      "cell_type": "code",
      "source": [
        "# Dropping duplicate values from dataset\n",
        "\n",
        "df.drop_duplicates(inplace=True)"
      ],
      "metadata": {
        "id": "bvYxs0v56k6K"
      },
      "execution_count": 75,
      "outputs": []
    },
    {
      "cell_type": "markdown",
      "source": [
        "##**Univariate Analysis**"
      ],
      "metadata": {
        "id": "sk1hEXPsVdFW"
      }
    },
    {
      "cell_type": "code",
      "source": [
        "# Distribution plot of age feature \n",
        "\n",
        "plt.figure(figsize=(10,7))\n",
        "sns.distplot(x=df[\"age\"],hist=True, kde_kws={\"linewidth\":3}, hist_kws={\"edgecolor\":\"black\"},color=\"orange\")\n",
        "plt.title(\"Distribution of age\")\n",
        "plt.show()"
      ],
      "metadata": {
        "colab": {
          "base_uri": "https://localhost:8080/",
          "height": 500
        },
        "id": "ZpvSqQ0cX3MJ",
        "outputId": "7db14f70-04c2-4f82-db0e-b6e796fa8674"
      },
      "execution_count": 76,
      "outputs": [
        {
          "output_type": "stream",
          "name": "stderr",
          "text": [
            "/usr/local/lib/python3.8/dist-packages/seaborn/distributions.py:2619: FutureWarning: `distplot` is a deprecated function and will be removed in a future version. Please adapt your code to use either `displot` (a figure-level function with similar flexibility) or `histplot` (an axes-level function for histograms).\n",
            "  warnings.warn(msg, FutureWarning)\n"
          ]
        },
        {
          "output_type": "display_data",
          "data": {
            "text/plain": [
              "<Figure size 720x504 with 1 Axes>"
            ],
            "image/png": "[encoded data removed]"
          },
          "metadata": {
            "needs_background": "light"
          }
        }
      ]
    },
    {
      "cell_type": "code",
      "source": [
        "# countplot and pie-chart for sex category \n",
        "\n",
        "plt.figure(figsize=(18,7))\n",
        "colors=sns.color_palette(\"Oranges\")\n",
        "\n",
        "plt.subplot(1,2,1)\n",
        "sns.countplot(x=\"sex\",data=df, palette=colors)\n",
        "plt.title(\"Countplot for sex\")\n",
        "\n",
        "plt.subplot(1,2,2)\n",
        "plt.pie(df[\"sex\"].value_counts(),labels=df[\"sex\"].value_counts().index, autopct=\"%0.0f%%\", explode=[0,0.02], colors=colors)\n",
        "plt.title(\"Pie-Chart for sex category\")\n",
        "\n",
        "plt.show()"
      ],
      "metadata": {
        "colab": {
          "base_uri": "https://localhost:8080/",
          "height": 458
        },
        "id": "VHEwG2rhZJyI",
        "outputId": "e19cef52-3017-4c08-a5e3-5d0782a69a12"
      },
      "execution_count": 77,
      "outputs": [
        {
          "output_type": "display_data",
          "data": {
            "text/plain": [
              "<Figure size 1296x504 with 2 Axes>"
            ],
            "image/png": "[encoded data removed]"
          },
          "metadata": {
            "needs_background": "light"
          }
        }
      ]
    },
    {
      "cell_type": "code",
      "source": [
        "# countplot and pie-chart for smoker category \n",
        "\n",
        "plt.figure(figsize=(18,7))\n",
        "colors=sns.color_palette(\"Oranges\")\n",
        "\n",
        "plt.subplot(1,2,1)\n",
        "sns.countplot(x=\"smoker\",data=df, palette=colors)\n",
        "plt.title(\"Countplot for smoker\")\n",
        "\n",
        "plt.subplot(1,2,2)\n",
        "plt.pie(df[\"smoker\"].value_counts(),labels=df[\"smoker\"].value_counts().index, autopct=\"%0.0f%%\", explode=[0,0.02], colors=colors)\n",
        "plt.title(\"Pie-Chart for smoker category\")\n",
        "\n",
        "plt.show()"
      ],
      "metadata": {
        "colab": {
          "base_uri": "https://localhost:8080/",
          "height": 458
        },
        "id": "vTdP3hU2afGs",
        "outputId": "8cc7af49-c98e-4ea0-d01f-278489dc50d2"
      },
      "execution_count": 78,
      "outputs": [
        {
          "output_type": "display_data",
          "data": {
            "text/plain": [
              "<Figure size 1296x504 with 2 Axes>"
            ],
            "image/png": "[encoded data removed]"
          },
          "metadata": {
            "needs_background": "light"
          }
        }
      ]
    },
    {
      "cell_type": "code",
      "source": [
        "# countplot and pie-chart for region category \n",
        "\n",
        "plt.figure(figsize=(18,7))\n",
        "colors=sns.color_palette(\"Oranges\")\n",
        "\n",
        "plt.subplot(1,2,1)\n",
        "sns.countplot(x=\"region\",data=df, palette=colors)\n",
        "plt.title(\"Countplot for region\")\n",
        "\n",
        "plt.subplot(1,2,2)\n",
        "plt.pie(df[\"region\"].value_counts(),labels=df[\"region\"].value_counts().index, autopct=\"%0.0f%%\", explode=[0,0.02,0,0], colors=colors)\n",
        "plt.title(\"Pie-Chart for region category\")\n",
        "\n",
        "plt.show()"
      ],
      "metadata": {
        "colab": {
          "base_uri": "https://localhost:8080/",
          "height": 458
        },
        "id": "KhR56L1OayDk",
        "outputId": "71b20d23-620a-4fac-85f0-1771bffc2dfb"
      },
      "execution_count": 79,
      "outputs": [
        {
          "output_type": "display_data",
          "data": {
            "text/plain": [
              "<Figure size 1296x504 with 2 Axes>"
            ],
            "image/png": "[encoded data removed]"
          },
          "metadata": {
            "needs_background": "light"
          }
        }
      ]
    },
    {
      "cell_type": "code",
      "source": [
        "#Distribution plot of viral load feature\n",
        "\n",
        "plt.figure(figsize=(18,7))\n",
        "colors=sns.color_palette(\"Oranges\")\n",
        "plt.subplot(1,2,1)\n",
        "sns.distplot(x=df[\"viral load\"],hist=True, kde_kws={\"linewidth\":3}, hist_kws={\"edgecolor\":\"black\"},color=\"orange\")\n",
        "plt.title(\"Distribution of viral load\")\n",
        "\n",
        "plt.subplot(1,2,2)\n",
        "sns.boxplot(y=\"viral load\",data=df,color=\"orange\")\n",
        "plt.title(\"Boxplot of viral load\")\n",
        "plt.show()"
      ],
      "metadata": {
        "colab": {
          "base_uri": "https://localhost:8080/",
          "height": 500
        },
        "id": "856y-jdIbKN-",
        "outputId": "f23e156a-8654-4d71-e945-8ee5f6f1aafa"
      },
      "execution_count": 80,
      "outputs": [
        {
          "output_type": "stream",
          "name": "stderr",
          "text": [
            "/usr/local/lib/python3.8/dist-packages/seaborn/distributions.py:2619: FutureWarning: `distplot` is a deprecated function and will be removed in a future version. Please adapt your code to use either `displot` (a figure-level function with similar flexibility) or `histplot` (an axes-level function for histograms).\n",
            "  warnings.warn(msg, FutureWarning)\n"
          ]
        },
        {
          "output_type": "display_data",
          "data": {
            "text/plain": [
              "<Figure size 1296x504 with 2 Axes>"
            ],
            "image/png": "[encoded data removed]"
          },
          "metadata": {
            "needs_background": "light"
          }
        }
      ]
    },
    {
      "cell_type": "code",
      "source": [
        "# countplot and pie-chart for severity level category \n",
        "\n",
        "plt.figure(figsize=(18,7))\n",
        "colors=sns.color_palette(\"Oranges\")\n",
        "\n",
        "plt.subplot(1,2,1)\n",
        "sns.countplot(x=\"severity level\",data=df, palette=colors)\n",
        "plt.title(\"Countplot for severity level\")\n",
        "\n",
        "plt.subplot(1,2,2)\n",
        "plt.pie(df[\"severity level\"].value_counts(),labels=df[\"severity level\"].value_counts().index, autopct=\"%0.0f%%\", explode=[0.02,0,0.02,0,0.02,0], colors=colors)\n",
        "plt.title(\"Pie-Chart for severity level category\")\n",
        "\n",
        "plt.show()"
      ],
      "metadata": {
        "colab": {
          "base_uri": "https://localhost:8080/",
          "height": 458
        },
        "id": "ELTICl9BbRx8",
        "outputId": "d52706bd-33f9-4ec6-a29a-43adfef2abdf"
      },
      "execution_count": 81,
      "outputs": [
        {
          "output_type": "display_data",
          "data": {
            "text/plain": [
              "<Figure size 1296x504 with 2 Axes>"
            ],
            "image/png": "[encoded data removed]"
          },
          "metadata": {
            "needs_background": "light"
          }
        }
      ]
    },
    {
      "cell_type": "code",
      "source": [
        "# Distribution and Log Normal Distribution plot of hospitalization charges\n",
        "\n",
        "plt.figure(figsize=(18,7))\n",
        "colors=sns.color_palette(\"Oranges\")\n",
        "plt.subplot(1,2,1)\n",
        "sns.distplot(x=df[\"hospitalization charges\"],hist=True, kde_kws={\"linewidth\":3}, hist_kws={\"edgecolor\":\"black\"},color=\"orange\")\n",
        "plt.title(\"Distribution of hospitalization charges\")\n",
        "\n",
        "plt.subplot(1,2,2)\n",
        "sns.distplot(x=np.log(df[\"hospitalization charges\"]),hist=True, kde_kws={\"linewidth\":3}, hist_kws={\"edgecolor\":\"black\"},color=\"orange\")\n",
        "plt.title(\"Log-Normal Distribution of hospitalization charges\")\n",
        "plt.show()\n",
        "\n",
        "# output is hidden due to organization policy and to manitain confidentiality"
      ],
      "metadata": {
        "id": "gQm9RuTVcvgN"
      },
      "execution_count": null,
      "outputs": []
    },
    {
      "cell_type": "code",
      "source": [
        "# Boxplot of hospitalization charges\n",
        "\n",
        "plt.figure(figsize=(10,7))\n",
        "colors=sns.color_palette(\"Oranges\")\n",
        "sns.boxplot(y=\"hospitalization charges\",data=df,color=\"orange\")\n",
        "plt.title(\"Boxplot of hospitalization charges\")\n",
        "plt.show()\n",
        "\n",
        "# output is hidden due to organization policy and to manitain confidentiality"
      ],
      "metadata": {
        "id": "V7v4m0u4ob74"
      },
      "execution_count": null,
      "outputs": []
    },
    {
      "cell_type": "markdown",
      "source": [
        "**Observations:**\n",
        "1. Age groups of 20-65 years are present in the dataset.\n",
        "2. Data is balanced in terms of sex category. 51% are males whereas 49% are females.\n",
        "3. 80% of the people are from non-smoker category whereas 20% of people are from smoker category.\n",
        "4. Data is balanced in terms of region. Equal proportion of people are present from each region.\n",
        "5. Viral load is properly forming bell-shaped curve depicting that it is normally distributed with mean close to 10.\n",
        "6. Median of viral load is close to 10 with 100th percentile close to 16. There are few outliers present in viral load.\n",
        "7. Majority of the people have a severity level of 0 followed by severity level 1 and 2.\n",
        "8. Most of the people have a hospitalization charge of ~25000. Very few people have hospitalization charge above 1 Lakh. It seems to be following right skewed log Normal Distribution.\n",
        "9. Hospitalization charge have a median value close to 23k. There are many outliers present here."
      ],
      "metadata": {
        "id": "QU9YFogaMrm8"
      }
    },
    {
      "cell_type": "markdown",
      "source": [
        "##**Bi-Variate Analysis**"
      ],
      "metadata": {
        "id": "3DG6KD9Dc8YZ"
      }
    },
    {
      "cell_type": "code",
      "source": [
        "# Barplot and scatterplot for age groups v/s hospitalization charges\n",
        "\n",
        "age_bins=[17,25,40,55,65]\n",
        "age_groups=[\"Youth\",\"Adults\",\"Middle Aged\",\"Old Aged\"]\n",
        "df[\"age_bins\"]=pd.cut(df[\"age\"],bins=age_bins,labels=age_groups)\n",
        "\n",
        "plt.figure(figsize=(18,7))\n",
        "colors=sns.color_palette(\"Oranges\")\n",
        "plt.subplot(1,2,1)\n",
        "sns.barplot(x=\"age_bins\",y=\"hospitalization charges\",data=df,palette=colors)\n",
        "plt.title(\"Barplot for age groups v/s hospitalization charges\")\n",
        "\n",
        "plt.subplot(1,2,2)\n",
        "sns.lineplot(x=\"age\",y=\"hospitalization charges\", hue=\"age_bins\", data=df)\n",
        "plt.title(\"Lineplot for age groups v/s hospitalization charges\")\n",
        "plt.show()\n",
        "\n",
        "# output is hidden due to organization policy and to manitain confidentiality"
      ],
      "metadata": {
        "id": "7l2j5e-RqgOL"
      },
      "execution_count": null,
      "outputs": []
    },
    {
      "cell_type": "code",
      "source": [
        "# Barplot and Boxplot for sex v/s hospitalization charges\n",
        "\n",
        "plt.figure(figsize=(18,7))\n",
        "colors=sns.color_palette(\"Oranges\")\n",
        "plt.subplot(1,2,1)\n",
        "sns.barplot(y=\"hospitalization charges\",x=\"sex\",data=df, palette=colors)\n",
        "plt.title(\"Barplot for sex v/s hospitalization charges\")\n",
        "\n",
        "plt.subplot(1,2,2)\n",
        "sns.boxplot(y=\"hospitalization charges\",x=\"sex\",data=df, palette=colors)\n",
        "plt.title(\"Boxplot for sex v/s hospitalization charges\")\n",
        "plt.show()\n",
        "\n",
        "# output is hidden due to organization policy and to manitain confidentiality"
      ],
      "metadata": {
        "id": "h-IOeeMqdaFo"
      },
      "execution_count": null,
      "outputs": []
    },
    {
      "cell_type": "code",
      "source": [
        "# Barplot and Boxplot for smoker v/s hospitalization charges\n",
        "\n",
        "plt.figure(figsize=(18,7))\n",
        "colors=sns.color_palette(\"Oranges\")\n",
        "plt.subplot(1,2,1)\n",
        "sns.barplot(y=\"hospitalization charges\",x=\"smoker\",data=df, palette=colors)\n",
        "plt.title(\"Barplot for smoker v/s hospitalization charges\")\n",
        "\n",
        "plt.subplot(1,2,2)\n",
        "sns.boxplot(y=\"hospitalization charges\",x=\"smoker\",data=df, palette=colors)\n",
        "plt.title(\"Boxplot for smoker v/s hospitalization charge\")\n",
        "plt.show()\n",
        "\n",
        "# output is hidden due to organization policy and to manitain confidentiality"
      ],
      "metadata": {
        "id": "YtaPNKnenrbz"
      },
      "execution_count": null,
      "outputs": []
    },
    {
      "cell_type": "code",
      "source": [
        "# Heatmap for smoker v/s sex and smoker v/s region\n",
        "\n",
        "plt.figure(figsize=(18,7))\n",
        "plt.subplot(1,2,1)\n",
        "sns.heatmap(pd.crosstab(df[\"sex\"],df[\"smoker\"]), annot=True,fmt=\".4g\", cbar=False)\n",
        "plt.title(\"Heatmap for smoker v/s sex\")\n",
        "\n",
        "plt.subplot(1,2,2)\n",
        "sns.heatmap(pd.crosstab(df[\"smoker\"],df[\"region\"]), annot=True,fmt=\".4g\", cbar=False)\n",
        "plt.title(\"Heatmap for smoker v/s region\")\n",
        "plt.show()"
      ],
      "metadata": {
        "colab": {
          "base_uri": "https://localhost:8080/",
          "height": 458
        },
        "id": "BwONq7UmxYs0",
        "outputId": "69e92ca1-a562-4dbb-b8ab-575e826da880"
      },
      "execution_count": 87,
      "outputs": [
        {
          "output_type": "display_data",
          "data": {
            "text/plain": [
              "<Figure size 1296x504 with 2 Axes>"
            ],
            "image/png": "[encoded data removed]"
          },
          "metadata": {
            "needs_background": "light"
          }
        }
      ]
    },
    {
      "cell_type": "code",
      "source": [
        "# Heatmap for smoker v/s age groups and smoker v/s severity level\n",
        "\n",
        "plt.figure(figsize=(18,7))\n",
        "plt.subplot(1,2,1)\n",
        "sns.heatmap(pd.crosstab(df[\"smoker\"],df[\"age_bins\"]), annot=True, cbar=False,fmt=\".4g\")\n",
        "plt.title(\"Heatmap for smoker v/s age groups\")\n",
        "\n",
        "plt.subplot(1,2,2)\n",
        "sns.heatmap(pd.crosstab(df[\"smoker\"],df[\"severity level\"]), annot=True, cbar=False,fmt=\".4g\")\n",
        "plt.title(\"Heatmap for smoker v/s severity level\")\n",
        "plt.show()"
      ],
      "metadata": {
        "colab": {
          "base_uri": "https://localhost:8080/",
          "height": 459
        },
        "id": "-Mgc1DJ8HfAq",
        "outputId": "366e9e27-9eab-4c44-b450-b70e612305fb"
      },
      "execution_count": 88,
      "outputs": [
        {
          "output_type": "display_data",
          "data": {
            "text/plain": [
              "<Figure size 1296x504 with 2 Axes>"
            ],
            "image/png": "[encoded data removed]"
          },
          "metadata": {
            "needs_background": "light"
          }
        }
      ]
    },
    {
      "cell_type": "code",
      "source": [
        "# Line Chart of patients smoking v/s severity level and smoking v/s age groups\n",
        "\n",
        "plt.figure(figsize=(18,7))\n",
        "plt.subplot(1,2,1)\n",
        "sns.lineplot(x=\"index\",y=\"severity level\",data=df[df[\"smoker\"]==\"yes\"][\"severity level\"].value_counts().reset_index(),color=\"brown\")\n",
        "plt.xlabel(\"severity level\")\n",
        "plt.ylabel(\"Count of patients\")\n",
        "plt.title(\"Line Chart of patients smoking v/s severity level\")\n",
        "\n",
        "plt.subplot(1,2,2)\n",
        "sns.lineplot(x=\"index\",y=\"age_bins\",data=df[df[\"smoker\"]==\"yes\"][\"age_bins\"].value_counts().reset_index(),color=\"brown\")\n",
        "plt.xlabel(\"age_bins\")\n",
        "plt.ylabel(\"Count of patients\")\n",
        "plt.title(\"Line Chart of patients smoking v/s age groups\")\n",
        "plt.show()"
      ],
      "metadata": {
        "colab": {
          "base_uri": "https://localhost:8080/",
          "height": 459
        },
        "id": "UC6-sp2KJaSI",
        "outputId": "888e75df-82c0-4034-d759-7d879be07e4e"
      },
      "execution_count": 89,
      "outputs": [
        {
          "output_type": "display_data",
          "data": {
            "text/plain": [
              "<Figure size 1296x504 with 2 Axes>"
            ],
            "image/png": "[encoded data removed]"
          },
          "metadata": {
            "needs_background": "light"
          }
        }
      ]
    },
    {
      "cell_type": "code",
      "source": [
        "# Barplot and Boxplot for region v/s hospitalization charges\n",
        "\n",
        "plt.figure(figsize=(18,7))\n",
        "colors=sns.color_palette(\"Oranges\")\n",
        "plt.subplot(1,2,1)\n",
        "sns.barplot(y=\"hospitalization charges\",x=\"region\",data=df, palette=colors)\n",
        "plt.title(\"Barplot for region v/s hospitalization charge\")\n",
        "\n",
        "plt.subplot(1,2,2)\n",
        "sns.boxplot(y=\"hospitalization charges\",x=\"region\",data=df, palette=colors)\n",
        "plt.title(\"Boxplot for region v/s hospitalization charge\")\n",
        "plt.show()\n",
        "\n",
        "# output is hidden due to organization policy and to manitain confidentiality"
      ],
      "metadata": {
        "id": "Xwp9ZgRon0Nj"
      },
      "execution_count": null,
      "outputs": []
    },
    {
      "cell_type": "code",
      "source": [
        "# Barplot for region v/s hospitalization charge\n",
        "\n",
        "plt.figure(figsize=(10,7))\n",
        "colors=sns.color_palette(\"Oranges\")\n",
        "sns.barplot(x=\"region\",y=\"hospitalization charges\",\n",
        "            data=df.groupby([\"region\"])[\"hospitalization charges\"].sum().reset_index(),\n",
        "            palette=colors)\n",
        "plt.title(\"Barplot for region v/s hospitalization charge\")\n",
        "plt.show()\n",
        "\n",
        "# output is hidden due to organization policy and to manitain confidentiality"
      ],
      "metadata": {
        "id": "bqlh2w5-VNcX"
      },
      "execution_count": null,
      "outputs": []
    },
    {
      "cell_type": "code",
      "source": [
        "# Barplot for viral load v/s hospitalization charge\n",
        "\n",
        "bins=[6,10,14,18]\n",
        "groups=[\"low\",\"mid\",\"high\"]\n",
        "df[\"viral_load_bins\"]=pd.cut(df[\"viral load\"],bins=bins,labels=groups)\n",
        "\n",
        "plt.figure(figsize=(10,7))\n",
        "colors=sns.color_palette(\"Oranges\")\n",
        "sns.barplot(x=\"viral_load_bins\",y=\"hospitalization charges\",\n",
        "            data=df.groupby([\"viral_load_bins\"])[\"hospitalization charges\"].mean().reset_index(),\n",
        "            palette=colors)\n",
        "plt.title(\"Barplot for viral load v/s hospitalization charge\")\n",
        "plt.show()\n",
        "\n",
        "# output is hidden due to organization policy and to manitain confidentiality"
      ],
      "metadata": {
        "id": "n-gk7cTxZx1N"
      },
      "execution_count": null,
      "outputs": []
    },
    {
      "cell_type": "code",
      "source": [
        "# Barplot and Boxplot for severity level v/s hospitalization charges\n",
        "\n",
        "plt.figure(figsize=(18,7))\n",
        "colors=sns.color_palette(\"Oranges\")\n",
        "plt.subplot(1,2,1)\n",
        "sns.barplot(y=\"hospitalization charges\",x=\"severity level\",data=df, palette=colors)\n",
        "plt.title(\"Barplot for severity level v/s hospitalization charge\")\n",
        "\n",
        "plt.subplot(1,2,2)\n",
        "sns.boxplot(y=\"hospitalization charges\",x=\"severity level\",data=df, palette=colors)\n",
        "plt.title(\"Boxplot for severity level v/s hospitalization charge\")\n",
        "plt.show()\n",
        "\n",
        "# output is hidden due to organization policy and to manitain confidentiality"
      ],
      "metadata": {
        "id": "PyZedWICr-B9"
      },
      "execution_count": null,
      "outputs": []
    },
    {
      "cell_type": "markdown",
      "source": [
        "**Observations:**\n",
        "\n",
        "1. Old aged people have high value of hospitalization charge compared to young people.\n",
        "2. Males have a high mean value of hospitalization charge compared to Females whereas median value for both male and female is almost equal. There are more outliers for female than males.\n",
        "3. There is a large difference in mean/median value of hospitalization charge for smokers and non-smokers. Outliers are only present in non-smoker category.\n",
        "4. Mean and median values of hospitalization charge for each region except southeast is almost equal. There are less outliers in southeast region compared to rest regions.\n",
        "5. Mean and median value of Severity level 0 and 1 is amost equal and have more of hospitalization charge outliers compared to other severity level.\n",
        "6. Adults and Middle aged people are smoking more than young and aged people."
      ],
      "metadata": {
        "id": "kfCPVhT1S3Ym"
      }
    },
    {
      "cell_type": "markdown",
      "source": [
        "##**MultiVariate Analysis**"
      ],
      "metadata": {
        "id": "3biCcw9lu79M"
      }
    },
    {
      "cell_type": "code",
      "source": [
        "# Regplot for viral load v/s hospitalization charges for sex and smoker\n",
        "\n",
        "plt.figure(figsize=(10,7))\n",
        "sns.FacetGrid(df,col=\"smoker\",height=5, aspect=1.2).map(sns.regplot,\"viral load\",\"hospitalization charges\", color=\"brown\")\n",
        "plt.show()\n",
        "\n",
        "# output is hidden due to organization policy and to manitain confidentiality"
      ],
      "metadata": {
        "id": "MSueEyQH0Udp"
      },
      "execution_count": null,
      "outputs": []
    },
    {
      "cell_type": "code",
      "source": [
        "# Barplot and Boxplot of sex v/s hospitalization charges for smoker and non-smoker category\n",
        "\n",
        "plt.figure(figsize=(18,7))\n",
        "colors=sns.color_palette(\"Oranges\")\n",
        "plt.subplot(1,2,1)\n",
        "sns.barplot(y=\"hospitalization charges\",x=\"sex\",hue=\"smoker\",data=df, palette=colors)\n",
        "plt.title(\"Barplot for sex v/s hospitalization charge\")\n",
        "\n",
        "plt.subplot(1,2,2)\n",
        "sns.boxplot(y=\"hospitalization charges\",x=\"sex\",hue=\"smoker\",data=df, palette=colors)\n",
        "plt.title(\"Boxplot for sex v/s hospitalization charge\")\n",
        "plt.show()\n",
        "\n",
        "# output is hidden due to organization policy and to manitain confidentiality"
      ],
      "metadata": {
        "id": "UysZyk98u3Th"
      },
      "execution_count": null,
      "outputs": []
    },
    {
      "cell_type": "markdown",
      "source": [
        "**Observations:**\n",
        "1. There seems to be a linear relationship between viral load and hospitalization charge for people who do smoking.\n",
        "2. Males who do smoking have high average hospitalization charge compared to female who do smoking."
      ],
      "metadata": {
        "id": "qdHfaMB-36kl"
      }
    },
    {
      "cell_type": "markdown",
      "source": [
        "##**Outlier Detection & Correction**"
      ],
      "metadata": {
        "id": "6BNwlJ_J18_l"
      }
    },
    {
      "cell_type": "code",
      "source": [
        "# checking outliers using Inter Quartile Range for hospitalization charges and viral load\n",
        "\n",
        "continuous_col=[\"viral load\", \"hospitalization charges\"]\n",
        "\n",
        "def check_outliers(df,col):\n",
        "  quartiles=np.percentile(df[col],np.arange(0,100,25))\n",
        "  IQR=round(quartiles[3]-quartiles[1],2)\n",
        "  print(\"Inter Quartile Range for \"+str(col)+\":\",IQR)\n",
        "  min_value=round((quartiles[1] - (1.5*IQR)),2)\n",
        "  max_value=round((quartiles[3] + (1.5*IQR)),2)\n",
        "  print(\"minimum value for \"+str(col)+\":\",min_value)\n",
        "  print(\"maximum value for \"+str(col)+\":\",max_value)\n",
        "\n",
        "for col in continuous_col:\n",
        "  check_outliers(df,col)\n",
        "  print(\"*\"*50)\n",
        "\n",
        "# As viral load is distributed normally, outliers can also be determined using empirical formula i.e 99.9% of data lies between mean-3(sigma) and mean+3(sigma)\n",
        "\n",
        "viral_load_mean=round(df[\"viral load\"].mean(),2)\n",
        "viral_load_std=round(df[\"viral load\"].std(),2)\n",
        "\n",
        "min_value=round(viral_load_mean - (3*viral_load_std) ,2)\n",
        "max_value=round(viral_load_mean + (3*viral_load_std) ,2)\n",
        "\n",
        "print(\"minimum value for viral load using empirical formula:\",min_value)\n",
        "print(\"maximum value for viral load using empirical formula:\",max_value)\n",
        "\n",
        "# output is hidden due to organization policy and to manitain confidentiality"
      ],
      "metadata": {
        "colab": {
          "base_uri": "https://localhost:8080/",
          "height": 0
        },
        "id": "Y_JTV3Jt2SQZ",
        "outputId": "2d4452ae-39e5-465d-e9e5-a24ff5b77034"
      },
      "execution_count": 96,
      "outputs": [
        {
          "output_type": "stream",
          "name": "stdout",
          "text": [
            "Inter Quartile Range for viral load: 2.81\n",
            "minimum value for viral load: 4.54\n",
            "maximum value for viral load: 15.78\n",
            "**************************************************\n",
            "Inter Quartile Range for hospitalization charges: 29778.0\n",
            "minimum value for hospitalization charges: -32801.0\n",
            "maximum value for hospitalization charges: 86311.0\n",
            "**************************************************\n",
            "minimum value for viral load using empirical formula: 4.13\n",
            "maximum value for viral load using empirical formula: 16.31\n"
          ]
        }
      ]
    },
    {
      "cell_type": "code",
      "source": [
        "print(\"Percentage of outliers for viral load is\",round((len(df[(df[\"viral load\"]<4.55) | (df[\"viral load\"]>15.78)])*100)/len(df),2) ,\"%\")\n",
        "print(\"Percentage of outliers for hospitalization charges is\",round((len(df[df[\"hospitalization charges\"]>86222])*100)/len(df),2) ,\"%\")"
      ],
      "metadata": {
        "colab": {
          "base_uri": "https://localhost:8080/",
          "height": 0
        },
        "id": "ESKfemMw4GxR",
        "outputId": "dfabae2d-f571-46de-8878-8257ee75b791"
      },
      "execution_count": 97,
      "outputs": [
        {
          "output_type": "stream",
          "name": "stdout",
          "text": [
            "Percentage of outliers for viral load is 0.67 %\n",
            "Percentage of outliers for hospitalization charges is 10.4 %\n"
          ]
        }
      ]
    },
    {
      "cell_type": "code",
      "source": [
        "# As hospitalization charges outliers is close to 10% so clipping it between 0 to 89 percentile.\n",
        "\n",
        "percentiles=df[\"hospitalization charges\"].quantile([0,0.89]).values\n",
        "df_copy=df.copy()\n",
        "df_copy[\"hospitalization charges\"]=np.clip(df[\"hospitalization charges\"],percentiles[0],percentiles[1])\n",
        "\n",
        "# As viral load outliers is less than 1% these can be dropped\n",
        "\n",
        "viral_load_outliers=df_copy[(df_copy[\"viral load\"]<4.55) | (df_copy[\"viral load\"]>15.78)]\n",
        "df_copy.drop(viral_load_outliers.index,axis=0,inplace=True)"
      ],
      "metadata": {
        "id": "zPBx1_5j6xwO"
      },
      "execution_count": 98,
      "outputs": []
    },
    {
      "cell_type": "code",
      "source": [
        "# outlier check after clipping of hospitalization charges and dropping outliers in viral laod\n",
        "print(\"Percentage of outliers for viral load is\",round((len(df_copy[(df_copy[\"viral load\"]<4.55) | (df_copy[\"viral load\"]>15.78)])*100)/len(df_copy),2) ,\"%\")\n",
        "print(\"Percentage of outliers for hospitalization charges is\",round((len(df_copy[df_copy[\"hospitalization charges\"]>86222])*100)/len(df_copy),2) ,\"%\")"
      ],
      "metadata": {
        "colab": {
          "base_uri": "https://localhost:8080/",
          "height": 0
        },
        "id": "UaoO8P1K7nuR",
        "outputId": "7619a545-f0dc-44fc-9450-9de4ec890b44"
      },
      "execution_count": 99,
      "outputs": [
        {
          "output_type": "stream",
          "name": "stdout",
          "text": [
            "Percentage of outliers for viral load is 0.0 %\n",
            "Percentage of outliers for hospitalization charges is 0.0 %\n"
          ]
        }
      ]
    },
    {
      "cell_type": "markdown",
      "source": [
        "##**Hypothesis Testing**"
      ],
      "metadata": {
        "id": "ezUbKn7zC1H9"
      }
    },
    {
      "cell_type": "markdown",
      "source": [
        "##**1.\tProve (or disprove) that the hospitalization charges of people who do smoking are greater than those who don't?**"
      ],
      "metadata": {
        "id": "MjKrwDAmjKw0"
      }
    },
    {
      "cell_type": "markdown",
      "source": [
        "##Step1: Define Null and Alternate Hypothesis\n",
        "\n",
        "H0: Hospitalization charges of smokers and non-smokers are equal.\n",
        "\n",
        "Ha: Hospitalization charges of smokers is greater than non-smokers.\n",
        "\n",
        "\n",
        "Let 𝜇1 and 𝜇2 be the average hospitalization charges of smokers and non smokers.\n",
        "\n",
        "Mathematically, above formaulated hypothesis can be written as:\n",
        "\n",
        "H0: 𝜇1 = 𝜇2\n",
        "\n",
        "Ha: 𝜇1 < 𝜇2"
      ],
      "metadata": {
        "id": "djDfs2hyjckz"
      }
    },
    {
      "cell_type": "markdown",
      "source": [
        "##Step2: Select Appropriate Test"
      ],
      "metadata": {
        "id": "BTN4CeWZkmhI"
      }
    },
    {
      "cell_type": "code",
      "source": [
        "smoker=df[df[\"smoker\"]==\"yes\"][\"hospitalization charges\"].sample(200)\n",
        "nonsmoker=df[df[\"smoker\"]==\"no\"][\"hospitalization charges\"].sample(200)"
      ],
      "metadata": {
        "id": "I_4IPMTZC5hy"
      },
      "execution_count": 100,
      "outputs": []
    },
    {
      "cell_type": "code",
      "source": [
        "print(\"Sample Standard deviation of hospitalization charges for smoker\",round(smoker.std(),2))\n",
        "print(\"Sample Standard deviation of hospitalization charges for nonsmoker\",round(nonsmoker.std(),2))"
      ],
      "metadata": {
        "colab": {
          "base_uri": "https://localhost:8080/",
          "height": 0
        },
        "id": "TSoKKiiAlqcp",
        "outputId": "1a85859e-bb15-48cf-e773-ce9aab16271c"
      },
      "execution_count": 101,
      "outputs": [
        {
          "output_type": "stream",
          "name": "stdout",
          "text": [
            "Sample Standard deviation of hospitalization charges for smoker 29342.58\n",
            "Sample Standard deviation of hospitalization charges for nonsmoker 15604.71\n"
          ]
        }
      ]
    },
    {
      "cell_type": "markdown",
      "source": [
        "As Sample standard deviation are different, population standard deviation can be different. As population standard deviation is unknown, 2 sample independent t-test would be appropriate."
      ],
      "metadata": {
        "id": "6I9XOEMul66z"
      }
    },
    {
      "cell_type": "markdown",
      "source": [
        "##Step3: Selecting Significance Level\n",
        "\n",
        "Selecting alpha as 0.05"
      ],
      "metadata": {
        "id": "sOp2GTidmXlF"
      }
    },
    {
      "cell_type": "code",
      "source": [
        "alpha=0.05"
      ],
      "metadata": {
        "id": "HiD7VFr5mnPN"
      },
      "execution_count": 102,
      "outputs": []
    },
    {
      "cell_type": "markdown",
      "source": [
        "##Step4: Calculating p-Value"
      ],
      "metadata": {
        "id": "QrCxY7wmmtUw"
      }
    },
    {
      "cell_type": "code",
      "source": [
        "ttest_statistic, p_value_smoker=ttest_ind(smoker,nonsmoker, equal_var=False,alternative=\"greater\")\n",
        "\n",
        "print(\"ttest_statistic:\",ttest_statistic)\n",
        "print(\"p value:\",p_value_smoker)\n",
        "print(\"*\"*50)\n",
        "\n",
        "if p_value_smoker>alpha:\n",
        "  print(\"As p value is greater than significance value, fail to reject the null hypothesis.\")\n",
        "else:\n",
        "  print(\"As p value is less than significance value, reject null hypothesis.\")"
      ],
      "metadata": {
        "colab": {
          "base_uri": "https://localhost:8080/",
          "height": 0
        },
        "id": "LuH7e-cBmxq1",
        "outputId": "67386e85-9033-4cbb-b325-51930748e86a"
      },
      "execution_count": 103,
      "outputs": [
        {
          "output_type": "stream",
          "name": "stdout",
          "text": [
            "ttest_statistic: 26.23641409754355\n",
            "p value: 2.656753367085435e-80\n",
            "**************************************************\n",
            "As p value is less than significance value, reject null hypothesis.\n"
          ]
        }
      ]
    },
    {
      "cell_type": "markdown",
      "source": [
        "**Conclusion:**\n",
        "\n",
        "Since p value is less than 5% significance value, we are rejecting null hypothesis. Hence we have enough statistical evidence to prove that average hospitalization charges is more for people who do smoking."
      ],
      "metadata": {
        "id": "Px-aPucXoP8b"
      }
    },
    {
      "cell_type": "markdown",
      "source": [
        "##**2. Prove (or disprove) with statistical evidence that the viral load of females is different from that of males**"
      ],
      "metadata": {
        "id": "Ml5JuhcVpGVM"
      }
    },
    {
      "cell_type": "markdown",
      "source": [
        "##Step1: Define Null and Alternate Hypothesis\n",
        "\n",
        "H0: Viral Load of Females and Males are same.\n",
        "\n",
        "Ha: Viral Load of Females and Males are different.\n",
        "\n",
        "Let 𝜇1 and 𝜇2 be the average Viral Load of females and males.\n",
        "\n",
        "Mathematically, above formaulated hypothesis can be written as:\n",
        "\n",
        "H0: 𝜇1 = 𝜇2\n",
        "\n",
        "Ha: 𝜇1 != 𝜇2"
      ],
      "metadata": {
        "id": "1J9NAUZOpRql"
      }
    },
    {
      "cell_type": "markdown",
      "source": [
        "##Step2: Select Appropriate Test"
      ],
      "metadata": {
        "id": "AmUINbrvp93T"
      }
    },
    {
      "cell_type": "code",
      "source": [
        "female=df[df[\"sex\"]==\"female\"][\"viral load\"].sample(300)\n",
        "male=df[df[\"sex\"]==\"male\"][\"viral load\"].sample(300)"
      ],
      "metadata": {
        "id": "6fMIITfdp_Hw"
      },
      "execution_count": 104,
      "outputs": []
    },
    {
      "cell_type": "code",
      "source": [
        "print(\"Sample Standard deviation of viral load for female\",round(female.std(),2))\n",
        "print(\"Sample Standard deviation of viral load for male\",round(male.std(),2))"
      ],
      "metadata": {
        "colab": {
          "base_uri": "https://localhost:8080/",
          "height": 0
        },
        "id": "Zrdonls7qc1h",
        "outputId": "f48044ea-7a99-4f42-e69e-0f5081e7e5b7"
      },
      "execution_count": 105,
      "outputs": [
        {
          "output_type": "stream",
          "name": "stdout",
          "text": [
            "Sample Standard deviation of viral load for female 1.97\n",
            "Sample Standard deviation of viral load for male 1.96\n"
          ]
        }
      ]
    },
    {
      "cell_type": "markdown",
      "source": [
        "As Sample standard deviation of viral load for males and females are almost same. Population standard deviation might be same. As population standard deviation is not known, 2 sample independent t-test would be appropriate."
      ],
      "metadata": {
        "id": "zMuAMsjyq6Jm"
      }
    },
    {
      "cell_type": "markdown",
      "source": [
        "##Step3: Selecting Significance Level\n",
        "Selecting alpha as 0.05"
      ],
      "metadata": {
        "id": "tinaOmHlrQ_B"
      }
    },
    {
      "cell_type": "code",
      "source": [
        "alpha=0.05"
      ],
      "metadata": {
        "id": "XeFebswKrSNj"
      },
      "execution_count": 106,
      "outputs": []
    },
    {
      "cell_type": "markdown",
      "source": [
        "##Step4: Calculating p-Value"
      ],
      "metadata": {
        "id": "ZDmMOK3ZrVZH"
      }
    },
    {
      "cell_type": "code",
      "source": [
        "ttest_statistic, p_value_sex=ttest_ind(female,male, equal_var=False)\n",
        "\n",
        "print(\"ttest_statistic:\",ttest_statistic)\n",
        "print(\"p value:\",p_value_sex)\n",
        "print(\"*\"*50)\n",
        "\n",
        "if p_value_sex>alpha:\n",
        "  print(\"As p value is greater than significance value, fail to reject the null hypothesis.\")\n",
        "else:\n",
        "  print(\"As p value is less than significance value, reject null hypothesis.\")"
      ],
      "metadata": {
        "colab": {
          "base_uri": "https://localhost:8080/",
          "height": 0
        },
        "id": "ovlEsXb1rWsS",
        "outputId": "2cdd81c2-0479-4674-9620-b03f69afbfb3"
      },
      "execution_count": 107,
      "outputs": [
        {
          "output_type": "stream",
          "name": "stdout",
          "text": [
            "ttest_statistic: 1.1406490064081467\n",
            "p value: 0.2544726297746048\n",
            "**************************************************\n",
            "As p value is greater than significance value, fail to reject the null hypothesis.\n"
          ]
        }
      ]
    },
    {
      "cell_type": "markdown",
      "source": [
        "**Conclusion:**\n",
        "\n",
        "Since p value is greater than 5% significance value, we failed to reject null hypothesis. Hence we have enough statistical evidence to prove that viral load for females and males are equal."
      ],
      "metadata": {
        "id": "2v-M3_Evrm26"
      }
    },
    {
      "cell_type": "markdown",
      "source": [
        "##**3. Is the proportion of smoking significantly different across different regions**"
      ],
      "metadata": {
        "id": "WGkuB3I8sTEP"
      }
    },
    {
      "cell_type": "markdown",
      "source": [
        "##Step1: Define Null and Alternate Hypothesis\n",
        "\n",
        "H0: Proportion of smoking is same across all regions.\n",
        "\n",
        "Ha: Proportion of smoking is different across all regions."
      ],
      "metadata": {
        "id": "Zeu4L40JsYCL"
      }
    },
    {
      "cell_type": "markdown",
      "source": [
        "##Step2: Select Appropriate Test\n",
        "\n",
        "As Smoker and region both are categorical variable and we need to determine proportion of category1 in category 2, chi-square test would be appropriate test.\n"
      ],
      "metadata": {
        "id": "YVLF0BsOtZVF"
      }
    },
    {
      "cell_type": "code",
      "source": [
        "smoker_region_contingency=pd.crosstab(df[\"smoker\"],df[\"region\"])\n",
        "smoker_region_contingency\n",
        "\n",
        "# output is hidden due to organization policy and to manitain confidentiality"
      ],
      "metadata": {
        "colab": {
          "base_uri": "https://localhost:8080/",
          "height": 143
        },
        "id": "bBX0Waa7tLQc",
        "outputId": "412a9ebc-1181-4ad4-bc6c-18444fde9ce7"
      },
      "execution_count": 108,
      "outputs": [
        {
          "output_type": "execute_result",
          "data": {
            "text/plain": [
              "region  northeast  northwest  southeast  southwest\n",
              "smoker                                            \n",
              "no            257        266        273        267\n",
              "yes            67         58         91         58"
            ],
            "text/html": [
              "\n",
              "  <div id=\"df-b34d06d2-5b3d-453e-937d-32b28afe895b\">\n",
              "    <div class=\"colab-df-container\">\n",
              "      <div>\n",
              "<style scoped>\n",
              "    .dataframe tbody tr th:only-of-type {\n",
              "        vertical-align: middle;\n",
              "    }\n",
              "\n",
              "    .dataframe tbody tr th {\n",
              "        vertical-align: top;\n",
              "    }\n",
              "\n",
              "    .dataframe thead th {\n",
              "        text-align: right;\n",
              "    }\n",
              "</style>\n",
              "<table border=\"1\" class=\"dataframe\">\n",
              "  <thead>\n",
              "    <tr style=\"text-align: right;\">\n",
              "      <th>region</th>\n",
              "      <th>northeast</th>\n",
              "      <th>northwest</th>\n",
              "      <th>southeast</th>\n",
              "      <th>southwest</th>\n",
              "    </tr>\n",
              "    <tr>\n",
              "      <th>smoker</th>\n",
              "      <th></th>\n",
              "      <th></th>\n",
              "      <th></th>\n",
              "      <th></th>\n",
              "    </tr>\n",
              "  </thead>\n",
              "  <tbody>\n",
              "    <tr>\n",
              "      <th>no</th>\n",
              "      <td>257</td>\n",
              "      <td>266</td>\n",
              "      <td>273</td>\n",
              "      <td>267</td>\n",
              "    </tr>\n",
              "    <tr>\n",
              "      <th>yes</th>\n",
              "      <td>67</td>\n",
              "      <td>58</td>\n",
              "      <td>91</td>\n",
              "      <td>58</td>\n",
              "    </tr>\n",
              "  </tbody>\n",
              "</table>\n",
              "</div>\n",
              "      <button class=\"colab-df-convert\" onclick=\"convertToInteractive('df-b34d06d2-5b3d-453e-937d-32b28afe895b')\"\n",
              "              title=\"Convert this dataframe to an interactive table.\"\n",
              "              style=\"display:none;\">\n",
              "        \n",
              "  <svg xmlns=\"http://www.w3.org/2000/svg\" height=\"24px\"viewBox=\"0 0 24 24\"\n",
              "       width=\"24px\">\n",
              "    <path d=\"M0 0h24v24H0V0z\" fill=\"none\"/>\n",
              "    <path d=\"M18.56 5.44l.94 2.06.94-2.06 2.06-.94-2.06-.94-.94-2.06-.94 2.06-2.06.94zm-11 1L8.5 8.5l.94-2.06 2.06-.94-2.06-.94L8.5 2.5l-.94 2.06-2.06.94zm10 10l.94 2.06.94-2.06 2.06-.94-2.06-.94-.94-2.06-.94 2.06-2.06.94z\"/><path d=\"M17.41 7.96l-1.37-1.37c-.4-.4-.92-.59-1.43-.59-.52 0-1.04.2-1.43.59L10.3 9.45l-7.72 7.72c-.78.78-.78 2.05 0 2.83L4 21.41c.39.39.9.59 1.41.59.51 0 1.02-.2 1.41-.59l7.78-7.78 2.81-2.81c.8-.78.8-2.07 0-2.86zM5.41 20L4 18.59l7.72-7.72 1.47 1.35L5.41 20z\"/>\n",
              "  </svg>\n",
              "      </button>\n",
              "      \n",
              "  <style>\n",
              "    .colab-df-container {\n",
              "      display:flex;\n",
              "      flex-wrap:wrap;\n",
              "      gap: 12px;\n",
              "    }\n",
              "\n",
              "    .colab-df-convert {\n",
              "      background-color: #E8F0FE;\n",
              "      border: none;\n",
              "      border-radius: 50%;\n",
              "      cursor: pointer;\n",
              "      display: none;\n",
              "      fill: #1967D2;\n",
              "      height: 32px;\n",
              "      padding: 0 0 0 0;\n",
              "      width: 32px;\n",
              "    }\n",
              "\n",
              "    .colab-df-convert:hover {\n",
              "      background-color: #E2EBFA;\n",
              "      box-shadow: 0px 1px 2px rgba(60, 64, 67, 0.3), 0px 1px 3px 1px rgba(60, 64, 67, 0.15);\n",
              "      fill: #174EA6;\n",
              "    }\n",
              "\n",
              "    [theme=dark] .colab-df-convert {\n",
              "      background-color: #3B4455;\n",
              "      fill: #D2E3FC;\n",
              "    }\n",
              "\n",
              "    [theme=dark] .colab-df-convert:hover {\n",
              "      background-color: #434B5C;\n",
              "      box-shadow: 0px 1px 3px 1px rgba(0, 0, 0, 0.15);\n",
              "      filter: drop-shadow(0px 1px 2px rgba(0, 0, 0, 0.3));\n",
              "      fill: #FFFFFF;\n",
              "    }\n",
              "  </style>\n",
              "\n",
              "      <script>\n",
              "        const buttonEl =\n",
              "          document.querySelector('#df-b34d06d2-5b3d-453e-937d-32b28afe895b button.colab-df-convert');\n",
              "        buttonEl.style.display =\n",
              "          google.colab.kernel.accessAllowed ? 'block' : 'none';\n",
              "\n",
              "        async function convertToInteractive(key) {\n",
              "          const element = document.querySelector('#df-b34d06d2-5b3d-453e-937d-32b28afe895b');\n",
              "          const dataTable =\n",
              "            await google.colab.kernel.invokeFunction('convertToInteractive',\n",
              "                                                     [key], {});\n",
              "          if (!dataTable) return;\n",
              "\n",
              "          const docLinkHtml = 'Like what you see? Visit the ' +\n",
              "            '<a target=\"_blank\" href=https://colab.research.google.com/notebooks/data_table.ipynb>data table notebook</a>'\n",
              "            + ' to learn more about interactive tables.';\n",
              "          element.innerHTML = '';\n",
              "          dataTable['output_type'] = 'display_data';\n",
              "          await google.colab.output.renderOutput(dataTable, element);\n",
              "          const docLink = document.createElement('div');\n",
              "          docLink.innerHTML = docLinkHtml;\n",
              "          element.appendChild(docLink);\n",
              "        }\n",
              "      </script>\n",
              "    </div>\n",
              "  </div>\n",
              "  "
            ]
          },
          "metadata": {},
          "execution_count": 108
        }
      ]
    },
    {
      "cell_type": "markdown",
      "source": [
        "##Step3: Selecting Significance Level\n",
        "Selecting alpha as 0.05"
      ],
      "metadata": {
        "id": "frolyaAIt2AX"
      }
    },
    {
      "cell_type": "code",
      "source": [
        "alpha=0.05"
      ],
      "metadata": {
        "id": "p1AMAIhWt34-"
      },
      "execution_count": 109,
      "outputs": []
    },
    {
      "cell_type": "markdown",
      "source": [
        "##Step4: Calculating p-Value"
      ],
      "metadata": {
        "id": "4n6eRxict7Qd"
      }
    },
    {
      "cell_type": "code",
      "source": [
        "chi2test_statistic,p_value_region,dof,expected_values=chi2_contingency(smoker_region_contingency)\n",
        "\n",
        "print(\"Chi-square test statistic:\",chi2test_statistic)\n",
        "print(\"p value:\",p_value_region)\n",
        "print(\"DOF:\",dof)\n",
        "print(\"Expected Values:\",expected_values)\n",
        "print(\"*\"*50)\n",
        "if p_value_region>alpha:\n",
        "  print(\"As p value is greater than significance value, fail to reject the null hypothesis.\")\n",
        "else:\n",
        "  print(\"As p value is less than significance value, reject null hypothesis.\")"
      ],
      "metadata": {
        "colab": {
          "base_uri": "https://localhost:8080/",
          "height": 0
        },
        "id": "vNw4fdw1t8rs",
        "outputId": "e4a3e4f6-1ee6-488b-a295-b8662f95e376"
      },
      "execution_count": 110,
      "outputs": [
        {
          "output_type": "stream",
          "name": "stdout",
          "text": [
            "Chi-square test statistic: 7.277902541321909\n",
            "p value: 0.06354826573182332\n",
            "DOF: 3\n",
            "Expected Values: [[257.60059835 257.60059835 289.40314136 258.39566193]\n",
            " [ 66.39940165  66.39940165  74.59685864  66.60433807]]\n",
            "**************************************************\n",
            "As p value is greater than significance value, fail to reject the null hypothesis.\n"
          ]
        }
      ]
    },
    {
      "cell_type": "markdown",
      "source": [
        "**Conclusion:**\n",
        "\n",
        "Since p value is greater than 5% significance value, we failed to reject null hypothesis. Hence we do not have enough statistical evidence to prove that proportion of smoker is different across different region."
      ],
      "metadata": {
        "id": "oBzw9C6au86n"
      }
    },
    {
      "cell_type": "markdown",
      "source": [
        "##**4. Is the mean viral load of women with 0 Severity level , 1 Severity level, and 2 Severity level the same**"
      ],
      "metadata": {
        "id": "nikiBIrIvyHG"
      }
    },
    {
      "cell_type": "markdown",
      "source": [
        "##Step1: Define Null and Alternate Hypothesis\n",
        "\n",
        "H0: Mean Viral Load of Females is same for severity level 0,1 and 2.\n",
        "\n",
        "Ha: Mean Viral Load of Females is different for severity level 0,1 and 2."
      ],
      "metadata": {
        "id": "DYKX2mx2xHHR"
      }
    },
    {
      "cell_type": "markdown",
      "source": [
        "##Step2: Select Appropriate Test"
      ],
      "metadata": {
        "id": "Aox4-mfkxwQG"
      }
    },
    {
      "cell_type": "code",
      "source": [
        "df_female=df[df[\"sex\"]==\"female\"]\n",
        "\n",
        "severity_0=df_female[df_female[\"severity level\"]==0][\"viral load\"].sample(100)\n",
        "severity_1=df_female[df_female[\"severity level\"]==1][\"viral load\"].sample(100)\n",
        "severity_2=df_female[df_female[\"severity level\"]==2][\"viral load\"].sample(100)"
      ],
      "metadata": {
        "id": "-7qBSS71wNuv"
      },
      "execution_count": 111,
      "outputs": []
    },
    {
      "cell_type": "code",
      "source": [
        "df_female.shape"
      ],
      "metadata": {
        "colab": {
          "base_uri": "https://localhost:8080/",
          "height": 0
        },
        "id": "YtYolqzw0gGn",
        "outputId": "9a0c1d1a-9a1b-45f1-d0f6-572a0ea86c32"
      },
      "execution_count": 112,
      "outputs": [
        {
          "output_type": "execute_result",
          "data": {
            "text/plain": [
              "(662, 9)"
            ]
          },
          "metadata": {},
          "execution_count": 112
        }
      ]
    },
    {
      "cell_type": "code",
      "source": [
        "df_female.groupby([\"severity level\"])[\"viral load\"].describe()"
      ],
      "metadata": {
        "colab": {
          "base_uri": "https://localhost:8080/",
          "height": 269
        },
        "id": "hjVMONtHzXJ-",
        "outputId": "fea5cff6-2725-4495-fff2-e9cf94f793ae"
      },
      "execution_count": 113,
      "outputs": [
        {
          "output_type": "execute_result",
          "data": {
            "text/plain": [
              "                count       mean       std   min     25%     50%      75%  \\\n",
              "severity level                                                              \n",
              "0               289.0  10.120727  1.989071  5.76  8.7300   9.980  11.5300   \n",
              "1               158.0  10.017468  1.929065  5.60  8.6575   9.855  11.3150   \n",
              "2               119.0  10.216807  2.209687  5.73  8.5900  10.430  11.5850   \n",
              "3                77.0  10.145974  1.944119  6.33  8.7700  10.070  11.3700   \n",
              "4                11.0  10.647273  1.728746  8.53  9.6400   9.880  11.1700   \n",
              "5                 8.0  10.206250  2.975480  6.10  8.0500  10.080  11.6625   \n",
              "\n",
              "                  max  \n",
              "severity level         \n",
              "0               15.80  \n",
              "1               15.36  \n",
              "2               16.02  \n",
              "3               14.90  \n",
              "4               13.82  \n",
              "5               15.58  "
            ],
            "text/html": [
              "\n",
              "  <div id=\"df-60a1de8a-f588-44af-88c5-0c18621de89b\">\n",
              "    <div class=\"colab-df-container\">\n",
              "      <div>\n",
              "<style scoped>\n",
              "    .dataframe tbody tr th:only-of-type {\n",
              "        vertical-align: middle;\n",
              "    }\n",
              "\n",
              "    .dataframe tbody tr th {\n",
              "        vertical-align: top;\n",
              "    }\n",
              "\n",
              "    .dataframe thead th {\n",
              "        text-align: right;\n",
              "    }\n",
              "</style>\n",
              "<table border=\"1\" class=\"dataframe\">\n",
              "  <thead>\n",
              "    <tr style=\"text-align: right;\">\n",
              "      <th></th>\n",
              "      <th>count</th>\n",
              "      <th>mean</th>\n",
              "      <th>std</th>\n",
              "      <th>min</th>\n",
              "      <th>25%</th>\n",
              "      <th>50%</th>\n",
              "      <th>75%</th>\n",
              "      <th>max</th>\n",
              "    </tr>\n",
              "    <tr>\n",
              "      <th>severity level</th>\n",
              "      <th></th>\n",
              "      <th></th>\n",
              "      <th></th>\n",
              "      <th></th>\n",
              "      <th></th>\n",
              "      <th></th>\n",
              "      <th></th>\n",
              "      <th></th>\n",
              "    </tr>\n",
              "  </thead>\n",
              "  <tbody>\n",
              "    <tr>\n",
              "      <th>0</th>\n",
              "      <td>289.0</td>\n",
              "      <td>10.120727</td>\n",
              "      <td>1.989071</td>\n",
              "      <td>5.76</td>\n",
              "      <td>8.7300</td>\n",
              "      <td>9.980</td>\n",
              "      <td>11.5300</td>\n",
              "      <td>15.80</td>\n",
              "    </tr>\n",
              "    <tr>\n",
              "      <th>1</th>\n",
              "      <td>158.0</td>\n",
              "      <td>10.017468</td>\n",
              "      <td>1.929065</td>\n",
              "      <td>5.60</td>\n",
              "      <td>8.6575</td>\n",
              "      <td>9.855</td>\n",
              "      <td>11.3150</td>\n",
              "      <td>15.36</td>\n",
              "    </tr>\n",
              "    <tr>\n",
              "      <th>2</th>\n",
              "      <td>119.0</td>\n",
              "      <td>10.216807</td>\n",
              "      <td>2.209687</td>\n",
              "      <td>5.73</td>\n",
              "      <td>8.5900</td>\n",
              "      <td>10.430</td>\n",
              "      <td>11.5850</td>\n",
              "      <td>16.02</td>\n",
              "    </tr>\n",
              "    <tr>\n",
              "      <th>3</th>\n",
              "      <td>77.0</td>\n",
              "      <td>10.145974</td>\n",
              "      <td>1.944119</td>\n",
              "      <td>6.33</td>\n",
              "      <td>8.7700</td>\n",
              "      <td>10.070</td>\n",
              "      <td>11.3700</td>\n",
              "      <td>14.90</td>\n",
              "    </tr>\n",
              "    <tr>\n",
              "      <th>4</th>\n",
              "      <td>11.0</td>\n",
              "      <td>10.647273</td>\n",
              "      <td>1.728746</td>\n",
              "      <td>8.53</td>\n",
              "      <td>9.6400</td>\n",
              "      <td>9.880</td>\n",
              "      <td>11.1700</td>\n",
              "      <td>13.82</td>\n",
              "    </tr>\n",
              "    <tr>\n",
              "      <th>5</th>\n",
              "      <td>8.0</td>\n",
              "      <td>10.206250</td>\n",
              "      <td>2.975480</td>\n",
              "      <td>6.10</td>\n",
              "      <td>8.0500</td>\n",
              "      <td>10.080</td>\n",
              "      <td>11.6625</td>\n",
              "      <td>15.58</td>\n",
              "    </tr>\n",
              "  </tbody>\n",
              "</table>\n",
              "</div>\n",
              "      <button class=\"colab-df-convert\" onclick=\"convertToInteractive('df-60a1de8a-f588-44af-88c5-0c18621de89b')\"\n",
              "              title=\"Convert this dataframe to an interactive table.\"\n",
              "              style=\"display:none;\">\n",
              "        \n",
              "  <svg xmlns=\"http://www.w3.org/2000/svg\" height=\"24px\"viewBox=\"0 0 24 24\"\n",
              "       width=\"24px\">\n",
              "    <path d=\"M0 0h24v24H0V0z\" fill=\"none\"/>\n",
              "    <path d=\"M18.56 5.44l.94 2.06.94-2.06 2.06-.94-2.06-.94-.94-2.06-.94 2.06-2.06.94zm-11 1L8.5 8.5l.94-2.06 2.06-.94-2.06-.94L8.5 2.5l-.94 2.06-2.06.94zm10 10l.94 2.06.94-2.06 2.06-.94-2.06-.94-.94-2.06-.94 2.06-2.06.94z\"/><path d=\"M17.41 7.96l-1.37-1.37c-.4-.4-.92-.59-1.43-.59-.52 0-1.04.2-1.43.59L10.3 9.45l-7.72 7.72c-.78.78-.78 2.05 0 2.83L4 21.41c.39.39.9.59 1.41.59.51 0 1.02-.2 1.41-.59l7.78-7.78 2.81-2.81c.8-.78.8-2.07 0-2.86zM5.41 20L4 18.59l7.72-7.72 1.47 1.35L5.41 20z\"/>\n",
              "  </svg>\n",
              "      </button>\n",
              "      \n",
              "  <style>\n",
              "    .colab-df-container {\n",
              "      display:flex;\n",
              "      flex-wrap:wrap;\n",
              "      gap: 12px;\n",
              "    }\n",
              "\n",
              "    .colab-df-convert {\n",
              "      background-color: #E8F0FE;\n",
              "      border: none;\n",
              "      border-radius: 50%;\n",
              "      cursor: pointer;\n",
              "      display: none;\n",
              "      fill: #1967D2;\n",
              "      height: 32px;\n",
              "      padding: 0 0 0 0;\n",
              "      width: 32px;\n",
              "    }\n",
              "\n",
              "    .colab-df-convert:hover {\n",
              "      background-color: #E2EBFA;\n",
              "      box-shadow: 0px 1px 2px rgba(60, 64, 67, 0.3), 0px 1px 3px 1px rgba(60, 64, 67, 0.15);\n",
              "      fill: #174EA6;\n",
              "    }\n",
              "\n",
              "    [theme=dark] .colab-df-convert {\n",
              "      background-color: #3B4455;\n",
              "      fill: #D2E3FC;\n",
              "    }\n",
              "\n",
              "    [theme=dark] .colab-df-convert:hover {\n",
              "      background-color: #434B5C;\n",
              "      box-shadow: 0px 1px 3px 1px rgba(0, 0, 0, 0.15);\n",
              "      filter: drop-shadow(0px 1px 2px rgba(0, 0, 0, 0.3));\n",
              "      fill: #FFFFFF;\n",
              "    }\n",
              "  </style>\n",
              "\n",
              "      <script>\n",
              "        const buttonEl =\n",
              "          document.querySelector('#df-60a1de8a-f588-44af-88c5-0c18621de89b button.colab-df-convert');\n",
              "        buttonEl.style.display =\n",
              "          google.colab.kernel.accessAllowed ? 'block' : 'none';\n",
              "\n",
              "        async function convertToInteractive(key) {\n",
              "          const element = document.querySelector('#df-60a1de8a-f588-44af-88c5-0c18621de89b');\n",
              "          const dataTable =\n",
              "            await google.colab.kernel.invokeFunction('convertToInteractive',\n",
              "                                                     [key], {});\n",
              "          if (!dataTable) return;\n",
              "\n",
              "          const docLinkHtml = 'Like what you see? Visit the ' +\n",
              "            '<a target=\"_blank\" href=https://colab.research.google.com/notebooks/data_table.ipynb>data table notebook</a>'\n",
              "            + ' to learn more about interactive tables.';\n",
              "          element.innerHTML = '';\n",
              "          dataTable['output_type'] = 'display_data';\n",
              "          await google.colab.output.renderOutput(dataTable, element);\n",
              "          const docLink = document.createElement('div');\n",
              "          docLink.innerHTML = docLinkHtml;\n",
              "          element.appendChild(docLink);\n",
              "        }\n",
              "      </script>\n",
              "    </div>\n",
              "  </div>\n",
              "  "
            ]
          },
          "metadata": {},
          "execution_count": 113
        }
      ]
    },
    {
      "cell_type": "markdown",
      "source": [
        "One way Anova test could be the appropriate test provided normality and equality of variance assumptions are verified.\n",
        "\n",
        "The ANOVA test has important assumptions that must be satisfied in order for the associated p-value to be valid.\n",
        "\n",
        "1) The samples are independent.\n",
        "\n",
        "2) Each sample is from a normally distributed population.\n",
        "\n",
        "3) The population variance of the groups are all equal.\n",
        "\n",
        "Now, we will be using the following statistical tests to check the normality and euality of variance of the data set - For testing of normality, Shapiro-Wilk’s test is applied to the response variable. For equality of variance, Levene test is applied to the response variable."
      ],
      "metadata": {
        "id": "KXJDLxU0zqXK"
      }
    },
    {
      "cell_type": "markdown",
      "source": [
        "##Shapiro-Wilk’s test:\n",
        "H0: Volume follows Normal Distribution.\n",
        "\n",
        "Ha: Volume does not follows Normal Distribution."
      ],
      "metadata": {
        "id": "_zR9ol950FdM"
      }
    },
    {
      "cell_type": "code",
      "source": [
        "test_statistic,p_value=shapiro(df_female['viral load'].sample(500))\n",
        "\n",
        "print(\"test_statistic:\",test_statistic)\n",
        "print(\"p value:\",p_value)\n",
        "\n",
        "print(\"*\"*50)\n",
        "\n",
        "if (p_value>alpha):\n",
        "  print(\"As p value is greater than significance value, fail to reject null hypothesis\")\n",
        "else:\n",
        "  print(\"As p value is less than significance value,reject null hypothesis\")"
      ],
      "metadata": {
        "colab": {
          "base_uri": "https://localhost:8080/",
          "height": 0
        },
        "id": "S7THr-Xnz_Bb",
        "outputId": "45c49769-4d73-4265-80db-d2ba328a6bf8"
      },
      "execution_count": 114,
      "outputs": [
        {
          "output_type": "stream",
          "name": "stdout",
          "text": [
            "test_statistic: 0.9929621815681458\n",
            "p value: 0.019147265702486038\n",
            "**************************************************\n",
            "As p value is less than significance value,reject null hypothesis\n"
          ]
        }
      ]
    },
    {
      "cell_type": "markdown",
      "source": [
        "##Levene's test:\n",
        "\n",
        "H0: Variance for viral load is equal for each severity level.\n",
        "\n",
        "Ha: Atleast one variance is different from the rest."
      ],
      "metadata": {
        "id": "XH8jh-Sz0rmq"
      }
    },
    {
      "cell_type": "code",
      "source": [
        "test_statistic,p_value=levene(severity_0,severity_1,severity_2)\n",
        "\n",
        "print(\"test_statistic:\",test_statistic)\n",
        "print(\"p value:\",p_value)\n",
        "\n",
        "print(\"*\"*50)\n",
        "\n",
        "if (p_value>alpha):\n",
        "  print(\"As p value is greater than significance value, fail to reject null hypothesis\")\n",
        "else:\n",
        "  print(\"As p value is less than significance value,reject null hypothesis\")"
      ],
      "metadata": {
        "colab": {
          "base_uri": "https://localhost:8080/",
          "height": 0
        },
        "id": "hcb3Zo7V024m",
        "outputId": "035eee98-2416-4e4d-de1f-b222eaa3a55a"
      },
      "execution_count": 115,
      "outputs": [
        {
          "output_type": "stream",
          "name": "stdout",
          "text": [
            "test_statistic: 1.669508764801929\n",
            "p value: 0.1901021341402247\n",
            "**************************************************\n",
            "As p value is greater than significance value, fail to reject null hypothesis\n"
          ]
        }
      ]
    },
    {
      "cell_type": "markdown",
      "source": [
        "**Conclusion:**\n",
        "\n",
        "1) As seen in above test, distribution of viral load for female is foolowing normal distribution.\n",
        "\n",
        "2) Variance of groups with severity level 0, 1 and 2 are equal."
      ],
      "metadata": {
        "id": "OYfyjpN21SjC"
      }
    },
    {
      "cell_type": "markdown",
      "source": [
        "##Basic methods (other than statistical tests) to test the normality &homogeneity of variance:"
      ],
      "metadata": {
        "id": "vedj6ddB1tak"
      }
    },
    {
      "cell_type": "code",
      "source": [
        "# checking normality using histogram\n",
        "\n",
        "plt.figure(figsize=(10,7))\n",
        "sns.distplot(x=df_female[\"viral load\"],hist=True, kde_kws={\"linewidth\":3}, hist_kws={\"edgecolor\":\"black\"},color=\"orange\")\n",
        "plt.title(\"Distribution of viral load for females\")\n",
        "plt.show()"
      ],
      "metadata": {
        "colab": {
          "base_uri": "https://localhost:8080/",
          "height": 500
        },
        "id": "0q5E9mjg1oNk",
        "outputId": "440194a6-daad-4256-99f1-df351f8fb903"
      },
      "execution_count": 116,
      "outputs": [
        {
          "output_type": "stream",
          "name": "stderr",
          "text": [
            "/usr/local/lib/python3.8/dist-packages/seaborn/distributions.py:2619: FutureWarning: `distplot` is a deprecated function and will be removed in a future version. Please adapt your code to use either `displot` (a figure-level function with similar flexibility) or `histplot` (an axes-level function for histograms).\n",
            "  warnings.warn(msg, FutureWarning)\n"
          ]
        },
        {
          "output_type": "display_data",
          "data": {
            "text/plain": [
              "<Figure size 720x504 with 1 Axes>"
            ],
            "image/png": "[encoded data removed]"
          },
          "metadata": {
            "needs_background": "light"
          }
        }
      ]
    },
    {
      "cell_type": "code",
      "source": [
        "# checking normality using Q-Q plot\n",
        "\n",
        "plt.figure(figsize=(10,7))\n",
        "stats.probplot(df_female[\"viral load\"], dist=\"norm\", fit=True,plot=plt)\n",
        "plt.title(\"Q-Q plot for viral load\")\n",
        "plt.show()"
      ],
      "metadata": {
        "colab": {
          "base_uri": "https://localhost:8080/",
          "height": 458
        },
        "id": "ajUzvLDq2P8M",
        "outputId": "9135de52-93b7-4417-ee5b-4c692ce5bf08"
      },
      "execution_count": 117,
      "outputs": [
        {
          "output_type": "display_data",
          "data": {
            "text/plain": [
              "<Figure size 720x504 with 1 Axes>"
            ],
            "image/png": "[encoded data removed]"
          },
          "metadata": {
            "needs_background": "light"
          }
        }
      ]
    },
    {
      "cell_type": "code",
      "source": [
        "# checking homogenity of variance:\n",
        "\n",
        "print(\"severity level 0 var:\",round(severity_0.var(),2))\n",
        "print(\"severity level 1 var:\",round(severity_1.var(),2))\n",
        "print(\"severity level 2 var:\",round(severity_2.var(),2))"
      ],
      "metadata": {
        "colab": {
          "base_uri": "https://localhost:8080/",
          "height": 0
        },
        "id": "KyUOWTO82_Oa",
        "outputId": "6ac738a1-a080-4ea2-dfe2-4f3626784563"
      },
      "execution_count": 118,
      "outputs": [
        {
          "output_type": "stream",
          "name": "stdout",
          "text": [
            "severity level 0 var: 3.71\n",
            "severity level 1 var: 3.08\n",
            "severity level 2 var: 4.43\n"
          ]
        }
      ]
    },
    {
      "cell_type": "markdown",
      "source": [
        "##Step 3: Selecting Significance Level"
      ],
      "metadata": {
        "id": "PwnilORb3NHM"
      }
    },
    {
      "cell_type": "code",
      "source": [
        "alpha=0.05"
      ],
      "metadata": {
        "id": "WjIcuRHO3OP5"
      },
      "execution_count": 119,
      "outputs": []
    },
    {
      "cell_type": "markdown",
      "source": [
        "##Step 4: Calculating p-value"
      ],
      "metadata": {
        "id": "CvGbSqHU3Ttc"
      }
    },
    {
      "cell_type": "code",
      "source": [
        "test_statistic,p_value=f_oneway(severity_0,severity_1,severity_2)\n",
        "\n",
        "print(\"test_statistic:\",test_statistic)\n",
        "print(\"p value:\",p_value)\n",
        "\n",
        "print(\"*\"*50)\n",
        "\n",
        "if (p_value>alpha):\n",
        "  print(\"As p value is greater than significance value, fail to reject null hypothesis\")\n",
        "else:\n",
        "  print(\"As p value is less than significance value,reject null hypothesis\")"
      ],
      "metadata": {
        "colab": {
          "base_uri": "https://localhost:8080/",
          "height": 0
        },
        "id": "NErHiOKz3VF-",
        "outputId": "b6f49bd4-09ba-49c2-88b8-40ab3062a306"
      },
      "execution_count": 120,
      "outputs": [
        {
          "output_type": "stream",
          "name": "stdout",
          "text": [
            "test_statistic: 0.35534950350497163\n",
            "p value: 0.7012260205521488\n",
            "**************************************************\n",
            "As p value is greater than significance value, fail to reject null hypothesis\n"
          ]
        }
      ]
    },
    {
      "cell_type": "markdown",
      "source": [
        "**Conclusion:**\n",
        "\n",
        "Since the p-value is greater than the 5% significance level, we failed to reject the null hypothesis.Hence, we have enough statistical evidence to prove that mean Viral Load of Females is same for severity level 0,1 and 2."
      ],
      "metadata": {
        "id": "_FaCFHeC3f_b"
      }
    },
    {
      "cell_type": "code",
      "source": [
        "# Summary of Hypothesis Testing using pretty Table\n",
        "\n",
        "table=PrettyTable([\"Index\",\"Null Hypothesis\",\"Test\",\"p value\",\"Result\"])\n",
        "table.add_row([\"1.\",\"Hospitalization charges of smokers and non-smokers are equal\",\"T-Test\",round(p_value_smoker,2),\"Reject H0\"])\n",
        "table.add_row([\"2.\",\"Viral Load of Females and Males are same\",\"T-Test\",round(p_value_sex,2),\"Accept H0\"])\n",
        "table.add_row([\"3.\",\"Proportion of smoking is same across all regions\",\"Chi-Square Test\",round(p_value_region,2),\"Accept H0\"])\n",
        "table.add_row([\"4.\",\"Mean Viral Load of Females is same for severity level 0,1 and 2.\",\"Anova Test\",round(p_value,2),\"Accept H0\"])\n",
        "print(table)"
      ],
      "metadata": {
        "colab": {
          "base_uri": "https://localhost:8080/",
          "height": 0
        },
        "id": "xnUg9YZ_Vi2-",
        "outputId": "94b3175d-dd99-4b30-996b-a8a665df78df"
      },
      "execution_count": 121,
      "outputs": [
        {
          "output_type": "stream",
          "name": "stdout",
          "text": [
            "+-------+------------------------------------------------------------------+-----------------+---------+-----------+\n",
            "| Index |                         Null Hypothesis                          |       Test      | p value |   Result  |\n",
            "+-------+------------------------------------------------------------------+-----------------+---------+-----------+\n",
            "|   1.  |   Hospitalization charges of smokers and non-smokers are equal   |      T-Test     |   0.0   | Reject H0 |\n",
            "|   2.  |             Viral Load of Females and Males are same             |      T-Test     |   0.25  | Accept H0 |\n",
            "|   3.  |         Proportion of smoking is same across all regions         | Chi-Square Test |   0.06  | Accept H0 |\n",
            "|   4.  | Mean Viral Load of Females is same for severity level 0,1 and 2. |    Anova Test   |   0.7   | Accept H0 |\n",
            "+-------+------------------------------------------------------------------+-----------------+---------+-----------+\n"
          ]
        }
      ]
    },
    {
      "cell_type": "markdown",
      "source": [
        "##**Insights:**\n",
        "\n",
        "1. People who smoke has high average value of hospitalization charges compared to non-smokers.\n",
        "2. Age and Hospitalisation charge have a relatively linear connection,it is high for the old aged while its less for the young. The same thing was observed in the correlation plot.\n",
        "3. With increase in viral load, hospitalization charges is also increasing for people who do smoking. But for non-smokers same is not observed.\n",
        "4. Males have high Hospitalisation charge compared to females. Also, number of male smokers are more than female smokers.\n",
        "5. Males who do smoking have high average hospitalization charge compared to female who do smoking.\n",
        "6. Average Hospitalization charge from southeast region is more as the number of smoker from southeast region is highest among other regions.\n",
        "7. Average Hospitalization charge is high for people having severity level 2 and 3 whereas it is low for severity level 0 and 5.\n",
        "8. Smoking has a dependency on Age group. Adults and Middle aged people tends to smoke more frequently than young and old age group people.\n",
        "9. Severity level has a inverse relation with smoking. As the severity level of patients is increasing, no of people who smoke is decreasing."
      ],
      "metadata": {
        "id": "loHPpXY9_7dm"
      }
    },
    {
      "cell_type": "markdown",
      "source": [
        "##**Recommendations:**\n",
        "\n",
        "1. Smoking is the one of the primary reason for hospitalization. Hospital can launch some Anti smoking compaign to discourage people especially males from smoking and can demonstrate the impact of smoking on human body and some efficient ways to stop it.\n",
        "2. There are patients who are smoking even at the severity level of 2 and 3. They should be highly discouraged to quit smoking.\n",
        "3. As per analysis, Older people are getting more hospitalized than young people. A plan like routine health checks can be added by an insurance provider to identify sickness at very beginning level. Also some discount in insurance can be provided to these people to lower their insurance cost.\n",
        "4. When compared to other region,total cost of hospitalisation is higher in southeast region.Some research can be conducted in southeast area to determine the causes of the region's rising illness rates and to determine the best course of action.\n",
        "5. As Patients with high viral load have higher average hospitalization charge, proper health advise, routine check-up and well treatment should be given to these patients so that they can recover quickly."
      ],
      "metadata": {
        "id": "gTjTBZguDAjZ"
      }
    }
  ]
}